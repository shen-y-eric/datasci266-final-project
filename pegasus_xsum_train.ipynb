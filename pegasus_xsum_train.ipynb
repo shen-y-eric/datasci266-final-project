{
  "cells": [
    {
      "cell_type": "markdown",
      "metadata": {
        "id": "t1eOdF4gDboY"
      },
      "source": [
        "##Install necessary libraries"
      ]
    },
    {
      "cell_type": "code",
      "execution_count": null,
      "metadata": {
        "colab": {
          "base_uri": "https://localhost:8080/"
        },
        "id": "TNj4R__RfTdD",
        "outputId": "92a05ccd-a812-4bde-f883-824a3dd21ebf"
      },
      "outputs": [
        {
          "output_type": "stream",
          "name": "stdout",
          "text": [
            "\u001b[?25l   \u001b[90m━━━━━━━━━━━━━━━━━━━━━━━━━━━━━━━━━━━━━━━━\u001b[0m \u001b[32m0.0/547.8 kB\u001b[0m \u001b[31m?\u001b[0m eta \u001b[36m-:--:--\u001b[0m\r\u001b[2K   \u001b[90m━━━━━━━━━━━━━━━━━━━━━━━━━━━━━━━━━━━━━━━━\u001b[0m \u001b[32m547.8/547.8 kB\u001b[0m \u001b[31m30.6 MB/s\u001b[0m eta \u001b[36m0:00:00\u001b[0m\n",
            "\u001b[?25h\u001b[?25l   \u001b[90m━━━━━━━━━━━━━━━━━━━━━━━━━━━━━━━━━━━━━━━━\u001b[0m \u001b[32m0.0/116.3 kB\u001b[0m \u001b[31m?\u001b[0m eta \u001b[36m-:--:--\u001b[0m\r\u001b[2K   \u001b[90m━━━━━━━━━━━━━━━━━━━━━━━━━━━━━━━━━━━━━━━━\u001b[0m \u001b[32m116.3/116.3 kB\u001b[0m \u001b[31m9.7 MB/s\u001b[0m eta \u001b[36m0:00:00\u001b[0m\n",
            "\u001b[2K   \u001b[90m━━━━━━━━━━━━━━━━━━━━━━━━━━━━━━━━━━━━━━━━\u001b[0m \u001b[32m316.1/316.1 kB\u001b[0m \u001b[31m23.8 MB/s\u001b[0m eta \u001b[36m0:00:00\u001b[0m\n",
            "\u001b[2K   \u001b[90m━━━━━━━━━━━━━━━━━━━━━━━━━━━━━━━━━━━━━━━━\u001b[0m \u001b[32m39.9/39.9 MB\u001b[0m \u001b[31m52.2 MB/s\u001b[0m eta \u001b[36m0:00:00\u001b[0m\n",
            "\u001b[2K   \u001b[90m━━━━━━━━━━━━━━━━━━━━━━━━━━━━━━━━━━━━━━━━\u001b[0m \u001b[32m64.9/64.9 kB\u001b[0m \u001b[31m4.5 MB/s\u001b[0m eta \u001b[36m0:00:00\u001b[0m\n",
            "\u001b[2K   \u001b[90m━━━━━━━━━━━━━━━━━━━━━━━━━━━━━━━━━━━━━━━━\u001b[0m \u001b[32m134.8/134.8 kB\u001b[0m \u001b[31m12.5 MB/s\u001b[0m eta \u001b[36m0:00:00\u001b[0m\n",
            "\u001b[2K   \u001b[90m━━━━━━━━━━━━━━━━━━━━━━━━━━━━━━━━━━━━━━━━\u001b[0m \u001b[32m194.1/194.1 kB\u001b[0m \u001b[31m18.0 MB/s\u001b[0m eta \u001b[36m0:00:00\u001b[0m\n",
            "\u001b[?25h\u001b[31mERROR: pip's dependency resolver does not currently take into account all the packages that are installed. This behaviour is the source of the following dependency conflicts.\n",
            "torch 2.3.1+cu121 requires nvidia-cublas-cu12==12.1.3.1; platform_system == \"Linux\" and platform_machine == \"x86_64\", which is not installed.\n",
            "torch 2.3.1+cu121 requires nvidia-cuda-cupti-cu12==12.1.105; platform_system == \"Linux\" and platform_machine == \"x86_64\", which is not installed.\n",
            "torch 2.3.1+cu121 requires nvidia-cuda-nvrtc-cu12==12.1.105; platform_system == \"Linux\" and platform_machine == \"x86_64\", which is not installed.\n",
            "torch 2.3.1+cu121 requires nvidia-cuda-runtime-cu12==12.1.105; platform_system == \"Linux\" and platform_machine == \"x86_64\", which is not installed.\n",
            "torch 2.3.1+cu121 requires nvidia-cudnn-cu12==8.9.2.26; platform_system == \"Linux\" and platform_machine == \"x86_64\", which is not installed.\n",
            "torch 2.3.1+cu121 requires nvidia-cufft-cu12==11.0.2.54; platform_system == \"Linux\" and platform_machine == \"x86_64\", which is not installed.\n",
            "torch 2.3.1+cu121 requires nvidia-curand-cu12==10.3.2.106; platform_system == \"Linux\" and platform_machine == \"x86_64\", which is not installed.\n",
            "torch 2.3.1+cu121 requires nvidia-cusolver-cu12==11.4.5.107; platform_system == \"Linux\" and platform_machine == \"x86_64\", which is not installed.\n",
            "torch 2.3.1+cu121 requires nvidia-cusparse-cu12==12.1.0.106; platform_system == \"Linux\" and platform_machine == \"x86_64\", which is not installed.\n",
            "torch 2.3.1+cu121 requires nvidia-nccl-cu12==2.20.5; platform_system == \"Linux\" and platform_machine == \"x86_64\", which is not installed.\n",
            "torch 2.3.1+cu121 requires nvidia-nvtx-cu12==12.1.105; platform_system == \"Linux\" and platform_machine == \"x86_64\", which is not installed.\n",
            "cudf-cu12 24.4.1 requires pyarrow<15.0.0a0,>=14.0.1, but you have pyarrow 17.0.0 which is incompatible.\n",
            "gcsfs 2024.6.1 requires fsspec==2024.6.1, but you have fsspec 2024.5.0 which is incompatible.\n",
            "google-colab 1.0.0 requires requests==2.31.0, but you have requests 2.32.3 which is incompatible.\n",
            "ibis-framework 8.0.0 requires pyarrow<16,>=2, but you have pyarrow 17.0.0 which is incompatible.\u001b[0m\u001b[31m\n",
            "\u001b[2K   \u001b[90m━━━━━━━━━━━━━━━━━━━━━━━━━━━━━━━━━━━━━━━━\u001b[0m \u001b[32m296.4/296.4 kB\u001b[0m \u001b[31m24.4 MB/s\u001b[0m eta \u001b[36m0:00:00\u001b[0m\n",
            "\u001b[2K   \u001b[90m━━━━━━━━━━━━━━━━━━━━━━━━━━━━━━━━━━━━━━━━\u001b[0m \u001b[32m19.7/19.7 MB\u001b[0m \u001b[31m89.4 MB/s\u001b[0m eta \u001b[36m0:00:00\u001b[0m\n",
            "\u001b[?25hCollecting bitsandbytes\n",
            "  Downloading bitsandbytes-0.43.3-py3-none-manylinux_2_24_x86_64.whl.metadata (3.5 kB)\n",
            "Requirement already satisfied: torch in /usr/local/lib/python3.10/dist-packages (from bitsandbytes) (2.3.1+cu121)\n",
            "Requirement already satisfied: numpy in /usr/local/lib/python3.10/dist-packages (from bitsandbytes) (1.26.4)\n",
            "Requirement already satisfied: filelock in /usr/local/lib/python3.10/dist-packages (from torch->bitsandbytes) (3.15.4)\n",
            "Requirement already satisfied: typing-extensions>=4.8.0 in /usr/local/lib/python3.10/dist-packages (from torch->bitsandbytes) (4.12.2)\n",
            "Requirement already satisfied: sympy in /usr/local/lib/python3.10/dist-packages (from torch->bitsandbytes) (1.13.1)\n",
            "Requirement already satisfied: networkx in /usr/local/lib/python3.10/dist-packages (from torch->bitsandbytes) (3.3)\n",
            "Requirement already satisfied: jinja2 in /usr/local/lib/python3.10/dist-packages (from torch->bitsandbytes) (3.1.4)\n",
            "Requirement already satisfied: fsspec in /usr/local/lib/python3.10/dist-packages (from torch->bitsandbytes) (2024.5.0)\n",
            "Requirement already satisfied: nvidia-cuda-nvrtc-cu12==12.1.105 in /usr/local/lib/python3.10/dist-packages (from torch->bitsandbytes) (12.1.105)\n",
            "Requirement already satisfied: nvidia-cuda-runtime-cu12==12.1.105 in /usr/local/lib/python3.10/dist-packages (from torch->bitsandbytes) (12.1.105)\n",
            "Requirement already satisfied: nvidia-cuda-cupti-cu12==12.1.105 in /usr/local/lib/python3.10/dist-packages (from torch->bitsandbytes) (12.1.105)\n",
            "Requirement already satisfied: nvidia-cudnn-cu12==8.9.2.26 in /usr/local/lib/python3.10/dist-packages (from torch->bitsandbytes) (8.9.2.26)\n",
            "Requirement already satisfied: nvidia-cublas-cu12==12.1.3.1 in /usr/local/lib/python3.10/dist-packages (from torch->bitsandbytes) (12.1.3.1)\n",
            "Requirement already satisfied: nvidia-cufft-cu12==11.0.2.54 in /usr/local/lib/python3.10/dist-packages (from torch->bitsandbytes) (11.0.2.54)\n",
            "Requirement already satisfied: nvidia-curand-cu12==10.3.2.106 in /usr/local/lib/python3.10/dist-packages (from torch->bitsandbytes) (10.3.2.106)\n",
            "Requirement already satisfied: nvidia-cusolver-cu12==11.4.5.107 in /usr/local/lib/python3.10/dist-packages (from torch->bitsandbytes) (11.4.5.107)\n",
            "Requirement already satisfied: nvidia-cusparse-cu12==12.1.0.106 in /usr/local/lib/python3.10/dist-packages (from torch->bitsandbytes) (12.1.0.106)\n",
            "Requirement already satisfied: nvidia-nccl-cu12==2.20.5 in /usr/local/lib/python3.10/dist-packages (from torch->bitsandbytes) (2.20.5)\n",
            "Requirement already satisfied: nvidia-nvtx-cu12==12.1.105 in /usr/local/lib/python3.10/dist-packages (from torch->bitsandbytes) (12.1.105)\n",
            "Requirement already satisfied: triton==2.3.1 in /usr/local/lib/python3.10/dist-packages (from torch->bitsandbytes) (2.3.1)\n",
            "Requirement already satisfied: nvidia-nvjitlink-cu12 in /usr/local/lib/python3.10/dist-packages (from nvidia-cusolver-cu12==11.4.5.107->torch->bitsandbytes) (12.6.20)\n",
            "Requirement already satisfied: MarkupSafe>=2.0 in /usr/local/lib/python3.10/dist-packages (from jinja2->torch->bitsandbytes) (2.1.5)\n",
            "Requirement already satisfied: mpmath<1.4,>=1.1.0 in /usr/local/lib/python3.10/dist-packages (from sympy->torch->bitsandbytes) (1.3.0)\n",
            "Downloading bitsandbytes-0.43.3-py3-none-manylinux_2_24_x86_64.whl (137.5 MB)\n",
            "\u001b[2K   \u001b[90m━━━━━━━━━━━━━━━━━━━━━━━━━━━━━━━━━━━━━━━━\u001b[0m \u001b[32m137.5/137.5 MB\u001b[0m \u001b[31m5.8 MB/s\u001b[0m eta \u001b[36m0:00:00\u001b[0m\n",
            "\u001b[?25hInstalling collected packages: bitsandbytes\n",
            "Successfully installed bitsandbytes-0.43.3\n",
            "\u001b[2K     \u001b[90m━━━━━━━━━━━━━━━━━━━━━━━━━━━━━━━━━━━━━━━━\u001b[0m \u001b[32m58.0/58.0 kB\u001b[0m \u001b[31m5.2 MB/s\u001b[0m eta \u001b[36m0:00:00\u001b[0m\n",
            "\u001b[2K   \u001b[90m━━━━━━━━━━━━━━━━━━━━━━━━━━━━━━━━━━━━━━━━\u001b[0m \u001b[32m106.7/106.7 kB\u001b[0m \u001b[31m12.8 MB/s\u001b[0m eta \u001b[36m0:00:00\u001b[0m\n",
            "\u001b[?25h  Preparing metadata (setup.py) ... \u001b[?25l\u001b[?25hdone\n",
            "  Building wheel for rouge_score (setup.py) ... \u001b[?25l\u001b[?25hdone\n"
          ]
        }
      ],
      "source": [
        "!pip install -q transformers datasets\n",
        "!pip install -q peft\n",
        "!pip install -q accelerate\n",
        "!pip install -U bitsandbytes\n",
        "!pip install -q sacrebleu\n",
        "!pip install -q rouge_score\n",
        "!pip install -q evaluate"
      ]
    },
    {
      "cell_type": "markdown",
      "metadata": {
        "id": "FL5sHsSQDkFE"
      },
      "source": [
        "## Load and clean MIMIC-IV-Notes dataset"
      ]
    },
    {
      "cell_type": "code",
      "execution_count": null,
      "metadata": {
        "id": "T7qtrCnlB11r"
      },
      "outputs": [],
      "source": [
        "from pprint import pprint"
      ]
    },
    {
      "cell_type": "code",
      "execution_count": null,
      "metadata": {
        "colab": {
          "base_uri": "https://localhost:8080/"
        },
        "id": "xfgOmyfaDUIt",
        "outputId": "ac5a2ee2-3db4-4634-c545-d8c41db8c7b1"
      },
      "outputs": [
        {
          "output_type": "stream",
          "name": "stdout",
          "text": [
            "Mounted at /content/drive\n"
          ]
        }
      ],
      "source": [
        "from google.colab import drive\n",
        "drive.mount('/content/drive')"
      ]
    },
    {
      "cell_type": "code",
      "execution_count": null,
      "metadata": {
        "id": "OtqGfJh5GogV"
      },
      "outputs": [],
      "source": [
        "def clean_text(text):\n",
        "  text = text.replace('\\n', ' ')\n",
        "  text = ' '.join(text.split())\n",
        "  return text\n",
        "\n",
        "sample_size = 10000"
      ]
    },
    {
      "cell_type": "code",
      "execution_count": null,
      "metadata": {
        "id": "vphO1qDDDd_G"
      },
      "outputs": [],
      "source": [
        "import pandas as pd\n",
        "data = pd.read_csv('/content/drive/MyDrive/discharge.csv', keep_default_na = False)\n",
        "\n",
        "data = data.sample(n=sample_size, random_state=42)\n",
        "data['text'] = data['text'].apply(clean_text)"
      ]
    },
    {
      "cell_type": "code",
      "execution_count": null,
      "metadata": {
        "id": "KYEEzJdNB_cu"
      },
      "outputs": [],
      "source": [
        "import re\n",
        "\n",
        "def extract_sections(text):\n",
        "    # Regex to match the discharge instructions section\n",
        "    discharge_pattern = re.compile(r\"Discharge Instructions:(.*)\", re.DOTALL)\n",
        "    match = discharge_pattern.search(text)\n",
        "    if match:\n",
        "        discharge_summary = match.group(1).strip()\n",
        "        rest_of_text = text.replace(discharge_summary, \"\").strip()\n",
        "        return rest_of_text, discharge_summary\n",
        "    return None, None\n",
        "\n",
        "input_texts = []\n",
        "output_texts = []\n",
        "\n",
        "for index, row in data.iterrows():\n",
        "    input_text, discharge_instructions = extract_sections(row['text'])\n",
        "    if input_text and discharge_instructions:\n",
        "        input_texts.append(input_text)\n",
        "        output_texts.append(discharge_instructions)"
      ]
    },
    {
      "cell_type": "code",
      "execution_count": null,
      "metadata": {
        "colab": {
          "base_uri": "https://localhost:8080/",
          "height": 105
        },
        "id": "8wST4HzEFkiz",
        "outputId": "8798f1d3-a688-4ada-bf04-9288d1e08ea7"
      },
      "outputs": [
        {
          "output_type": "execute_result",
          "data": {
            "text/plain": [
              "\"Name: ___ Unit No: ___ Admission Date: ___ Discharge Date: ___ Date of Birth: ___ Sex: F Service: MEDICINE Allergies: Anticholinergics,Other / Reglan Attending: ___. Chief Complaint: Abdominal pain Major Surgical or Invasive Procedure: None History of Present Illness: Patient is a ___ yo woman with history of chronic pancreatitis s/p cholecystectomy and sphincterotomy who presents with 1wk of worsening abdominal pain. As per patient, the pain is intermittent, sharp and ___ in quality. It localizes to her mid/righ upper abdomen and radiates up the chest wall and to the back. Patient finds this pain to be very similar to her prior pancreatitis flare-ups. Denies precipitants including alcohol use, abd. trauma, infections or h/o gallstones. She notes that she is on a restricted diet (no caffeine/fatty food/fried food/dairy) as part of her pancreatitis management. Also notes that pain worsens with meals; and that it is alleviated when NPO, or with NSAIDs and dilaudid. . Patient was initally seen by her PCP ___ ___ for worsening pain. She was treated with PO Zofran and NSAIDs. As pain failed to improve, she presented to ___ ED on ___. In the ED vitals were T 99.6, HR 77, BP 104/56, RR 16, O2 sat 98% on RA. Patient received 8 mg IV morphine and zofran. She was admitted to medicine for pain control. Past Medical History: 1. Chronic pancreatitis - (First episode ___. Pt has had been laparoscopic cholecystectomy (___), dietary modifications and ERCP w sphincterotomy (___). Most recent flare on ___ pt responded to IV hydration and tylenol). 2. Cholecystectomy (___) 3. Ampulary stricture s/p sphincterectomy ___ 4. s/p R ovary removal 5. Pseudocholinesterase deficiency 6. EBV mononucleosis (___) Social History: ___ Family History: Significant for pseudocholinesterase defficiency in sister and sister's children. Family well otherwise. No history of hereditary pancreatitits. Physical Exam: Vitals - afebrile, satting well on room air GENERAL: NAD, pleasant, speaking in full sentences; HEENT: EOMI, pupils constricted bilaterally 3->2 mm; MMM, OP clear/non-inflammed; no sinus tenderness; Neck: no JVD appreciated; no LAD; C/V: RRR, nl S1 S2, no murmur/rubs/gallops Resp: CTA-B, no wheezes/crackles/rhonchi; Abd: soft, non-distended, no masses/organomegally; No CVA tenderness; moderate tenderness to palpation w guarding in epigastrium and RUQ. No tenderness to gentle stethescope pressure. Ext: WWP; 2+ distal pulses ___ bilaterally. Neuro: CN II-XII intact; ___ strength ___ throughout; Derm: No rashes; Pertinent Results: ___ 01:39PM BLOOD WBC-9.4# RBC-3.96* Hgb-12.7 Hct-36.5 MCV-92 MCH-31.9 MCHC-34.7 RDW-12.3 Plt ___ ___ 06:40AM BLOOD WBC-5.0 RBC-3.69* Hgb-11.5* Hct-33.5* MCV-91 MCH-31.1 MCHC-34.2 RDW-12.9 Plt ___ ___ 01:39PM BLOOD Glucose-74 UreaN-8 Creat-0.7 Na-138 K-4.2 Cl-105 HCO3-24 AnGap-13 ___ 06:40AM BLOOD Glucose-82 UreaN-4* Creat-0.6 Na-141 K-4.1 Cl-109* HCO3-22 AnGap-14 ___:39PM BLOOD ALT-8 AST-14 AlkPhos-41 TotBili-0.7 ___ 06:25AM BLOOD ALT-9 AST-14 AlkPhos-36* Amylase-147* TotBili-0.7 ___ 01:39PM BLOOD Lipase-23 ___ 06:25AM BLOOD Lipase-62* ___ 06:25AM BLOOD Albumin-3.4 Calcium-8.3* Phos-2.1* Mg-2.0 ___ 06:40AM BLOOD Calcium-8.8 Phos-2.6* Mg-1.9 ___ 12:00PM BLOOD ___ ___ 06:25AM BLOOD IgA-58* ___ 12:00PM BLOOD tTG-IgA-1 ___ 12:00PM BLOOD C1 INHIBITOR-PND ___ 06:25AM BLOOD IGG SUBCLASSES 1,2,3,4-PND MRCP: IMPRESSION: Fluid signal at the root of the mesentry and the region of the hepatic flexure. These findings may reflect sequela of pancreatitis. There is no evidence of a drainable fluid collection or pancreatic necrosis. There is no pancreatic ductal dilatation. CT Ab: IMPRESSION: 1. No evidence of biliary dilatation. 2. Unremarkable visualized portion of pancreas. 3. Unremarkable post-cholecystectomy right upper quadrant ultrasound. Brief Hospital Course: ___ F with h/o chronic pancreatitis presenting with flair. . # ACUTE ON CHRONIC ABDOMINAL PAIN: Paitient with history of chronic pancreatitis. Upon reviewing old hospital records obtained from her PCP ___ has only had one attach pf pancreatitis (lipase 1400). Her pancreatic enzymes were not elevated on this admission. She did report worsening pain with eating especially fatty foods. She is status post ERCP with sphincterotomy. After her first sphyncerotomy her symptoms improved for almost a year. An MRCP done without secretin only showed possible pancreatitis without evidence of obstruction. She improved with bowel rest and pain medication. She was able to tolarate a clear diet and advanced to a low residue diet. GI evaluated her and felt this may be related to biliary restenosis. She will need close GI follow up and possible repeat ERCP. A work up for other causes of abdmonal pain was undertaken. ESR was normal, ___ was negative, C1 inhibitor was normal, IgG was mildly low, Patient noted to be IgA deficient and thus TTG was unable to rule out celiac. . # CODE: Patient was initially DNR/DNI. After further discussion she was made Full code. She likely would benefit from an advanced directive. . # CONTACT: Mother (___) Medications on Admission: - Nuvaring - Tylenol PRN - Zofran PRN Discharge Medications: 1. Acetaminophen 325 mg Tablet Sig: One (1) Tablet PO Q6H (every 6 hours) as needed. 2. Omeprazole 20 mg Capsule, Delayed Release(E.C.) Sig: One (1) Capsule, Delayed Release(E.C.) PO DAILY (Daily). Disp:*30 Capsule, Delayed Release(E.C.)(s)* Refills:*2* 3. Zofran 4 mg Tablet Sig: One (1) Tablet PO every eight (8) hours as needed for nausea. Discharge Disposition: Home Discharge Diagnosis: Abdominal pain Inability to take PO Discharge Condition: Stable - Baseline pain, able to take PO Discharge Instructions:\""
            ],
            "application/vnd.google.colaboratory.intrinsic+json": {
              "type": "string"
            }
          },
          "metadata": {},
          "execution_count": 8
        }
      ],
      "source": [
        "input_texts[0]"
      ]
    },
    {
      "cell_type": "code",
      "execution_count": null,
      "metadata": {
        "colab": {
          "base_uri": "https://localhost:8080/",
          "height": 105
        },
        "id": "Bx_P-mqlFqx5",
        "outputId": "aa1e280a-279d-41ef-af5d-da165174bbc6"
      },
      "outputs": [
        {
          "output_type": "execute_result",
          "data": {
            "text/plain": [
              "'You were admitted to the hospital because of abdominal pain and inibility to eat secondary to pain. You were given IV pain medication and fluids. Over the course of your stay you were slowly able to eat more starting with fluids first. You tolerated a low residue diet with your baseline amount of pain. You were seen by the ___ doctors in the hospital who recommended tests to be sent out to look for a cause of your pain. No cause could be found. Medication changes: You were started on Omeprazole 20mg once a day. Remember to avoid dairy products and try to eat a low residue bland diet. Your appointment with Dr. ___ was changed to ___ at 11am. Please return to the hospital or call your doctor if you have temperature greater than 101, shortness of breath, worsening difficulty with swallowing, chest pain, abdominal pain, diarrhea, or any other symptoms that you are concerned about. Followup Instructions: ___'"
            ],
            "application/vnd.google.colaboratory.intrinsic+json": {
              "type": "string"
            }
          },
          "metadata": {},
          "execution_count": 9
        }
      ],
      "source": [
        "output_texts[0]"
      ]
    },
    {
      "cell_type": "code",
      "execution_count": null,
      "metadata": {
        "colab": {
          "base_uri": "https://localhost:8080/"
        },
        "id": "HjvHEYvyH-rU",
        "outputId": "11d3096f-095c-4b5a-88b4-b663917dc17d"
      },
      "outputs": [
        {
          "output_type": "execute_result",
          "data": {
            "text/plain": [
              "9925"
            ]
          },
          "metadata": {},
          "execution_count": 10
        }
      ],
      "source": [
        "len(output_texts)"
      ]
    },
    {
      "cell_type": "code",
      "execution_count": null,
      "metadata": {
        "id": "3TtKQLsFD8E1"
      },
      "outputs": [],
      "source": [
        "from datasets import Dataset\n",
        "dataset = []\n",
        "\n",
        "for input_text, output_text in zip(input_texts, output_texts):\n",
        "    dataset.append({\n",
        "        \"input\": input_text,\n",
        "        \"output\": output_text\n",
        "    })\n",
        "\n",
        "dataset = Dataset.from_list(dataset)\n",
        "train_test_dataset = dataset.train_test_split(test_size=0.2)\n",
        "test_valid = train_test_dataset['test'].train_test_split(test_size=0.5)\n",
        "train = train_test_dataset[\"train\"]\n",
        "valid = test_valid[\"train\"]\n",
        "test = test_valid[\"test\"]"
      ]
    },
    {
      "cell_type": "code",
      "execution_count": null,
      "metadata": {
        "colab": {
          "base_uri": "https://localhost:8080/"
        },
        "id": "fcNWBN1BTaIH",
        "outputId": "8ad9d1df-8398-42bb-8be4-9c9617f8a571"
      },
      "outputs": [
        {
          "output_type": "execute_result",
          "data": {
            "text/plain": [
              "Dataset({\n",
              "    features: ['input', 'output'],\n",
              "    num_rows: 7940\n",
              "})"
            ]
          },
          "metadata": {},
          "execution_count": 12
        }
      ],
      "source": [
        "train"
      ]
    },
    {
      "cell_type": "code",
      "execution_count": null,
      "metadata": {
        "id": "OvGz4obbN5o2"
      },
      "outputs": [],
      "source": [
        "from transformers import BitsAndBytesConfig\n",
        "import torch\n",
        "\n",
        "nf4_config = BitsAndBytesConfig(\n",
        "   load_in_4bit=True,\n",
        "   bnb_4bit_quant_type=\"nf4\",\n",
        "   bnb_4bit_use_double_quant=True,\n",
        "   bnb_4bit_compute_dtype=torch.bfloat16\n",
        ")"
      ]
    },
    {
      "cell_type": "code",
      "execution_count": null,
      "metadata": {
        "colab": {
          "base_uri": "https://localhost:8080/",
          "height": 105
        },
        "id": "eNn16OCXgfiX",
        "outputId": "c905480d-1eef-4bd1-99e1-e3722bb77cb5"
      },
      "outputs": [
        {
          "output_type": "execute_result",
          "data": {
            "text/plain": [
              "\"Name: ___ Unit No: ___ Admission Date: ___ Discharge Date: ___ Date of Birth: ___ Sex: M Service: MEDICINE Allergies: naproxen / ibuprofen Attending: ___. Chief Complaint: Back pain Major Surgical or Invasive Procedure: None this hospitalization History of Present Illness: HISTORY OF PRESENT ILLNESS: This patient is a ___ year old male who complains of low back pain w/ herniated disc (L 3-L4) and previous laminectomy L2-L5 last year @ ___- presents w/ ___ pain- difficulty walking. Patient states that he has been having left-sided back pain radiating down to his left hip. No inc stool/urine. +chronic constipation (not assoc with onset of back pain). Took 25mg Oxycodone last night and fell OOB after this- No head trauma- Usually takes 20mg Oxycodone for pain exacerbations. No fevers or chills. No chest pain or shortness of breath. In the ED, initial vitals were: Temp: 98.8 HR: 101 BP: 132/74 Resp: 16 O(2)Sat: 95 Normal On the floor, Patient had notes regarding the h/o his back pain. He has had low back pain for many years. He had back surgery in ___, without improvement in symptoms. Starting ___ mos ago the low back pain w/radiation to the left buttock has increased and he has started having weakness in his legs (L>R). He has fallen 5x in the past 5 weeks (including twice last night due to excessive oxycodone -he also hallucinated, which he has done in the past when taking oxycodone after his surgery). No head injuries. He was originally treated with ___, which was d/c'd because it increased his pain. He was then prescribed oxycodone 10 mg ___ prn) and then Neurontin 900 mg qdaily and then lkowered to 300 mg qdaily due to SE's of fatigue, somnelence. Pain is intermittant, ___ at worse, awakens Pt from sleep. Worse when lying down, best while sitting up. MRI done at ___ 2 wks ago. Had 2 series of cortisone injections for pain, w/o improvement. Scheduled to get more tomorrow. Surgery sched on ___ with Dr. ___. Denies saddle anesthesia, recent infection. NL colonoscopy ___ yrs ago, no h/o prostate CA. Patient also c/o intermittent L knee pain, sharp in nature, which occurs mostly at night while lying in bed. Review of systems: (+) Per HPI (-) Denies fever, chills, Denies dizziness. Denies cough, shortness of breath. Denies chest pain. Denies nausea, vomiting, diarrhea, No recent change in bowel or bladder habits. No hematuria. Past Medical History: Barretts Esophagus Depression Hypertension Paroxysmal atrial fibrillation Type II Diabetes Mellitus Social History: ___ Family History: N/C Physical Exam: ADMISSION PHYSICAL EXAM: Vitals: 98.7 140/70 76 20 97%RA General: Alert, oriented, no acute distress, sitting in chair HEENT: Sclera anicteric, MMM, oropharynx clear, EOMI, PERRL Neck: supple, JVP not elevated, no LAD CV: Regular rate and rhythm, normal S1 + S2, no murmurs, rubs, gallops Lungs: Clear to auscultation bilaterally, no wheezes, rales, rhonchi Abdomen: soft, non-tender, non-distended, bowel sounds present, no organomegaly, no rebound or guarding Back: no tenderness to palpation over spinous processes, or paraspinal, no hip or buttock pain w/palpation GU: no foley Ext: Warm, well perfused, 2+ radial pulses, no clubbing, cyanosis or edema, mild pain with palpation L knee palpation Neuro: CNII-XII grossly intact, ___ strength upper extremities, ___ RLE, 4+ LLE, neg leg raise and crossed leg raise, grossly normal sensation, 3+ patellar reflexes bilaterally, gait deferred DISCHARGE PHYSICAL EXAM VS: Tm 98.0 Tc 97.0 HR 73 BP 137/88 R20 O2 sat 97% General: Alert, oriented, no acute distress HEENT: Sclera anicteric, no conjunctival injection, EOMI Neck: supple CV: Regular rate and rhythm, normal S1 + S2, no murmurs, rubs, gallops Lungs: Clear to auscultation bilaterally, no wheezes, rales, rhonchi Abdomen: soft, non-tender, non-distended, pos bowel sounds GU: no foley Ext: Warm, well perfused, no clubbing, cyanosis or edema Neuro: AOx3, ___ strength upper extremities, ___ strength ___ b/l, sensation intact. Pertinent Results: ADMISSION ___ 04:17PM URINE COLOR-Yellow APPEAR-Clear SP ___ ___ 04:17PM URINE BLOOD-NEG NITRITE-NEG PROTEIN-TR GLUCOSE-NEG KETONE-NEG BILIRUBIN-NEG UROBILNGN-NEG PH-7.5 LEUK-NEG ___ 04:17PM URINE RBC-1 WBC-1 BACTERIA-NONE YEAST-NONE EPI-<1 ___ 04:17PM URINE HYALINE-3* ___ 04:17PM URINE MUCOUS-RARE DISCHARGE ___ 07:30AM BLOOD WBC-4.0 RBC-4.00* Hgb-12.6* Hct-35.3* MCV-88 MCH-31.5 MCHC-35.8* RDW-13.3 Plt ___ ___ 07:30AM BLOOD Plt ___ ___ 07:30AM BLOOD ___ 07:30AM BLOOD Glucose-95 UreaN-32* Creat-1.4* Na-138 K-3.4 Cl-100 HCO3-31 AnGap-10 ___ 07:30AM BLOOD Calcium-9.2 Phos-3.8 Mg-2.3 IMAGING ___ CXR IMPRESSION: Mild cardiac enlargement, but no evidence of significant CHF or acute infiltrates on this preoperative chest examination. Brief Hospital Course: Mr. ___ presented to the ED for progressive lumbar pain and subjective weakness in his legs. Neurologic examination was normal. There was no evidence of an infectious process. His pain was ultimately well controlled without significant changes to his home medication regimen. He was evaluated by his neurosurgeon here who offered to schedule his planned surgery sooner (___) given his ongoing pain. Ultimately however, Mr ___ elected to pursue conservative therapy with physical therapy possibly to include traction, and to have ongoing discussions with Dr. ___ ___ any further surgery. His pain improved during the brief hospitalization, and he was independently ambulatory without difficulty or significant pain on the day of discharge. He was also noted to have acute renal insufficiency on presentation. His creatinine improved slightly here with IV hydration and his ___ was held. He was not significantly hypertensive with the holding of this medication. We have asked that he have a chemistry 7 checked within a week, and to discuss with his primary MD the possible re-initiation of his ___ should his renal function normalize and allow this. His serum creatinine on the day of discharge was 1.4, down from a peak of 1.5 on presentation (baseline likely 0.9 to 1.0). Medications on Admission: The Preadmission Medication list is accurate and complete. 1. Omeprazole 20 mg PO BID 2. LaMOTrigine 200 mg PO QAM 3. Amlodipine 5 mg PO DAILY 4. Losartan Potassium 100 mg PO DAILY 5. Phenelzine Sulfate 30 mg PO QAM 6. LaMOTrigine 100 mg PO QPM 7. Phenelzine Sulfate 15 mg PO QPM 8. Gabapentin 100 mg PO BID 9. Atorvastatin 20 mg PO HS 10. Tamsulosin 0.8 mg PO HS 11. ClonazePAM 1.5 mg PO QHS:PRN insomnia 12. QUEtiapine Fumarate 25 mg PO QHS 13. Piroxicam 10 mg PO DAILY 14. Hydrochlorothiazide 12.5 mg PO DAILY 15. Milk of Magnesia 120 mL PO DAILY:PRN constipation 16. Docusate Sodium 400 mg PO DAILY:PRN constipation Discharge Medications: 1. Amlodipine 5 mg PO DAILY 2. Atorvastatin 20 mg PO HS 3. Docusate Sodium 400 mg PO DAILY:PRN constipation 4. Gabapentin 100 mg PO BID 5. Hydrochlorothiazide 12.5 mg PO DAILY 6. LaMOTrigine 200 mg PO QAM 7. LaMOTrigine 100 mg PO QPM 8. Milk of Magnesia 120 mL PO DAILY:PRN constipation 9. Omeprazole 20 mg PO BID 10. Phenelzine Sulfate 30 mg PO QAM 11. Phenelzine Sulfate 15 mg PO QPM 12. QUEtiapine Fumarate 25 mg PO QHS 13. Tamsulosin 0.8 mg PO HS 14. ClonazePAM 1.5 mg PO QHS:PRN insomnia 15. Acetaminophen 1000 mg PO Q8H Do not exceed 3 grams daily. 16. OxycoDONE (Immediate Release) 5 mg PO Q4H:PRN breakthrough pain Avoid taking this medication while driving or if operating machinery. Do not consume with alcohol. RX *oxycodone 5 mg 1 tablet(s) by mouth every 4 hours as needed for pain Disp #*25 Tablet Refills:*0 17. Outpatient Lab Work Please have your electrolytes checked on ___ or ___ next week (___). Basic metabolic panel with calcium and magnesium. FAX RESULTS TO: ___ - ___ 18. Outpatient Physical Therapy Outpatient physical therapy referral for ongoing left sided L3-4 herniated disc protrusion with back pain. ICD-9 CODE: ___.2 Discharge Disposition: Home Discharge Diagnosis: PRIMARY DIAGNOSES: 1. Lumbar spine herniated disc disease 2. Acute kidney injury Discharge Condition: Mental Status: Clear and coherent. Level of Consciousness: Alert and interactive. Activity Status: Ambulatory - requires assistance or aid (walker or cane). Discharge Instructions:\""
            ],
            "application/vnd.google.colaboratory.intrinsic+json": {
              "type": "string"
            }
          },
          "metadata": {},
          "execution_count": 14
        }
      ],
      "source": [
        "train[0]['input']"
      ]
    },
    {
      "cell_type": "markdown",
      "metadata": {
        "id": "s6-rT6I0DI4R"
      },
      "source": [
        "##Baseline"
      ]
    },
    {
      "cell_type": "code",
      "execution_count": null,
      "metadata": {
        "colab": {
          "base_uri": "https://localhost:8080/",
          "height": 400,
          "referenced_widgets": [
            "1ace6c081bca41038b4860c57077b751",
            "9703af95c15741c89c26f22f8f5e9c7d",
            "9e6e6ce35bc345e49e5b61f2da8341f7",
            "a3baaa8c856e4c78b3781fa236600227",
            "eef763a4c3974875810f44f1d81b362f",
            "9492e8e31578456ba3aeede37a51b0d3",
            "36424b2248dc4f2f96b20889ac419f57",
            "23cbb838b0e24073869ee51a86d87fcc",
            "0418f5be7c3f47a4a399744ac5aba5bc",
            "6efddd3131f34e85828641edd9b96fbb",
            "daa29c12615c44c3be3fd9ec2d4e8e48",
            "5c0ff56ef3554e7ebc596eb928a54b28",
            "21e7c66e401e4e559bd868e30bb568a1",
            "34453b7eb7fe483dbe7b148637c9f500",
            "10e056b7eed9485dbe7c77214c73db6e",
            "80ee455b4cd14fff94979179fcf8719f",
            "11b416e534c843a1b18fc75c7fb2ba1a",
            "fb249c7d9bbb41aca25af29af72c9d5a",
            "114c83c1581f46ca9923390950838fd5",
            "6de972479b2849f2bd581181eeab70a4",
            "5628e3cf8aa54cab9e5f3cd1e246035f",
            "ae7c3ab9b10349a98e310b0666d76b4d",
            "f81f2ac4f2364a73a111133f8408a576",
            "8d764d965c314f1fa8a879618cc454d2",
            "d077982a3900429b9922a10690d317a3",
            "12890dd97d24491e9bd1603bed7bfe7f",
            "29867754d3b74bb68a3a3a9008782934",
            "ec6acb8c322348feb0ffbb8c8417a75f",
            "3fb6a1d02d3a42d5b8e2b05392d38de7",
            "52b0a52b018c4c92b90a27601637ee5a",
            "21cb8bb2869d4228ac3958a0f8003bda",
            "500b44532d0d47dd9b8cfcda46f576cc",
            "de8b0ed9b7b8457cb5e3c68351f3feee",
            "83ae392b1afe4e089f3cee557bc86a67",
            "43b8fe900a7846f2bce54575babb517b",
            "1d900447fed74a82a8f9d23a474d4d60",
            "e8d3c74c9b3b48ec874f2ff99ced9717",
            "7e652a742ec64817ad1ab36805f3f14d",
            "0a38fe24aa5d469b87dab37763f1453e",
            "38e8db495ac54c69a194e679ee602bf7",
            "15b323c2d9d24225bf0cb8a89218c44b",
            "83384454052b467ebf55ae9603b36958",
            "bfdd504b6d054b41a58130a59d773388",
            "7befac7a911a474096161082295e2f58",
            "7e1d4a654d9a43b3ab13781d65bf117b",
            "008040b4ee614af383d20db8fa8ce14d",
            "83a181bfad984fc78fbc63b392e22488",
            "f0f62833bded4ee9815a5502cb9bc7df",
            "c14123f43a384e2ca6a1347919510086",
            "06e3d38b4dd84f10be6039382102f31b",
            "ea5a9877b8094c688ac69028effabe44",
            "d9ca5c256278429b835b75f8a75a430d",
            "a22ec51d44ce4af69743d5673a46af10",
            "1ae3e5186a0e4da38cc126b48d370c8e",
            "d019a666f85541a5b8a8091d3580ab39",
            "7f1e1a8b9dc844f693abad07d842ba16",
            "2a23d6dcdbef46ef8f1e820598883efd",
            "2bd4df978c8245c88d53cce9826e78db",
            "89bf556123bf49e0bc5abb309bec550a",
            "d707124f8e204da78391066744c2fc5d",
            "426985cd4c48411a8e2eda3e38a10f81",
            "2cc3b36196ae4726a0d9d75f41209624",
            "da1fc13257b94f1a89a795910ada8b0b",
            "b351dcf9581c42668d598ec25a28d82a",
            "1717251373ba4838bc6cb62977bb2d01",
            "1bb8ec77602a49d097685d93ed8399e9",
            "df7771aa1e0c4e1c91ba09b37904e8ce",
            "daa32459192545d897abfbadaf57f979",
            "57f5a7709fd64126b0c28520c60b4cbd",
            "4a092ef30d054b5887674a37d109199b",
            "de182f3f0336418f8bfffefc34e085f7",
            "3294cb5069b846fd85209c60e125356e",
            "252fd9787c8346e8ac4fdff9ecf423f4",
            "84969687590345ca929d9bd1fdaeac22",
            "e0fd0d712f524d819fafdeada334b1cd",
            "1298458fa05f4d959b31b189a0c5f83c",
            "0dd214123f64459dbdd2fd882b539a7a"
          ]
        },
        "id": "YFUTz8Dhe65B",
        "outputId": "0137efe6-5d7c-4464-fb16-ab8b3e162d50"
      },
      "outputs": [
        {
          "output_type": "stream",
          "name": "stderr",
          "text": [
            "/usr/local/lib/python3.10/dist-packages/huggingface_hub/utils/_token.py:89: UserWarning: \n",
            "The secret `HF_TOKEN` does not exist in your Colab secrets.\n",
            "To authenticate with the Hugging Face Hub, create a token in your settings tab (https://huggingface.co/settings/tokens), set it as secret in your Google Colab and restart your session.\n",
            "You will be able to reuse this secret in all of your notebooks.\n",
            "Please note that authentication is recommended but still optional to access public models or datasets.\n",
            "  warnings.warn(\n"
          ]
        },
        {
          "output_type": "display_data",
          "data": {
            "text/plain": [
              "tokenizer_config.json:   0%|          | 0.00/87.0 [00:00<?, ?B/s]"
            ],
            "application/vnd.jupyter.widget-view+json": {
              "version_major": 2,
              "version_minor": 0,
              "model_id": "1ace6c081bca41038b4860c57077b751"
            }
          },
          "metadata": {}
        },
        {
          "output_type": "display_data",
          "data": {
            "text/plain": [
              "spiece.model:   0%|          | 0.00/1.91M [00:00<?, ?B/s]"
            ],
            "application/vnd.jupyter.widget-view+json": {
              "version_major": 2,
              "version_minor": 0,
              "model_id": "5c0ff56ef3554e7ebc596eb928a54b28"
            }
          },
          "metadata": {}
        },
        {
          "output_type": "display_data",
          "data": {
            "text/plain": [
              "special_tokens_map.json:   0%|          | 0.00/65.0 [00:00<?, ?B/s]"
            ],
            "application/vnd.jupyter.widget-view+json": {
              "version_major": 2,
              "version_minor": 0,
              "model_id": "f81f2ac4f2364a73a111133f8408a576"
            }
          },
          "metadata": {}
        },
        {
          "output_type": "display_data",
          "data": {
            "text/plain": [
              "tokenizer.json:   0%|          | 0.00/3.52M [00:00<?, ?B/s]"
            ],
            "application/vnd.jupyter.widget-view+json": {
              "version_major": 2,
              "version_minor": 0,
              "model_id": "83ae392b1afe4e089f3cee557bc86a67"
            }
          },
          "metadata": {}
        },
        {
          "output_type": "display_data",
          "data": {
            "text/plain": [
              "config.json:   0%|          | 0.00/1.39k [00:00<?, ?B/s]"
            ],
            "application/vnd.jupyter.widget-view+json": {
              "version_major": 2,
              "version_minor": 0,
              "model_id": "7e1d4a654d9a43b3ab13781d65bf117b"
            }
          },
          "metadata": {}
        },
        {
          "output_type": "display_data",
          "data": {
            "text/plain": [
              "pytorch_model.bin:   0%|          | 0.00/2.28G [00:00<?, ?B/s]"
            ],
            "application/vnd.jupyter.widget-view+json": {
              "version_major": 2,
              "version_minor": 0,
              "model_id": "7f1e1a8b9dc844f693abad07d842ba16"
            }
          },
          "metadata": {}
        },
        {
          "output_type": "stream",
          "name": "stderr",
          "text": [
            "Some weights of PegasusForConditionalGeneration were not initialized from the model checkpoint at google/pegasus-xsum and are newly initialized: ['model.decoder.embed_positions.weight', 'model.encoder.embed_positions.weight']\n",
            "You should probably TRAIN this model on a down-stream task to be able to use it for predictions and inference.\n"
          ]
        },
        {
          "output_type": "display_data",
          "data": {
            "text/plain": [
              "generation_config.json:   0%|          | 0.00/259 [00:00<?, ?B/s]"
            ],
            "application/vnd.jupyter.widget-view+json": {
              "version_major": 2,
              "version_minor": 0,
              "model_id": "df7771aa1e0c4e1c91ba09b37904e8ce"
            }
          },
          "metadata": {}
        }
      ],
      "source": [
        "from transformers import PegasusTokenizer, PegasusForConditionalGeneration\n",
        "\n",
        "model_name = 'google/pegasus-xsum'\n",
        "tokenizer = PegasusTokenizer.from_pretrained(model_name)\n",
        "model = PegasusForConditionalGeneration.from_pretrained(model_name)"
      ]
    },
    {
      "cell_type": "code",
      "source": [
        "from transformers import AutoConfig\n",
        "config = AutoConfig.from_pretrained(model_name)\n",
        "\n",
        "config"
      ],
      "metadata": {
        "colab": {
          "base_uri": "https://localhost:8080/"
        },
        "id": "KZFiMPSc6Isi",
        "outputId": "3c30c8c4-9b75-4ba2-9716-bc204aa07add"
      },
      "execution_count": null,
      "outputs": [
        {
          "output_type": "execute_result",
          "data": {
            "text/plain": [
              "PegasusConfig {\n",
              "  \"_name_or_path\": \"google/pegasus-xsum\",\n",
              "  \"activation_dropout\": 0.1,\n",
              "  \"activation_function\": \"relu\",\n",
              "  \"add_bias_logits\": false,\n",
              "  \"add_final_layer_norm\": true,\n",
              "  \"architectures\": [\n",
              "    \"PegasusForConditionalGeneration\"\n",
              "  ],\n",
              "  \"attention_dropout\": 0.1,\n",
              "  \"bos_token_id\": 0,\n",
              "  \"classif_dropout\": 0.0,\n",
              "  \"classifier_dropout\": 0.0,\n",
              "  \"d_model\": 1024,\n",
              "  \"decoder_attention_heads\": 16,\n",
              "  \"decoder_ffn_dim\": 4096,\n",
              "  \"decoder_layerdrop\": 0.0,\n",
              "  \"decoder_layers\": 16,\n",
              "  \"decoder_start_token_id\": 0,\n",
              "  \"do_blenderbot_90_layernorm\": false,\n",
              "  \"dropout\": 0.1,\n",
              "  \"encoder_attention_heads\": 16,\n",
              "  \"encoder_ffn_dim\": 4096,\n",
              "  \"encoder_layerdrop\": 0.0,\n",
              "  \"encoder_layers\": 16,\n",
              "  \"eos_token_id\": 1,\n",
              "  \"extra_pos_embeddings\": 0,\n",
              "  \"force_bos_token_to_be_generated\": false,\n",
              "  \"forced_eos_token_id\": 1,\n",
              "  \"gradient_checkpointing\": false,\n",
              "  \"id2label\": {\n",
              "    \"0\": \"LABEL_0\",\n",
              "    \"1\": \"LABEL_1\",\n",
              "    \"2\": \"LABEL_2\"\n",
              "  },\n",
              "  \"init_std\": 0.02,\n",
              "  \"is_encoder_decoder\": true,\n",
              "  \"label2id\": {\n",
              "    \"LABEL_0\": 0,\n",
              "    \"LABEL_1\": 1,\n",
              "    \"LABEL_2\": 2\n",
              "  },\n",
              "  \"length_penalty\": 0.6,\n",
              "  \"max_length\": 64,\n",
              "  \"max_position_embeddings\": 512,\n",
              "  \"model_type\": \"pegasus\",\n",
              "  \"normalize_before\": true,\n",
              "  \"normalize_embedding\": false,\n",
              "  \"num_beams\": 8,\n",
              "  \"num_hidden_layers\": 16,\n",
              "  \"pad_token_id\": 0,\n",
              "  \"scale_embedding\": true,\n",
              "  \"static_position_embeddings\": true,\n",
              "  \"transformers_version\": \"4.42.4\",\n",
              "  \"use_cache\": true,\n",
              "  \"vocab_size\": 96103\n",
              "}"
            ]
          },
          "metadata": {},
          "execution_count": 16
        }
      ]
    },
    {
      "cell_type": "code",
      "source": [
        "import sacrebleu\n",
        "# Function to generate discharge summary\n",
        "def generate_discharge_summary(input_text):\n",
        "    if not input_text:\n",
        "        return \"\"\n",
        "\n",
        "    # Tokenize the input text\n",
        "    inputs = tokenizer(input_text, return_tensors='pt', truncation=True, padding='longest')\n",
        "\n",
        "    # Generate summary\n",
        "    summary_ids = model.generate(inputs['input_ids'], max_length=200, num_beams=4, length_penalty=2.0, early_stopping=True)\n",
        "\n",
        "    # Decode the generated summary\n",
        "    summary = tokenizer.decode(summary_ids[0], skip_special_tokens=True)\n",
        "    print(summary)\n",
        "    return summary\n",
        "\n",
        "# Convert Hugging Face Dataset to list of dictionaries\n",
        "train_list = train.to_dict()\n",
        "\n",
        "generated_summaries = []\n",
        "reference_summaries = []\n",
        "\n",
        "num_examples = 10\n",
        "\n",
        "for i in range(num_examples):\n",
        "    input_text = train_list['input'][i]\n",
        "    reference_summary = train_list['output'][i]\n",
        "\n",
        "    generated_summary = generate_discharge_summary(input_text)\n",
        "\n",
        "    generated_summaries.append(generated_summary)\n",
        "    reference_summaries.append(reference_summary)\n",
        "\n",
        "# Compute BLEU scores\n",
        "bleu = sacrebleu.corpus_bleu(generated_summaries, [reference_summaries])"
      ],
      "metadata": {
        "colab": {
          "base_uri": "https://localhost:8080/"
        },
        "id": "l6rpmfTq4uql",
        "outputId": "210c9ce5-273b-4df9-8722-9860f489c028"
      },
      "execution_count": null,
      "outputs": [
        {
          "output_type": "stream",
          "name": "stdout",
          "text": [
            "The patient is a year old male who complains of low back pain and previous laminectomy L2-L5.\n",
            "A patient presents with a history of multiple hospital admissions for intractable headache, nausea, vomiting, vertigo, weakness, and previous diagnosis of IIH based on elevated LP opening pressure.\n",
            "Key words: supracervical hysterectomy, pelvic pain, vaginal bleeding, surgery, emergency department.\n",
            "Key words: ERCP, cholangiocarcinoma, abdominal pain.\n",
            "The patient has BPD and chronic LBP and has been taking percocets and taken 30 tablets over the past few weeks, with no head trauma or LOC.\n",
            "Key words: aortic valve repair, transfemoral aortic valve repair, open heart surgery, New York Heart Association.\n",
            "The patient presented to the emergency department (MICU) with a history of exacerbations of COPD and a recent bout of pneumonia.\n",
            "Key words: fluid overload, coma, anoxic brain injury, pancreatitis, PEG, trach, ventilator, discharge.\n",
            "Key words: lymphoma, chemotherapy, central nervous system (CNS) lymphoma, infusion, infusion, infusion, infusion, infusion, chemotherapy, infusion, chemotherapy, infusion, chemotherapy, chemotherapy, chemotherapy, chemotherapy, chemotherapy, chemotherapy, chemotherapy, chemotherapy, chemotherapy, chemotherapy, chemotherapy, chemotherapy, chemotherapy, chemotherapy, chemotherapy, chemotherapy, chemotherapy, chemotherapy, chemotherapy, chemotherapy, chemotherapy, chemotherapy, chemotherapy, chemotherapy, chemotherapy, chemotherapy, chemotherapy, chemotherapy, chemotherapy, chemotherapy, chemotherapy, chemotherapy, chemotherapy, chemotherapy, chemotherapy, chemotherapy, chemotherapy, chemotherapy, chemotherapy, chemotherapy, chemotherapy, chemotherapy, chemotherapy, chemotherapy, chemotherapy, chemotherapy, chemotherapy, chemotherapy, chemotherapy, chemotherapy, chemotherapy, chemotherapy, chemotherapy, chemotherapy, chemotherapy, chemotherapy, chemotherapy, chemotherapy, chemotherapy, chemotherapy, chemotherapy, chemotherapy, chemotherapy, chemotherapy, chemotherapy, chemotherapy, chemotherapy, chemotherapy, chemotherapy, chemotherapy, chemotherapy, chemotherapy, chemotherapy, chemotherapy, chemotherapy, chemotherapy, chemotherapy, chemotherapy, chemotherapy, chemotherapy, chemotherapy, chemotherapy, chemotherapy\n",
            "A case report on a woman who was admitted to a hospital with severe nausea and vomiting following major surgical procedure.\n"
          ]
        }
      ]
    },
    {
      "cell_type": "code",
      "execution_count": null,
      "metadata": {
        "colab": {
          "base_uri": "https://localhost:8080/"
        },
        "id": "PQBSGdSMEDd8",
        "outputId": "9feb5fcd-6cc4-45bb-efce-d490a7cc7d7d"
      },
      "outputs": [
        {
          "output_type": "stream",
          "name": "stdout",
          "text": [
            "\n",
            "👉 BLEU Score: 0.04845332067011967\n",
            "\n",
            "Example 1:\n",
            "Input Text: Name: ___ Unit No: ___ Admission Date: ___ Discharge Date: ___ Date of Birth: ___ Sex: M Service: MEDICINE Allergies: naproxen / ibuprofen Attending: ___. Chief Complaint: Back pain Major Surgical or Invasive Procedure: None this hospitalization History of Present Illness: HISTORY OF PRESENT ILLNESS: This patient is a ___ year old male who complains of low back pain w/ herniated disc (L 3-L4) and previous laminectomy L2-L5 last year @ ___- presents w/ ___ pain- difficulty walking. Patient states that he has been having left-sided back pain radiating down to his left hip. No inc stool/urine. +chronic constipation (not assoc with onset of back pain). Took 25mg Oxycodone last night and fell OOB after this- No head trauma- Usually takes 20mg Oxycodone for pain exacerbations. No fevers or chills. No chest pain or shortness of breath. In the ED, initial vitals were: Temp: 98.8 HR: 101 BP: 132/74 Resp: 16 O(2)Sat: 95 Normal On the floor, Patient had notes regarding the h/o his back pain. He has had low back pain for many years. He had back surgery in ___, without improvement in symptoms. Starting ___ mos ago the low back pain w/radiation to the left buttock has increased and he has started having weakness in his legs (L>R). He has fallen 5x in the past 5 weeks (including twice last night due to excessive oxycodone -he also hallucinated, which he has done in the past when taking oxycodone after his surgery). No head injuries. He was originally treated with ___, which was d/c'd because it increased his pain. He was then prescribed oxycodone 10 mg ___ prn) and then Neurontin 900 mg qdaily and then lkowered to 300 mg qdaily due to SE's of fatigue, somnelence. Pain is intermittant, ___ at worse, awakens Pt from sleep. Worse when lying down, best while sitting up. MRI done at ___ 2 wks ago. Had 2 series of cortisone injections for pain, w/o improvement. Scheduled to get more tomorrow. Surgery sched on ___ with Dr. ___. Denies saddle anesthesia, recent infection. NL colonoscopy ___ yrs ago, no h/o prostate CA. Patient also c/o intermittent L knee pain, sharp in nature, which occurs mostly at night while lying in bed. Review of systems: (+) Per HPI (-) Denies fever, chills, Denies dizziness. Denies cough, shortness of breath. Denies chest pain. Denies nausea, vomiting, diarrhea, No recent change in bowel or bladder habits. No hematuria. Past Medical History: Barretts Esophagus Depression Hypertension Paroxysmal atrial fibrillation Type II Diabetes Mellitus Social History: ___ Family History: N/C Physical Exam: ADMISSION PHYSICAL EXAM: Vitals: 98.7 140/70 76 20 97%RA General: Alert, oriented, no acute distress, sitting in chair HEENT: Sclera anicteric, MMM, oropharynx clear, EOMI, PERRL Neck: supple, JVP not elevated, no LAD CV: Regular rate and rhythm, normal S1 + S2, no murmurs, rubs, gallops Lungs: Clear to auscultation bilaterally, no wheezes, rales, rhonchi Abdomen: soft, non-tender, non-distended, bowel sounds present, no organomegaly, no rebound or guarding Back: no tenderness to palpation over spinous processes, or paraspinal, no hip or buttock pain w/palpation GU: no foley Ext: Warm, well perfused, 2+ radial pulses, no clubbing, cyanosis or edema, mild pain with palpation L knee palpation Neuro: CNII-XII grossly intact, ___ strength upper extremities, ___ RLE, 4+ LLE, neg leg raise and crossed leg raise, grossly normal sensation, 3+ patellar reflexes bilaterally, gait deferred DISCHARGE PHYSICAL EXAM VS: Tm 98.0 Tc 97.0 HR 73 BP 137/88 R20 O2 sat 97% General: Alert, oriented, no acute distress HEENT: Sclera anicteric, no conjunctival injection, EOMI Neck: supple CV: Regular rate and rhythm, normal S1 + S2, no murmurs, rubs, gallops Lungs: Clear to auscultation bilaterally, no wheezes, rales, rhonchi Abdomen: soft, non-tender, non-distended, pos bowel sounds GU: no foley Ext: Warm, well perfused, no clubbing, cyanosis or edema Neuro: AOx3, ___ strength upper extremities, ___ strength ___ b/l, sensation intact. Pertinent Results: ADMISSION ___ 04:17PM URINE COLOR-Yellow APPEAR-Clear SP ___ ___ 04:17PM URINE BLOOD-NEG NITRITE-NEG PROTEIN-TR GLUCOSE-NEG KETONE-NEG BILIRUBIN-NEG UROBILNGN-NEG PH-7.5 LEUK-NEG ___ 04:17PM URINE RBC-1 WBC-1 BACTERIA-NONE YEAST-NONE EPI-<1 ___ 04:17PM URINE HYALINE-3* ___ 04:17PM URINE MUCOUS-RARE DISCHARGE ___ 07:30AM BLOOD WBC-4.0 RBC-4.00* Hgb-12.6* Hct-35.3* MCV-88 MCH-31.5 MCHC-35.8* RDW-13.3 Plt ___ ___ 07:30AM BLOOD Plt ___ ___ 07:30AM BLOOD ___ 07:30AM BLOOD Glucose-95 UreaN-32* Creat-1.4* Na-138 K-3.4 Cl-100 HCO3-31 AnGap-10 ___ 07:30AM BLOOD Calcium-9.2 Phos-3.8 Mg-2.3 IMAGING ___ CXR IMPRESSION: Mild cardiac enlargement, but no evidence of significant CHF or acute infiltrates on this preoperative chest examination. Brief Hospital Course: Mr. ___ presented to the ED for progressive lumbar pain and subjective weakness in his legs. Neurologic examination was normal. There was no evidence of an infectious process. His pain was ultimately well controlled without significant changes to his home medication regimen. He was evaluated by his neurosurgeon here who offered to schedule his planned surgery sooner (___) given his ongoing pain. Ultimately however, Mr ___ elected to pursue conservative therapy with physical therapy possibly to include traction, and to have ongoing discussions with Dr. ___ ___ any further surgery. His pain improved during the brief hospitalization, and he was independently ambulatory without difficulty or significant pain on the day of discharge. He was also noted to have acute renal insufficiency on presentation. His creatinine improved slightly here with IV hydration and his ___ was held. He was not significantly hypertensive with the holding of this medication. We have asked that he have a chemistry 7 checked within a week, and to discuss with his primary MD the possible re-initiation of his ___ should his renal function normalize and allow this. His serum creatinine on the day of discharge was 1.4, down from a peak of 1.5 on presentation (baseline likely 0.9 to 1.0). Medications on Admission: The Preadmission Medication list is accurate and complete. 1. Omeprazole 20 mg PO BID 2. LaMOTrigine 200 mg PO QAM 3. Amlodipine 5 mg PO DAILY 4. Losartan Potassium 100 mg PO DAILY 5. Phenelzine Sulfate 30 mg PO QAM 6. LaMOTrigine 100 mg PO QPM 7. Phenelzine Sulfate 15 mg PO QPM 8. Gabapentin 100 mg PO BID 9. Atorvastatin 20 mg PO HS 10. Tamsulosin 0.8 mg PO HS 11. ClonazePAM 1.5 mg PO QHS:PRN insomnia 12. QUEtiapine Fumarate 25 mg PO QHS 13. Piroxicam 10 mg PO DAILY 14. Hydrochlorothiazide 12.5 mg PO DAILY 15. Milk of Magnesia 120 mL PO DAILY:PRN constipation 16. Docusate Sodium 400 mg PO DAILY:PRN constipation Discharge Medications: 1. Amlodipine 5 mg PO DAILY 2. Atorvastatin 20 mg PO HS 3. Docusate Sodium 400 mg PO DAILY:PRN constipation 4. Gabapentin 100 mg PO BID 5. Hydrochlorothiazide 12.5 mg PO DAILY 6. LaMOTrigine 200 mg PO QAM 7. LaMOTrigine 100 mg PO QPM 8. Milk of Magnesia 120 mL PO DAILY:PRN constipation 9. Omeprazole 20 mg PO BID 10. Phenelzine Sulfate 30 mg PO QAM 11. Phenelzine Sulfate 15 mg PO QPM 12. QUEtiapine Fumarate 25 mg PO QHS 13. Tamsulosin 0.8 mg PO HS 14. ClonazePAM 1.5 mg PO QHS:PRN insomnia 15. Acetaminophen 1000 mg PO Q8H Do not exceed 3 grams daily. 16. OxycoDONE (Immediate Release) 5 mg PO Q4H:PRN breakthrough pain Avoid taking this medication while driving or if operating machinery. Do not consume with alcohol. RX *oxycodone 5 mg 1 tablet(s) by mouth every 4 hours as needed for pain Disp #*25 Tablet Refills:*0 17. Outpatient Lab Work Please have your electrolytes checked on ___ or ___ next week (___). Basic metabolic panel with calcium and magnesium. FAX RESULTS TO: ___ - ___ 18. Outpatient Physical Therapy Outpatient physical therapy referral for ongoing left sided L3-4 herniated disc protrusion with back pain. ICD-9 CODE: ___.2 Discharge Disposition: Home Discharge Diagnosis: PRIMARY DIAGNOSES: 1. Lumbar spine herniated disc disease 2. Acute kidney injury Discharge Condition: Mental Status: Clear and coherent. Level of Consciousness: Alert and interactive. Activity Status: Ambulatory - requires assistance or aid (walker or cane). Discharge Instructions:\n",
            "Generated Summary: The patient is a year old male who complains of low back pain and previous laminectomy L2-L5.\n",
            "Reference Summary: Mr. ___, You were admitted to the Internal Medicine service at ___ ___ on CC7 regarding management of your low back pain. Spine surgery evaluated you here and felt that your exam was stable and offered you spine surgery this week, but you declined and felt that you would prefer to resume outpatient physical therapy and consider surgery in the future. We did not escalate your pain medications. Please call your doctor or go to the emergency department if: * You experience new chest pain, pressure, squeezing or tightness. * You develop new or worsening cough, shortness of breath, or wheezing. * You are vomiting and cannot keep down fluids, or your medications. * If you are getting dehydrated due to continued vomiting, diarrhea, or other reasons. Signs of dehydration include: dry mouth, rapid heartbeat, or feeling dizzy or faint when standing. * You see blood or dark/black material when you vomit, or have a bowel movement. * You experience burning when you urinate, have blood in your urine, or experience an unusual discharge. * Your pain is not improving within 12 hours or is not under control within 24 hours. * Your pain worsens or changes location. * You have shaking chills, or fever greater than 101.5 degrees Fahrenheit or 38 degrees Celsius. * You develop any other concerning symptoms. Followup Instructions: ___\n",
            "\n",
            "Example 2:\n",
            "Input Text: Name: ___ Unit No: ___ Admission Date: ___ Discharge Date: ___ Date of Birth: ___ Sex: M Service: NEUROLOGY Allergies: Phenergan Attending: ___ Chief Complaint: Retractable headache, nausea, vomiting, and weakness Major Surgical or Invasive Procedure: Lumpar Puncture on ___ History of Present Illness: This is a ___ year old man with a past medical history significant for multiple hospital admissions for intractable headache, nausea, vomiting, vertigo, weakness, and previous diagnosis of IIH. He first sought medical care for an episode of syncope in ___ in ___. Due to additional symptoms of severe headache, vertigo, papilledema (per patient), and blurry vision he underwent extensive work up and was ultimately diagnosed with IIH based on an elevated LP opening pressure. He also received multiple nerve blocks for refractory headache. He also reports he spent a month at ___ in ___ for similar symptoms. In ___ when the patient was living in ___ he returned to the ED and was hospitalized again for a month for similar symptoms. He moved to ___ in ___. He is a poor historian and the details of these hospitalizations are not clear, however the patient says that he has had 40 LP's throughout the last ___ years and does not follow-up outpatient due to his frustration with \"neurologists not understanding my condition\". His first presentation to ___ was on ___ due to 2 weeks of headache, neausea,vomiting, diarrhea, vertigo, subjective sensory abnormalities, and give way weakness. His LP was significant for an opening pressure of 27. After 25 cc CSF removal his symptoms improved. CT/CTV was negative and he was discharged on 250 BID acetazolamide but did not follow-up with Dr. ___ due to insurance issues. His next presentation to the ___ ED was on ___ with similar symptoms with an opening pressure of 30. 20 cc CSF was removed and he was discharged on 500mg BID acetalzolamide. However, he did not improve. He was supposed to follow up with a new PCP today but returned to the ED last night (___) due to a worsening headache, nausea, vomiting, diarrhea, and numbness in his legs bilaterally up to his knees. On presentation to the ED he presented with bioccipital headache radiating to the front that he described as a ___. In addition he endorsed photophobia, nausea and vomiting, diplopia in left eye, vertigo, pulsatile tinnitus, and diffuse back pain (___). Of note, the patient also states that he has had multiple episodes of syncope that were preceded by headache and vertigo over the last ___ years preceded by tunnel vision and dizziness/vertigo. His last episode was in ___. He is not sure if he hit his head during these episodes. one of them were witnessed by a family member and he does not think they noticed any shaking. In addition, he sustained a leg fracture from a MVA in ___ before his current symptoms started. The patient has never been followed by a PCP or neurologist although he is very well versed in medical jargon and IIH and does a lot of research online. He is very anxious concerning all of his symptoms and frustrated with a lack of a clear explanation/diagnosis. Past Medical History: IIH (diagnosed in ___ Appendectomy and colectomy in ___ (unverified) Social History: ___ Family History: No neurologic issues. Physical Exam: Physical Exam: Vitals: T: 98.1 P: 84 R: 18 BP: 133/88 SaO2: 98% RA General: Awake, emotionally labile HEENT: NC/AT, no scleral icterus noted, MMM, no lesions noted in oropharynx Pulmonary: Normal work of breathing Cardiac: RRR, warm, well-perfused Abdomen: soft, non-distended Extremities: No ___ edema. Skin: no rashes or lesions noted. Neurological Exam -Mental status: Oriented to person, place,and time. However he is very inattentive and asks for questions and commands to be repeated multiple times. He could not recite days of the weeks backwards. He could register 3 words but only remembered ___ at 5 minutes from a multiple choice test. Repetition and naming to high and low frequency words intact, normal prosody and fluency. Could not follow 2 step commands. -CN: II visual fields full on right, constricted in all quadrants in left. Right eye ___ and left eye ___, optic discs sharp without papilledema, pupils equal round reactive to light IIII, IV, VI EOMi without nystagmus V decreased sensation to light touch and temperature throughout left side of face VII facial musculature intact without asymmetry VIII decreased hearing to finger rub in left ear of conductive etiology via ___ test, no vibration in midline, does not split IX, X Palate elevates symmetrically XI ___ strength SCN and trapezius bilaterally XII tongue protrudes midline with full strength and movement -Motor normal tone and bulk, no drift Give way weakness bilaterally, particularly in the lower extremities. Patient has jerky movements with giving effort, and with encouragement can give full strength. -DTRs: Bi Tri ___ Pat Ach L 1 1 1 0 0 R 1 1 1 0 0 Plantar response was flexor bilaterally. -Sensory Vibration 10 seconds knees bilaterally, 0 below bilaterally. Proprioception decreased left toe, full in left ankle, normal in right toe and ankle. Light touch 30% left dorsal and ventral aspects of foot,60% anterior shin, and 80% above knee. Temperature 0 up until knee, 60% anterior thigh No extinction on double simultaneous stimulation -Coordination Dysmetria and slowed finger tapping on left hand -Gait able to stand with help but feels unsteady due to vertigo and immediately sits down. On repeat still feels vertigo and nauseous. Will take 3 very tentative steps and then will sit back down due to vertigo. Despite encouragement he does not hold on to examiner and immediately returns to bed after the exam. Pertinent Results: ___ 05:35AM BLOOD Glucose-85 UreaN-13 Creat-1.1 Na-139 K-4.1 Cl-108 HCO3-19* AnGap-12 ___ 09:40AM BLOOD ALT-18 AST-31 AlkPhos-58 TotBili-0.4 ___ 05:25AM BLOOD Calcium-9.3 Phos-4.2 Mg-2.1 ___ 05:25AM BLOOD VitB12-226* Folate-6 ___ 05:25AM BLOOD %HbA1c-5.5 eAG-111 ___ 05:25AM BLOOD TSH-1.5 ___ 05:25AM BLOOD 25VitD-16* ___ 05:52AM BLOOD ___ pO2-51* pCO2-46* pH-7.26* calTCO2-22 Base XS--6 Comment-GREEN TOP ___ 05:00PM CEREBROSPINAL FLUID (CSF) TNC-3 RBC-182* Polys-8 ___ ___ 05:00PM CEREBROSPINAL FLUID (CSF) TNC-206* ___ Polys-42 Bands-1 ___ Monos-8 Eos-1 Basos-2 ___ 05:00PM CEREBROSPINAL FLUID (CSF) TotProt-30 Glucose-62 Brief Hospital Course: This is a ___ year old man with a significant history of multiple hospital admissions and ED visits for refractory headache, nausea, vomiting, subjective weakness, and patchy vibratory and sensory loss in the lower extremities. He also has a previous history of diagnosed IIH given several past LP's with opening pressures between 25 and 30. His current presentation is consistent with his past admissions, and LP and MRI W/WO contrast done on this admission were both normal. His exam continues to have functional components, such as he had difficultly moving his legs when tested individually but can move to stand. In addition, his exam changes throughout the day and compared to previous hospital admissions. He does not have papilledema, making a functional disorder the most likely cause of his presentation, however he will follow-up outpatient with neurology at neuro-ophthomology at ___ and will continue the acetazolamide 500mg BID. In addition, on this admission the patient was found to have a mild macrocytic anemia with low B12 and vitamin D, which could explain some of the sensory losses the patient desribes in his lower extremities. He was started on supplementation and will be continued on these outpatient. The patient will be discharged with follow-up appointments scheduled with his PCP, ___, and neuro-ophthomology (all at ___. We explained the importance of outpatient follow-up to the patient and he agreed. He was discharged with outpatient ___ and Rx for rolling walker. Medications on Admission: The Preadmission Medication list is accurate and complete. 1. AcetaZOLamide 250 mg PO Q12H Idiopathic Intracranial Hypertension Discharge Medications: 1. Vitamin D ___ UNIT PO DAILY RX *ergocalciferol (vitamin D2) 2,000 unit 1 tablet(s) by mouth daily Disp #*30 Tablet Refills:*2 2. AcetaZOLamide 500 mg PO Q12H Idiopathic Intracranial Hypertension ___ tech Rolling walker Diagnosis: functional gait disorder Prognosis: good Duration: 13 months 4.Outpatient Physical Therapy Gait training for functional gait disorder Discharge Disposition: Home Discharge Diagnosis: Headache Functional Disorder Discharge Condition: Mental Status: Clear and coherent. Level of Consciousness: Alert and interactive. Activity Status: Ambulatory - requires assistance or aid (walker or cane). Discharge Instructions:\n",
            "Generated Summary: A patient presents with a history of multiple hospital admissions for intractable headache, nausea, vomiting, vertigo, weakness, and previous diagnosis of IIH based on elevated LP opening pressure.\n",
            "Reference Summary: You were evaluated for retractable headache, nausea, vertigo, vomiting, and previous diagnosis of Idiopathic Intracranial Hypertension. You spent 2 nights in the hospital and underwent blood tests, a lumbar puncture, and a brain MRI. The only abnormality found was a mild anemia with vitamin B12 and D deficiency. For this you were prescribed vitamin D and B12 shot supplements. Given your continued headaches and other symptoms we have arranged appointments for you to follow up at ___ with neurology, neuro-ophthomology, and your PCP to continue any work-up and care of your condition. Followup Instructions: ___\n",
            "\n",
            "Example 3:\n",
            "Input Text: Name: ___ Unit No: ___ Admission Date: ___ Discharge Date: ___ Date of Birth: ___ Sex: F Service: OBSTETRICS/GYNECOLOGY Allergies: Aspirin / Penicillins / seasonal allergies / ibuprofen Attending: ___. Chief Complaint: Pelvic pain and vaginal bleeding Major Surgical or Invasive Procedure: laproscopic trachelectomy, extensive lysis of adhesions, left saplingoophorectomy, right ovarian cystectomy, cystoscopy History of Present Illness: Ms. ___ is a ___ G3P3 with a h/o supracervical hysterectomy in ___ for fibroids and menorrhagia, who presented for surgical consultation for irregular bleeding and severe pelvic pain. She reported that the pain worsens every month almost as if she is having a period. She had failed Lupron therapy and her pelvic pain and intermittent bleeding persisted. Past Medical History: PMH: Anxiety/Depression, HTN, DM II, Asthma, Obesity PSH: Supracervical hysterectomy (fibroids), BTL, Cholecystectomy Back surgery x 3 (L5-S1), Carpal tunnel B/L, Left shoulder Social History: ___ Family History: No breast or gynecologic cancer No Colon CA mother and father with DM, HTN, CAD mother died age ___ renal disease father died age ___ heart failure Physical Exam: On day of discharge General: Well-appearing. NAD. AAOx3. Heart: RRR, no murmurs. Lungs: CTAB. Abdomen: minimally tender, Non distended, No masses, guarding or rebound, No hepatosplenomegally, No hernia. +bowel sounds Ext: No edema. Pertinent Results: ___ 06:15AM BLOOD WBC-7.8 RBC-3.88* Hgb-11.0* Hct-34.9* MCV-90 MCH-28.3 MCHC-31.4 RDW-14.2 Plt ___ ___ 06:15AM BLOOD Glucose-128* UreaN-4* Creat-0.7 Na-139 K-3.5 Cl-99 HCO3-32 AnGap-12 Brief Hospital Course: Ms. ___ was admitted to the gynecology service on ___ after undergoing laparoscopic trachelectomy, extensive lysis of adhesions, left salphingo-oophorectomy, right ovarian cystectomy, and cystoscopy for pelvic pain and vaginal bleeding status post supracervical hysterectomy. Please see the operative report for full details. We continued home meds with holding parameters and CPAP starting on post-op day 1. On post-op day 1, she reported right shoulder pain with movement, which has persisted. A consult from physical therapy tests negative for rotator cuff tear, recommends discharge home with ___. By post-operative day 3, she was tolerating a regular diet, voiding spontaneously, and pain was controlled with oral medications. Physical therapy consultation felt that patient was able climb stairs with supervision and rest breaks at each ___ steps. Thus they recommended discharge home with supervised activity and home ___. Thus, she was discharged home and referred to ___ for home ___. Medications on Admission: - clonidine 0.1 mg tablet 1 tablet(s) by mouth three times a day - diazepam 10 mg tablet 1 (One) tablet(s) by mouth twice daily - Flonase 50 mcg/actuation nasal spray,suspension 2 sprays each nostril once a day - albuterol ProAir HFA 90 mcg/actuation aerosol inhaler 2 puffs three times a day as needed for PRN - QVar 80 mcg/actuation Metered Aerosol oral inhaler 2 puffs twice a day - bupropion 75 mg tablet 2 Tablet(s) by mouth once a day - hydrochlorothiazide 12.5 mg tablet 1 Tablet(s) by mouth daily - gabapentin 600 mg tablet 1 Tablet(s) by mouth three times a day - sucralfate 100 mg/mL oral suspension 2 teaspoons by mouth 4 times daily - metformin 500 mg tablet 1 (One) Tablet(s) by mouth twice a day - omeprazole 20 mg capsule,delayed release 1 capsule,delayed ___ by mouth twice a day - oxybutynin chloride ER 15 mg tablet, extended release 24 hr 1 tablet(s) by mouth once a day ___ hr before breakfast - sertraline 100 mg tablet 2 tablet(s) by mouth at bedtime - imitrex - topiramate 50 mg tablet 1 tablet(s) by mouth twice daily Note decreased dose - cetirizine 10 mg tablet 1 Tablet(s) by mouth at bedtime - colace Discharge Medications: 1. Acetaminophen ___ mg PO Q6H:PRN Pain RX *acetaminophen 500 mg ___ tablet(s) by mouth every 6 hours Disp #*60 Tablet Refills:*2 2. Docusate Sodium 100 mg PO BID RX *docusate sodium 100 mg 1 capsule(s) by mouth twice per day Disp #*60 Capsule Refills:*2 3. HYDROmorphone (Dilaudid) ___ mg PO Q3H:PRN pain RX *hydromorphone 2 mg ___ tablet(s) by mouth every 3 hours Disp #*50 Tablet Refills:*0 4. Polyethylene Glycol 17 g PO DAILY RX *polyethylene glycol 3350 [Miralax] 17 gram/dose 17 gram by mouth daily Disp #*30 Packet Refills:*2 Discharge Disposition: Home With Service Facility: ___ Discharge Diagnosis: Bilateral simple ovarian and paraovarian cysts. pelvic pain and vaginal bleeding after supracervical hysterectomy now treated with laproscopic trachelectomy, extensive lysis of adhesions, left saplingoophorectomy, right ovarian cystectomy, cystoscopy Discharge Condition: Mental Status: Clear and coherent. Level of Consciousness: Alert and interactive. Activity Status: Ambulatory - requires assistance or aid (walker or cane). Discharge Instructions:\n",
            "Generated Summary: Key words: supracervical hysterectomy, pelvic pain, vaginal bleeding, surgery, emergency department.\n",
            "Reference Summary: General instructions: * Take your medications as prescribed. * Do not drive while taking narcotics. * Take a stool softener such as colace while taking narcotics to prevent constipation * Do not combine narcotic and sedative medications or alcohol * Do not take more than 4000mg acetaminophen (APAP) in 24 hrs * No strenuous activity until your post-op appointment * Nothing in the vagina (no tampons, no douching, no sex) for 6 weeks * Nothing in the vagina (no tampons, no douching, no sex) for 3 months * No heavy lifting of objects >10lbs for 6 weeks. * You may eat a regular diet Incision care: * You may shower and allow soapy water to run over incision; no scrubbing of incision. No bath tubs for 6 weeks. * If you have steri-strips, leave them on. They will fall off on their own or be removed during your followup visit. * If you have staples, they will be removed at your follow-up visit. Followup Instructions: ___\n",
            "\n",
            "Example 4:\n",
            "Input Text: Name: ___ Unit No: ___ Admission Date: ___ Discharge Date: ___ Date of Birth: ___ Sex: F Service: MEDICINE Allergies: Penicillins Attending: ___. Chief Complaint: Abdominal pain Major Surgical or Invasive Procedure: ERCP History of Present Illness: ___ woman with cholangiocarcinoma s/p cycle 2 of gemcitabine/cisplatin on ___, with h/o recurrent biliary obstruction s/p ERCP with stents and repeat ERCP and replaced stent ___, presents with abdominal pain. She is transferred from an OSH where she was noted to have decreased Hct to 23.9. She was given levaquin 500mg for ?UTI. . Of note, she was recently discharged on ___ for ___, at which time she was felt to be a poor candidate for ERCP. She received a course of cipro and flagyl at that time. . In the ED, initial VS 98.6 84 115/91 16 98% RA. She was given dilaudid for pain control. CT a/p was obtained, which showed overall worsening of disease related to known cholangioCA with new small Lmoderate R pleural effusions and moderate abd ascites. Increased IHBD and new focal probable bilomas in right hepatic lobe, status post biliary stenting. New/increased left portal venous thrombosis. New R inguinal met. She is admitted for pain control and eval for ? ERCP. On admission, VS 102/62 84 14 98%. . On the floor she says her abdominal pain is in the RUQ and has been worsening over the past week since discharge. It was a ___ before prsentation and is now a ___ after receiving multiple doses of dilaudid. She had vomiting last week, no current nausea. No bloody/black tarry stools, no diarrhea/constipation. She endorses subjective fevers at home. Poor PO intake. . On ROS also endorses dysuria. . Review of Systems: (+) Per HPI (-) Review of Systems: GEN: No fever, chills, night sweats, recent weight loss or gain. HEENT: No headache, sinus tenderness, rhinorrhea or congestion. CV: No chest pain or tightness, palpitations. PULM: No cough, shortness of breath, or wheezing. GI: No nausea, vomiting, diarrhea, constipation or abdominal pain. No recent change in bowel habits, no hematochezia or melena. GUI: No dysuria or change in bladder habits. MSK: No arthritis, arthralgias, or myalgias. DERM: No rashes or skin breakdown. NEURO: No numbness/tingling in extremities. PSYCH: No feelings of depression or anxiety. All other review of systems negative. Past Medical History: Past Oncologic History: -Initially diagnosed with cholecystitis and underwent cholecystectomy at ___ ___. -MRCP ___ for persistent RUQ pain showed a mass at surgical clips with intrahepatic biliary ductal dilatation. -ERCP ___ - ___ hospitalized for jaundice due to malignant biliary obstruction, ___ 1334 u/mL. -___ attempted resection, tumor unresectable with mass at confluence of right and left biliary ducts and peritoneal mets, path cholangiocarcinoma. -___ internal-external biliary drain placed. OTHER PMHx: 1. Hypertension. 2. Hypercholesterolemia. 3. Status post cholecystectomy on ___ at ___ ___. Social History: ___ Family History: Her sister was diagnosed with tobacco-associated lung cancer at ___ years. Her mother had a history of breast cancer in her ___ and is now deceased.Her father died of complication of asthma in his ___. Her children have no health concerns. Physical Exam: On admission: VS: 98.7 112/70 90 20 95%RA GEN: AOx3, NAD HEENT: PERRLA. MM dry. no LAD. no JVD. neck supple. No cervical, supraclavicular, or axillary LAD Cards: RR S1/S2 normal. no murmurs/gallops/rubs. Pulm: No dullness to percussion, CTAB no crackles or wheezes Abd: hypoactive BS, exquisite TTP in RUQ, no rebound/guarding Extremities: wwp, no edema. DPs, PTs 2+. On ___: VS: 96.2, 112/80, 84, 16, 97RA; 4800/900 GEN: sleeping but able to be aroused, following commands intermittently HEENT: PERRL. dry MM. no LAD. no JVD. neck supple. No cervical, supraclavicular, or axillary LAD Cards: RRR. no murmurs/gallops/rubs. Pulm: No dullness to percussion, CTAB no crackles or wheezes Abd: firm, +BS, TTP diffusely, worse at RUQ, distended, +ascites Extremities: wwp, 2+ edema. DPs, PTs 2+. Pertinent Results: On admission: ___ 10:40PM BLOOD WBC-7.0 RBC-2.49* Hgb-8.3* Hct-24.9* MCV-100* MCH-33.2* MCHC-33.2 RDW-20.6* Plt ___ ___ 10:40PM BLOOD Neuts-68.0 ___ Monos-3.9 Eos-0.8 Baso-0.4 ___ 10:40PM BLOOD ___ PTT-25.5 ___ ___ 10:40PM BLOOD UreaN-12 Creat-0.9 ___ 11:15AM BLOOD Glucose-89 UreaN-11 Creat-0.9 Na-130* K-4.5 Cl-100 HCO3-22 AnGap-13 ___ 10:40PM BLOOD ALT-48* AST-169* AlkPhos-973* TotBili-3.8* ___ 10:40PM BLOOD Lipase-358* ___ 11:15AM BLOOD Albumin-2.1* Calcium-9.3 Phos-2.6* Mg-1.5* ___ 06:11AM BLOOD Triglyc-86 ___ 10:45PM BLOOD Glucose-102 Lactate-1.6 Na-136 K-3.6 Cl-100 calHCO3-24 ___ 10:49AM URINE Color-Yellow Appear-Clear Sp ___ ___ 10:49AM URINE Blood-NEG Nitrite-NEG Protein-30 Glucose-NEG Ketone-NEG Bilirub-SM Urobiln-NEG pH-6.0 Leuks-NEG ___ 10:49AM URINE RBC-5* WBC-8* Bacteri-FEW Yeast-NONE Epi-1 TransE-1 On discharge: ___ 07:15AM BLOOD WBC-13.7* RBC-2.45* Hgb-8.1* Hct-25.6* MCV-104* MCH-32.9* MCHC-31.5 RDW-19.2* Plt ___ ___ 05:17AM BLOOD ___ PTT-38.2* ___ ___ 07:15AM BLOOD Glucose-181* UreaN-42* Creat-1.5* Na-138 K-4.0 Cl-107 HCO3-23 AnGap-12 Micro: URINE CULTURE (Final ___: NO GROWTH. Blood Culture, Routine (Final ___: HAEMOPHILUS PARAINFLUENZAE. Aerobic Bottle Gram Stain (Final ___: GRAM NEGATIVE ROD(S). Reported to and read back by ___ @ 8:55AM ___. Blood Culture, Routine (Final ___: ENTEROCOCCUS FAECIUM. FINAL SENSITIVITIES. Daptomycin Sensitivity testing performed by Etest. Daptomycin = SENSITIVE ( 2MCG/ML ). HIGH LEVEL GENTAMICIN SCREEN: Susceptible to 500 mcg/ml of gentamicin. Screen predicts possible synergy with selected penicillins or vancomycin. Consult ID for details. HIGH LEVEL STREPTOMYCIN SCREEN: Susceptible to 1000mcg/ml of streptomycin. Screen predicts possible synergy with selected penicillins or vancomycin. Consult ID for details.. SENSITIVITIES: MIC expressed in MCG/ML _________________________________________________________ ENTEROCOCCUS FAECIUM | AMPICILLIN------------ =>32 R DAPTOMYCIN------------ S LINEZOLID------------- 1 S PENICILLIN G---------- =>64 R VANCOMYCIN------------ =>32 R Aerobic Bottle Gram Stain (Final ___: Reported to and read back by ___ @ 0519 ON ___ - ___. GRAM POSITIVE COCCI. IN PAIRS AND CHAINS. Anaerobic Bottle Gram Stain (Final ___: GRAM POSITIVE COCCI. IN PAIRS AND CHAINS. ___ 7:15 am BLOOD CULTURE Source: Line-PICC. **FINAL REPORT ___ Blood Culture, Routine (Final ___: ENTEROCOCCUS FAECIUM. IDENTIFICATION AND SENSITIVITIES PERFORMED ON CULTURE # ___-___ ___. Aerobic Bottle Gram Stain (Final ___: GRAM POSITIVE COCCI. IN PAIRS AND CHAINS. Anaerobic Bottle Gram Stain (Final ___: GRAM POSITIVE COCCI. IN PAIRS AND CHAINS. CT Abdomen/Pelvis ___: FINDINGS: CT ABDOMEN: There has been interval development of new small left and moderate right pleural effusions measuring ___ Hounsfield units. Compressive atelectasis is present. A few subcentimeter perivascular lung nodules are seen in the right middle lobe and left lower lobe, for example series 2, image 3, where the largest nodule measures 6 mm. These appear new or increased in size as compared to ___. The heart is normal in size. Trace coronary arterial calcification is seen along the right coronary artery. There is no pericardial effusion. Compared to ___, there is increased extent of severe intrahepatic biliary dilatation, with new dilated peripheral ducts or small bilomas the right hepatic lobe. Left and right hepatic ductal stents are redemonstrated. A CBD stent extends to the ampulla. An ill-defined hypoattenuating mass is redemonstrated in the region of biliary confluence, which does not demonstrate definite delayed enhancement on 10 minute delayed images. The gallbladder is surgically absent. The spleen, pancreas, and adrenal glands appear within normal limits. Proximal pancreatic duct is mildly prominent, unchanged. Bilateral kidneys enhance symmetrically without hydronephrosis or hydroureter. The stomach is fluid filled. Small and large bowel loops are normal in caliber. There is no bowel wall thickening. There is no mesenteric or retroperitoneal lymphadenopathy. The left portal vein is thrombosed, with thrombus extending into segmental left portal system (2, 21), increased in extent since last exam. The right and main portal veins appear patent. Hepatic veins are patent. Great vessels are otherwise patent. A moderate-sized ascites is new. Again seen is a 4.6 x 3.2 cm anterior abdominal subcutaneous fluid-filled lesion, compatible with known extraperitoneal metastasis. More inferolaterally, a second soft tissue density centered in the anterior abdominal musculature adjacent to multiple clips is ill-defined and difficult to measure but similar as compared to ___, compatible with a second metastasis. These are overall stable as compared to prior study. Within the right inguinal region is a new 2.3 x 1.3 cm enhancing soft tissue deposit, concerning for new site of metastasis. A 2.6 x 2.3 x 2.4 cm centrally hypodense left inguinal lesion with peripheral enhancement is concerning for additional site of metastasis. CT PELVIS: The ascitic fluid extends to the pelvis. The bladder is collapsed. The uterus is small, but has multiple 1-2 cm intramural and subserosal enhancing masses, most likely representing fibroids. No pelvic side wall lymphadenopathy. BONE WINDOW: No focal concerning lesion. IMPRESSION: Overall worsening metastatic cholangiocarcinoma. 1. New small left and moderate right pleural effusions. New moderate abdominal ascites. 2. Increased number and size of multiple pulmonary nodules involving the right middle lobe and left lower lobe, largest 6 mm, concerning for metastatic involvement. 3. Stable ill-defined hypoattenuating lesion at the biliary confluence. 4. Status post left and right hepatic duct and common duct stenting, with interval increased degree of intrahepatic biliary dilatation as well as new loculated hypodensities in the peripheral right hepatic lobe, suggestive of biloma formation. No drainable collection. 5. Metastatic deposits involving anterior abdominal wall and bilateral inguinal regions. 6. Uterine fibroids. 7. Progressive left portal vein thrombosis extending into segmental left portal system. Portable CXR ___: The right PICC line tip is at the level of low SVC. Cardiomediastinal silhouette is stable. There is new right lower lobe opacity that might represent developing infection. There is also new faint opacity in the right upper lung, that might represent infectious focus as well and should be closely followed. Biliary stents are projecting over the right upper quadrant. Bilateral pleural effusion is better appreciated on the CT abdomen. ECG ___: Sinus rhythm. ST-T wave changes most consistent with underlying left ventricular hypertrophy, although ischemia or infarction cannot be excluded. Compared to the previous tracing of ___ there is no significant change. ECG ___: Sinus rhythm. Consider left ventricular hypertrophy, although is non-diagnostic. Modest low amplitude inferolateral T wave changes are non-specific. Since the previous tracing of ___ the rate is slower and T wave changes appear decreased. MRI L-Spine ___: FINDINGS: Intrahepatic biliary ductal dilatation is partially visualized, with susceptibility artifact from biliary stent. These are better evaluated on the recent CT abdomen and pelvis. Ascites is also again demonstrated. Alignment is anatomic. There are no focal suspicious osseous lesions to suggest osseous metastases. Moderate disc desiccation is seen in the lower thoracic and upper lumbar spine. The conus medullaris terminates at the level of the L1-L2 intervertebral disc with normal contour and signal. Mild facet degeneration is noted at L4-5, L5-S1, and L3-L4 without significant spinal canal or foraminal narrowing. There is no evidence of nerve root impingement. IMPRESSION: 1. No evidence of spinal metastases or nerve root impingement. Subtle metastases may not be seen without contrast. 2. Exstensive intrahepatic biliary ductal dilatation and ascites partially visualized. ERCP ___: IMPRESSION: Unsuccessful attempt to reach the ampulla for ERCP. Please refer to the endoscopist's note in OMR for further details of the procedure, during which malignant-appearing stricture in the duodenum prevented passage of the duodenoscope. ERCP ___: FINDINGS: Scout images demonstrate surgical clips in the right upper quadrant and two metal and one plastic biliary stents. The common bile duct was cannulated and opacified with contrast. The plastic biliary stent was removed. A stricture is noted at the distal right hepatic duct just proximal to superior end of the biliary stent. The stricture in the right hepatic duct was dilated and a metal stent was placed across the stricture. Contrast injected into the left hepatic duct showed minimal opacification of the left biliary system. In addition, a duodenal metal stent was also placed. For further details, please refer to the full ERCP report in the ___ medical record. CT abdomen/pelvis ___: CT OF THE ABDOMEN: Moderate bilateral effusions, greater on the right than left, have increased somewhat. Associated parenchymal densities are most likely associated with atelectasis. These are similar to the recent prior exam. Coronary artery calcifications are widespread. A new metallic stent through the second portion of the duodenum has been placed since the prior examination. Two metallic stents remain in situ within the biliary ducts. Enteric contrast passes across the stent without evidence for extravasation of contrast or free air to indicate perforation. In the anterior right lobe, there are multiple air-fluid levels, the largest loculation probably measuring about 21 mm in diameter. These appear in continuity with the biliary ductal system and could be seen as increasing bilomas. Pneumobilia is more widespread and probably associated with stents as an anticipated appearance. The pancreatic duct is mildly dilated as before. The liver is otherwise not well delineated but ill-defined soft tissue in the hepatic hilum reflects a known Klatskin tumor. Biliary dilatation is mild-to-moderate but similar to somewhat decreased since the prior examination. There is widespread peritoneal carcinomatosis, including areas of thickened small bowel, although without obstruction. A segment of the proximal transverse colon, though not obstructed, is again narrowed and in keeping with malignant involvement along its surface. A subcutaneous nodule along the upper anterior subcutaneous tissues to the right of midline is similar in size. Similarly, a metastatic nodule in the left inguinal canal is unchanged. Extensive peritoneal nodularity in the pelvis nodularity is similar. A moderate to large quantity of ascites is present has considerably increased. BONE WINDOWS: There are no suspicious lytic or blastic lesions. IMPRESSION: 1. Status post interval placement of duodenal stent which appears patent, without evidence for bowel perforation. 2. Increasing multilocular fluid collections in the periphery of the right lobe, in continuity with the biliary ducts including air-fluid levels, somewhat increased. Clinical correlation is recommended. 3. Similar to somewhat decreased intrahepatic biliary ductal dilatation associated with obstruction by a Klatskin tumor in the liver hilum; the tumor is not well delineated on this examination. 4. Similar appearance of widespread peritoneal carcinomatosis, without evidence for bowel obstruction, the only change being a new moderate-to large quantity of ascites. 5. Known portal thrombus not assessed. Abdominal US ___: FINDINGS: Limited ultrasound of the abdominal quadrants was performed. Ascites is noted throughout the abdomen. The patient was initially transferred to the department for an ultrasound-guided paracentesis. However, during the initial pre-procedure scanning, the patient was extremely disoriented and expressed a desire not to continue with the examination. Further imaging of the abdomen was unable to be performed. At this point, the patient was transported back to her inpatient floor. IMPRESSION: Limited ultrasound demonstrating abdominal ascites. The requested paracentesis was unable to be performed due to the patient's condition at this time. CT Head w/o contrast ___: IMPRESSION: No acute intracranial abnormality or significant change from prior. CT abdomen/pelvis ___: CT ABDOMEN WITHOUT IV CONTRAST: Moderate simple fluid-attenuation bilateral effusions with associated compressive atelectasis are similar to prior. Ill-defined nodular parenchymal densities are also similar to prior but poorly evaluated in the setting of effusions. Coronary artery calcifications are present. Evaluation of the abdominal organs is limited on noncontrast enhanced CT. Two metallic stents within the right and left hepatic ducts are similar in position. The metallic stent extending through the second portion of the duodenum is also similar to prior. The gallbladder is surgically absent. In the anterior right lobe of the liver, small air-fluid levels are again noted which have diminished in size compared to the prior study. These appear to be in continuity with the biliary system and could represent bilomas. The largest pocket measures approximately 2.7 x 2.7 cm compared to 3.0 x 2.5 cm previously. No new collection is identified on this limited non-contrast-enhanced CT. Ill-defined soft tissue density in the hepatic hilum is similar to prior, compatible with a Klatskin tumor. There is intrahepatic biliary ductal dilatation as before. There is large amount of ascites, which has increased compared to the prior study. In addition, there is anasarca. Known peritoneal implants are not well evaluated on the current exam. There is residual contrast material within the large bowel. The previously noted collapsed segment of hepatic flexure/proximal transverse colon abutting the duodenum is less well evaluated on the current CT. Soft tissue density in the upper abdominal wall to the right of the midline measures approximately 4.6 x2.7 cm compared to 4.8 x 3.0 cm and is concerning for metastasis. The small bowel is not well evaluated due to the large volume of ascites and lack of oral contrast. The kidneys are symmetric in size without evidence of stones or hydronephrosis. BONE WINDOWS: No suspicious lytic or sclerotic osseous lesion is identified. IMPRESSION: 1. Resolving post-ERCP pneumobilia with persistent low-attenuation in the anterior right hepatic lobe with an air-fluid level similar to prior, which could represent a biloma or abscess. No new collection. 2. Little overall change in known metastatic cholangiocarcinoma and associated large ascites, intrahepatic biliary dilation and peritoneal carcinomatosis. 3. Unchanged moderate bilateral pleural effusions. 4. Known left portal vein thrombosis is not well evaluated on the current study. Brief Hospital Course: ___ woman with cholangiocarcinoma s/p cycle 2 of gemcitabine/cisplatin on ___, with h/o recurrent biliary obstruction s/p ERCP with stents and repeat ERCP and replaced stent ___, who presented with acute on chronic abdominal pain. . # Bacteremia: Initially pt was placed on IV cipro/flagyl following ERCP on ___. On ___, lab reported that blood culture from ___ was growing GNRs. Pt was switched to IV cefepime. ___ guided paracentesis of ascitic fluid was attempted for diagnostic and therapeutic purposes when bacteremia was discovered. However, pt had altered mental status and was too agitated to complete the procedure. She was treated empirically for SBP/bacteremia with cefepime and IV albumin. Family meeting was held to discuss pt's poor prognosis. Family decided to make her DNI/DNR. On morning of ___, pt's blood pressure fell to systolic ___. She was not responsive to IV fluids. Family was contacted. She passed before their arrival. Blood cultures ultimately grew haemophilus parainfluenzae and later enterococcus faecium sensitive to daptomyclin/linezolid and resistant to ampicillin/penicillin/vancomycin. . #. Abdominal pain: Pt initially presented with acute on chronic abdominal pain, largely in the RUQ. She also had elevated bilirubin, peaking at 6. CT abdomen on admission showed progression of her metastatic cholangiocarcinoma with pleural effusions, abdominal ascites, increasing pulmonary nodules, intrahepatic biliary dilatation and loculated hypodensities in liver, and metastatic deposits involving abdominal wall and bilateral inguinal regions. She was taken to ERCP on ___. She was found to have a duodenal stricture that could not be intervened upon. Her plavix was held in preparation for a repeat ERCP on ___. A stent was placed in the right hepatic duct and also in the duodenum. Bilirubin and LFTs began to downtrend following the procedure. She was placed on IV cipro/flagyl (see above). She could not tolerate po due to pain and was placed on TPN with IV fluids prn. For her abdominal pain, she was placed on a number of narcotic regimens. Palliative care was consulted for symptom control. She was initially placed on a dilaudid pca with fentanyl patch but this was complicated by increasing somnolence and confusion. She was started on ritalin to decrease somnolence. Mental status worsened and she became increasingly agitated and having hallucinations. Ritalin was stopped and she was transitioned to oxycontin and oxycodone. After her ERCP, abdomen was thought to be more tense and pt was with increasing pain. Surgery was consulted for possible perforation. However, repeat CT abdomen showed no perforation. . # Altered mental status: Pt had worsening mental status throughout hospital course. Initially with the uptitration of pain medications she became increasingly somnolent and confused. Later, she became agitated, having hallucinations, refusing certain therapies, and not sleeping. There was no improvement with zyprexa or seroquel. The acute change in MS was likely due to bacteremia. CT head was performed that showed no acute intracranial process. She was started on lactulose given possibility of hepatic encephalopathy. . # Acute renal failure: On ___, Cr began to rise. Cr had been normal 0.8-1.0 throughout most of admission, then began to increase, peaking at 1.5, despite IV hydration. Hepatorenal syndrome was suspected given her bacteremia ___ to possible SBP. She was given IV albumin without improvement. . # Back pain: On admission pt complained of back pain and leg weakness. On exam, she had diminished rectal tone. MRI of L-spine was obtained for concern of cord compression but this was negative for spinal metastases or nerve root impingement. . # Anemia: Hct ranged from mid to high ___ throughout admission. She received a total of 2 units PRBCs throughout admission. . # Cholangiocarcinoma: CT abdomen on admission showed progression of her metastatic cholangiocarcinoma with pleural effusions, abdominal ascites, increasing pulmonary nodules, intrahepatic biliary dilatation and loculated hypodensities in liver, and metastatic deposits involving abdominal wall and bilateral inguinal regions. She was s/p cycle 2 of gemcitabine/cisplatin in ___. Palliative care was involved in symptom control, primarily pain control. Family meeting was held with the pt's primary oncologist. It was communicated to the family that pt's prognosis was poor and that it was likely that she would not regain her health enough to be able to tolerate another cycle of chemotherapy. Family stated their wishes that they wanted to keep the pt full code and wanted her to be able to receive further chemotherapy. Later, when pt became bacteremic with altered mental status, family changed code status to DNI/DNR. . # CAD: Pt was s/p MI in ___. Medical records from ___ ___ were obtained which reported that pt had BMS stent placed in ___. Plavix was held briefly for ERCP and restarted after the procedure. Medications on Admission: 1. amlodipine 10 mg daily 2. clopidogrel 75 mg daily 3. docusate sodium 100 mg BID 4. metoprolol tartrate 50 mg BID 5. oxycontin 20 mg Tablet Q8 hours 6. oxycodone 5 mg Q4 PRN 7. Miralax 17 gram Powder 8. senna 8.6 mg 9. acetaminophen 500 mg 10. trazodone 50 mg 11. ZOFRAN ODT 8 mg Discharge Medications: EXPIRED Discharge Disposition: Expired Discharge Diagnosis: EXPIRED Discharge Condition: EXPIRED Discharge Instructions:\n",
            "Generated Summary: Key words: ERCP, cholangiocarcinoma, abdominal pain.\n",
            "Reference Summary: EXPIRED Followup Instructions: ___\n",
            "\n",
            "Example 5:\n",
            "Input Text: Name: ___ Unit No: ___ Admission Date: ___ Discharge Date: ___ Date of Birth: ___ Sex: F Service: ORTHOPAEDICS Allergies: Patient recorded as having No Known Allergies to Drugs Attending: ___. Chief Complaint: back pain Major Surgical or Invasive Procedure: None History of Present Illness: Ms. ___ is a ___ year-old female with BPD and chronic LBP who is transferred from ___ for management of worsening back pain and spine consultation for disc herniation. She has a long history of LBP secondary to a fall several years ago and her pain has been worsening for four weeks, with new lateral left thigh and leg numbness. She has also had two falls over the last few weeks in which she tripped over her left foot; no head trauma or LOC. She has been taking percocets and took ~30 tablets over the past three days. ROS is neg for bowel/bladder incontinence. She presented to ___ on ___ for evaluation of worsening pain and VS were 98.8 121/86 96%ra. She had an MRI which showed L4-5 disc extrusion and L5-S1 spinal nerve root compression and ?lumbar osteo, and she was given morphine 4mg iv x 2, dilaudid, ativan, and vancomycin per transfer documentation; doses are unknown for most of these medications. There was also mention of \"pain medication drug overdose\" in her transfer notes but this appears to be related to her history of multiple percocets; no objective data from her course at ___ support this diagnosis, e.g. stable VS, no naloxone given. In the ED, vital signs were initially: 98.8 94 121/86 12 96%. She was given dilaudid 1 mg iv x 1 for pain. Ortho spine was consulted and reccomended checking ESR/CRP to rule out osteo based on her MRI read; her films were reviewed. She was then admitted for pain management. REVIEW OF SYSTEMS: No fevers, chills, weight loss, diaphoresis, headache, visual changes, sore throat, chest pain, shortness of breath, nausea, vomiting, abdominal pain, constipation, diarrhea, melena, pruritis, easy bruising, dysuria, skin changes, pruritis. Past Medical History: Bipolar disorder Chronic anxiety S/p L3-L4 fusion and discectomy, ___ and ___ Social History: ___ Family History: No hx of CAD or cancer Physical Exam: VS: 98.4 99 143/87 87 99% RA GEN:The patient is in no distress and appears comfortable SKIN:No rashes or skin changes noted HEENT:No JVD, neck supple, No lymphadenopathy in cervical, posterior, or supraclavicular chains noted. CHEST:Lungs are clear without wheeze, rales, or rhonchi. CARDIAC: Regular rhythm; no murmurs, rubs, or gallops. ABDOMEN: No apparent scars. Non-distended, and soft without tenderness. Good rectal tone. EXTREMITIES:no peripheral edema, warm without cyanosis NEUROLOGIC: Alert and appropriate. CN II-XII grossly intact. BUE ___, and RLE ___ both proximally and distally; LLE ___ strength. No pronator drift. Reflexes were symmetric. Downward going toes Pertinent Results: ___ 11:55PM GLUCOSE-70 UREA N-15 CREAT-0.7 SODIUM-144 POTASSIUM-3.9 CHLORIDE-109* TOTAL CO2-25 ANION GAP-14 ___ 11:55PM estGFR-Using this ___ 11:55PM ALT(SGPT)-21 AST(SGOT)-19 LD(LDH)-232 ALK PHOS-105 TOT BILI-0.3 Brief Hospital Course: Ms. ___ is a ___ year-old female with BPD and chronic LBP who is transferred from ___ for management of worsening back pain and spine consultation for disc herniation. . # Lumbar disc herniation/lower back pain: Has large disc hernation at L4-5 and and neural foramina narrowing L5-S1. Worsening LBP likely secondary to progression of lumbar disease though no prior films for which to compare current film. Question osteo but does not clinically appear infected and no evidence of abscess on MRI. No evidence of spinal cord compression. - pain management with NSAIDS, po morphine/dilaudid - check LFTs given high percocet use and can start APAP pending results - lidocaine patch to lumbar spine - ___ consult - ortho spine saw patient in ED and will touch base with team in a.m., appreciate reccs - cont gabapentin - cont Cyclobenzaprine - continue fentanyl patch once dose clarified . # BPD: Not currently taking medications for this per her report, though this is likely the indication for her lamictal. No SIs. - continue lamotrigine once dose clarified . # Anxiety: - continue celexa, clonazepam Medications on Admission: Celexa 20 mg po qhs clonazepam 1 mg po qhs clonazepam 0.5 mg po daily Celebrex ___ mg po bid Gabapentin 400 MG PO qid oxycodone ___ tabs po q4-6h prn pain Fentanyl 100 mcg/hr patch q72h Flexeril 10 mg po tid Prevacid - dose unknown Lamictal - dose unknown Discharge Medications: 1. Citalopram 20 mg Tablet Sig: One (1) Tablet PO HS (at bedtime). 2. Clonazepam 0.5 mg Tablet Sig: 0.5 Tablet PO DAILY (Daily). 3. Clonazepam 1 mg Tablet Sig: One (1) Tablet PO QHS (once a day (at bedtime)). 4. Cyclobenzaprine 10 mg Tablet Sig: One (1) Tablet PO TID (3 times a day) as needed for BACK SPASM. 5. Fentanyl 100 mcg/hr Patch 72 hr Sig: One (1) Transdermal Q72H (every 72 hours). 6. Pantoprazole 40 mg Tablet, Delayed Release (E.C.) Sig: One (1) Tablet, Delayed Release (E.C.) PO Q24H (every 24 hours). 7. Gabapentin 400 mg Capsule Sig: One (1) Capsule PO QID (4 times a day). 8. Oxycodone 20 mg Tablet Sustained Release 12 hr Sig: One (1) Tablet Sustained Release 12 hr PO Q12H (every 12 hours): 1 tablet twice a day for 7 day and 1 tablet once a day for 7 days. Disp:*21 Tablet Sustained Release 12 hr(s)* Refills:*0* 9. Oxycodone-Acetaminophen ___ mg Tablet Sig: ___ Tablets PO every ___ hours as needed for pain. Disp:*120 Tablet(s)* Refills:*0* Discharge Disposition: Home With Service Facility: ___ ___ Diagnosis: Lumbar canal stenosis Discharge Condition: stable, ambulating Discharge Instructions:\n",
            "Generated Summary: The patient has BPD and chronic LBP and has been taking percocets and taken 30 tablets over the past few weeks, with no head trauma or LOC.\n",
            "Reference Summary: You have undergone the following operation: Anterior and posterior lumbar fusion with posterior decompression. Immediately after the operation: -Activity: You should not lift anything greater than 10 lbs for 2 weeks. You will be more comfortable if you do not sit or stand more than ~45 minutes without getting up and walking around. -Rehabilitation/ Physical Therapy: o2-3 times a day you should go for a walk for ___ minutes as part of your recovery. You can walk as much as you can tolerate. oLimit any kind of lifting. -Diet: Eat a normal healthy diet. You may have some constipation after surgery. You have been given medication to help with this issue. -Brace: You may have been given a brace. This brace is to be worn when you are walking. You may take it off when sitting in a chair or while lying in bed. -Wound Care: Remove the dressing in 2 days. If the incision is draining cover it with a new sterile dressing. If it is dry then you can leave the incision open to the air. Once the incision is completely dry (usually ___ days after the operation) you may take a shower. Do not soak the incision in a bath or pool. If the incision starts draining at anytime after surgery, do not get the incision wet. Cover it with a sterile dressing. Call the office. -You should resume taking your normal home medications. -You have also been given Additional Medications to control your pain. Please allow 72 hours for refill of narcotic prescriptions, so please plan ahead. You can either have them mailed to your home or pick them up at the clinic located on ___. We are not allowed to call in or fax narcotic prescriptions (oxycontin, oxycodone, percocet) to your pharmacy. In addition, we are only allowed to write for pain medications for 90 days from the date of surgery. -Follow up: oPlease Call the office and make an appointment for 2 weeks after the day of your operation if this has not been done already. oAt the 2-week visit we will check your incision, take baseline X-rays and answer any questions. We may at that time start physical therapy. oWe will then see you at 6 weeks from the day of the operation and at that time release you to full activity. Please call the office if you have a fever>101.5 degrees Fahrenheit and/or drainage from your wound. Physical Therapy: Ambulation with assistance with the goal to make her independent ambulator. Treatments Frequency: Physical therapy ___ times a week. Followup Instructions: ___\n"
          ]
        }
      ],
      "source": [
        "print(\"\\n👉 BLEU Score:\", bleu.score)\n",
        "\n",
        "# Compare some examples\n",
        "for i in range(5):\n",
        "    print(f\"\\nExample {i + 1}:\")\n",
        "    print(\"Input Text:\", train_list['input'][i])\n",
        "    print(\"Generated Summary:\", generated_summaries[i])\n",
        "    print(\"Reference Summary:\", reference_summaries[i])"
      ]
    },
    {
      "cell_type": "code",
      "source": [
        "!pip install -q evaluate"
      ],
      "metadata": {
        "colab": {
          "base_uri": "https://localhost:8080/"
        },
        "id": "EIW3kLsoj-1e",
        "outputId": "582cf557-d9af-426e-b349-ad6d0091879c"
      },
      "execution_count": null,
      "outputs": [
        {
          "output_type": "stream",
          "name": "stdout",
          "text": [
            "\u001b[?25l   \u001b[90m━━━━━━━━━━━━━━━━━━━━━━━━━━━━━━━━━━━━━━━━\u001b[0m \u001b[32m0.0/84.1 kB\u001b[0m \u001b[31m?\u001b[0m eta \u001b[36m-:--:--\u001b[0m\r\u001b[2K   \u001b[90m━━━━━━━━━━━━━━━━━━━━━━━━━━━━━━━━━━━━━━━━\u001b[0m \u001b[32m84.1/84.1 kB\u001b[0m \u001b[31m7.9 MB/s\u001b[0m eta \u001b[36m0:00:00\u001b[0m\n",
            "\u001b[?25h"
          ]
        }
      ]
    },
    {
      "cell_type": "code",
      "source": [
        "import evaluate\n",
        "# Load ROUGE metric\n",
        "rouge = evaluate.load('rouge')\n",
        "\n",
        "# Calculate ROUGE scores\n",
        "results = rouge.compute(predictions=generated_summaries, references=reference_summaries)\n",
        "\n",
        "print(\"\\n👉  ROUGE Scores:\", results)\n",
        "\n",
        "# Compare some examples\n",
        "for i in range(5):\n",
        "    print(f\"\\nExample {i + 1}:\")\n",
        "    print(\"Input Text:\", train_list['input'][i])\n",
        "    print(\"Generated Summary:\", generated_summaries[i])\n",
        "    print(\"Reference Summary:\", reference_summaries[i])"
      ],
      "metadata": {
        "colab": {
          "base_uri": "https://localhost:8080/",
          "height": 538,
          "referenced_widgets": [
            "80ac358cb1444731b6580271d1381ce7",
            "d321ec1719b14dbd8a3ab760108d9c8c",
            "632466bab1194360b380ffe67c4938ae",
            "301f72f361934e0387f52a6989c69c52",
            "615d17a33c0e4ee7993d2e5555a33f14",
            "1e99d2eca0cb4b77980529453500f74a",
            "087bcffd003d4c4eb68f50a210ece8bf",
            "b8f3c041c1f24cf386192d87ec3b9aed",
            "e6a1ffbc4aa647b5818950975ee1327b",
            "fade5a80b29144f5bce1471be3d853a2",
            "768c264ea7f2415b8d6c204fcec0b717"
          ]
        },
        "id": "EaOuxBBzhLTy",
        "outputId": "263617e0-7675-46b2-c22a-b33482b3fac8"
      },
      "execution_count": null,
      "outputs": [
        {
          "output_type": "display_data",
          "data": {
            "text/plain": [
              "Downloading builder script:   0%|          | 0.00/6.27k [00:00<?, ?B/s]"
            ],
            "application/vnd.jupyter.widget-view+json": {
              "version_major": 2,
              "version_minor": 0,
              "model_id": "80ac358cb1444731b6580271d1381ce7"
            }
          },
          "metadata": {}
        },
        {
          "output_type": "stream",
          "name": "stdout",
          "text": [
            "\n",
            "👉  ROUGE Scores: {'rouge1': 0.06281995422258685, 'rouge2': 0.008591768267735864, 'rougeL': 0.040757630829215005, 'rougeLsum': 0.04048791654844759}\n",
            "\n",
            "Example 1:\n",
            "Input Text: Name: ___ Unit No: ___ Admission Date: ___ Discharge Date: ___ Date of Birth: ___ Sex: M Service: MEDICINE Allergies: naproxen / ibuprofen Attending: ___. Chief Complaint: Back pain Major Surgical or Invasive Procedure: None this hospitalization History of Present Illness: HISTORY OF PRESENT ILLNESS: This patient is a ___ year old male who complains of low back pain w/ herniated disc (L 3-L4) and previous laminectomy L2-L5 last year @ ___- presents w/ ___ pain- difficulty walking. Patient states that he has been having left-sided back pain radiating down to his left hip. No inc stool/urine. +chronic constipation (not assoc with onset of back pain). Took 25mg Oxycodone last night and fell OOB after this- No head trauma- Usually takes 20mg Oxycodone for pain exacerbations. No fevers or chills. No chest pain or shortness of breath. In the ED, initial vitals were: Temp: 98.8 HR: 101 BP: 132/74 Resp: 16 O(2)Sat: 95 Normal On the floor, Patient had notes regarding the h/o his back pain. He has had low back pain for many years. He had back surgery in ___, without improvement in symptoms. Starting ___ mos ago the low back pain w/radiation to the left buttock has increased and he has started having weakness in his legs (L>R). He has fallen 5x in the past 5 weeks (including twice last night due to excessive oxycodone -he also hallucinated, which he has done in the past when taking oxycodone after his surgery). No head injuries. He was originally treated with ___, which was d/c'd because it increased his pain. He was then prescribed oxycodone 10 mg ___ prn) and then Neurontin 900 mg qdaily and then lkowered to 300 mg qdaily due to SE's of fatigue, somnelence. Pain is intermittant, ___ at worse, awakens Pt from sleep. Worse when lying down, best while sitting up. MRI done at ___ 2 wks ago. Had 2 series of cortisone injections for pain, w/o improvement. Scheduled to get more tomorrow. Surgery sched on ___ with Dr. ___. Denies saddle anesthesia, recent infection. NL colonoscopy ___ yrs ago, no h/o prostate CA. Patient also c/o intermittent L knee pain, sharp in nature, which occurs mostly at night while lying in bed. Review of systems: (+) Per HPI (-) Denies fever, chills, Denies dizziness. Denies cough, shortness of breath. Denies chest pain. Denies nausea, vomiting, diarrhea, No recent change in bowel or bladder habits. No hematuria. Past Medical History: Barretts Esophagus Depression Hypertension Paroxysmal atrial fibrillation Type II Diabetes Mellitus Social History: ___ Family History: N/C Physical Exam: ADMISSION PHYSICAL EXAM: Vitals: 98.7 140/70 76 20 97%RA General: Alert, oriented, no acute distress, sitting in chair HEENT: Sclera anicteric, MMM, oropharynx clear, EOMI, PERRL Neck: supple, JVP not elevated, no LAD CV: Regular rate and rhythm, normal S1 + S2, no murmurs, rubs, gallops Lungs: Clear to auscultation bilaterally, no wheezes, rales, rhonchi Abdomen: soft, non-tender, non-distended, bowel sounds present, no organomegaly, no rebound or guarding Back: no tenderness to palpation over spinous processes, or paraspinal, no hip or buttock pain w/palpation GU: no foley Ext: Warm, well perfused, 2+ radial pulses, no clubbing, cyanosis or edema, mild pain with palpation L knee palpation Neuro: CNII-XII grossly intact, ___ strength upper extremities, ___ RLE, 4+ LLE, neg leg raise and crossed leg raise, grossly normal sensation, 3+ patellar reflexes bilaterally, gait deferred DISCHARGE PHYSICAL EXAM VS: Tm 98.0 Tc 97.0 HR 73 BP 137/88 R20 O2 sat 97% General: Alert, oriented, no acute distress HEENT: Sclera anicteric, no conjunctival injection, EOMI Neck: supple CV: Regular rate and rhythm, normal S1 + S2, no murmurs, rubs, gallops Lungs: Clear to auscultation bilaterally, no wheezes, rales, rhonchi Abdomen: soft, non-tender, non-distended, pos bowel sounds GU: no foley Ext: Warm, well perfused, no clubbing, cyanosis or edema Neuro: AOx3, ___ strength upper extremities, ___ strength ___ b/l, sensation intact. Pertinent Results: ADMISSION ___ 04:17PM URINE COLOR-Yellow APPEAR-Clear SP ___ ___ 04:17PM URINE BLOOD-NEG NITRITE-NEG PROTEIN-TR GLUCOSE-NEG KETONE-NEG BILIRUBIN-NEG UROBILNGN-NEG PH-7.5 LEUK-NEG ___ 04:17PM URINE RBC-1 WBC-1 BACTERIA-NONE YEAST-NONE EPI-<1 ___ 04:17PM URINE HYALINE-3* ___ 04:17PM URINE MUCOUS-RARE DISCHARGE ___ 07:30AM BLOOD WBC-4.0 RBC-4.00* Hgb-12.6* Hct-35.3* MCV-88 MCH-31.5 MCHC-35.8* RDW-13.3 Plt ___ ___ 07:30AM BLOOD Plt ___ ___ 07:30AM BLOOD ___ 07:30AM BLOOD Glucose-95 UreaN-32* Creat-1.4* Na-138 K-3.4 Cl-100 HCO3-31 AnGap-10 ___ 07:30AM BLOOD Calcium-9.2 Phos-3.8 Mg-2.3 IMAGING ___ CXR IMPRESSION: Mild cardiac enlargement, but no evidence of significant CHF or acute infiltrates on this preoperative chest examination. Brief Hospital Course: Mr. ___ presented to the ED for progressive lumbar pain and subjective weakness in his legs. Neurologic examination was normal. There was no evidence of an infectious process. His pain was ultimately well controlled without significant changes to his home medication regimen. He was evaluated by his neurosurgeon here who offered to schedule his planned surgery sooner (___) given his ongoing pain. Ultimately however, Mr ___ elected to pursue conservative therapy with physical therapy possibly to include traction, and to have ongoing discussions with Dr. ___ ___ any further surgery. His pain improved during the brief hospitalization, and he was independently ambulatory without difficulty or significant pain on the day of discharge. He was also noted to have acute renal insufficiency on presentation. His creatinine improved slightly here with IV hydration and his ___ was held. He was not significantly hypertensive with the holding of this medication. We have asked that he have a chemistry 7 checked within a week, and to discuss with his primary MD the possible re-initiation of his ___ should his renal function normalize and allow this. His serum creatinine on the day of discharge was 1.4, down from a peak of 1.5 on presentation (baseline likely 0.9 to 1.0). Medications on Admission: The Preadmission Medication list is accurate and complete. 1. Omeprazole 20 mg PO BID 2. LaMOTrigine 200 mg PO QAM 3. Amlodipine 5 mg PO DAILY 4. Losartan Potassium 100 mg PO DAILY 5. Phenelzine Sulfate 30 mg PO QAM 6. LaMOTrigine 100 mg PO QPM 7. Phenelzine Sulfate 15 mg PO QPM 8. Gabapentin 100 mg PO BID 9. Atorvastatin 20 mg PO HS 10. Tamsulosin 0.8 mg PO HS 11. ClonazePAM 1.5 mg PO QHS:PRN insomnia 12. QUEtiapine Fumarate 25 mg PO QHS 13. Piroxicam 10 mg PO DAILY 14. Hydrochlorothiazide 12.5 mg PO DAILY 15. Milk of Magnesia 120 mL PO DAILY:PRN constipation 16. Docusate Sodium 400 mg PO DAILY:PRN constipation Discharge Medications: 1. Amlodipine 5 mg PO DAILY 2. Atorvastatin 20 mg PO HS 3. Docusate Sodium 400 mg PO DAILY:PRN constipation 4. Gabapentin 100 mg PO BID 5. Hydrochlorothiazide 12.5 mg PO DAILY 6. LaMOTrigine 200 mg PO QAM 7. LaMOTrigine 100 mg PO QPM 8. Milk of Magnesia 120 mL PO DAILY:PRN constipation 9. Omeprazole 20 mg PO BID 10. Phenelzine Sulfate 30 mg PO QAM 11. Phenelzine Sulfate 15 mg PO QPM 12. QUEtiapine Fumarate 25 mg PO QHS 13. Tamsulosin 0.8 mg PO HS 14. ClonazePAM 1.5 mg PO QHS:PRN insomnia 15. Acetaminophen 1000 mg PO Q8H Do not exceed 3 grams daily. 16. OxycoDONE (Immediate Release) 5 mg PO Q4H:PRN breakthrough pain Avoid taking this medication while driving or if operating machinery. Do not consume with alcohol. RX *oxycodone 5 mg 1 tablet(s) by mouth every 4 hours as needed for pain Disp #*25 Tablet Refills:*0 17. Outpatient Lab Work Please have your electrolytes checked on ___ or ___ next week (___). Basic metabolic panel with calcium and magnesium. FAX RESULTS TO: ___ - ___ 18. Outpatient Physical Therapy Outpatient physical therapy referral for ongoing left sided L3-4 herniated disc protrusion with back pain. ICD-9 CODE: ___.2 Discharge Disposition: Home Discharge Diagnosis: PRIMARY DIAGNOSES: 1. Lumbar spine herniated disc disease 2. Acute kidney injury Discharge Condition: Mental Status: Clear and coherent. Level of Consciousness: Alert and interactive. Activity Status: Ambulatory - requires assistance or aid (walker or cane). Discharge Instructions:\n",
            "Generated Summary: The patient is a year old male who complains of low back pain and previous laminectomy L2-L5.\n",
            "Reference Summary: Mr. ___, You were admitted to the Internal Medicine service at ___ ___ on CC7 regarding management of your low back pain. Spine surgery evaluated you here and felt that your exam was stable and offered you spine surgery this week, but you declined and felt that you would prefer to resume outpatient physical therapy and consider surgery in the future. We did not escalate your pain medications. Please call your doctor or go to the emergency department if: * You experience new chest pain, pressure, squeezing or tightness. * You develop new or worsening cough, shortness of breath, or wheezing. * You are vomiting and cannot keep down fluids, or your medications. * If you are getting dehydrated due to continued vomiting, diarrhea, or other reasons. Signs of dehydration include: dry mouth, rapid heartbeat, or feeling dizzy or faint when standing. * You see blood or dark/black material when you vomit, or have a bowel movement. * You experience burning when you urinate, have blood in your urine, or experience an unusual discharge. * Your pain is not improving within 12 hours or is not under control within 24 hours. * Your pain worsens or changes location. * You have shaking chills, or fever greater than 101.5 degrees Fahrenheit or 38 degrees Celsius. * You develop any other concerning symptoms. Followup Instructions: ___\n",
            "\n",
            "Example 2:\n",
            "Input Text: Name: ___ Unit No: ___ Admission Date: ___ Discharge Date: ___ Date of Birth: ___ Sex: M Service: NEUROLOGY Allergies: Phenergan Attending: ___ Chief Complaint: Retractable headache, nausea, vomiting, and weakness Major Surgical or Invasive Procedure: Lumpar Puncture on ___ History of Present Illness: This is a ___ year old man with a past medical history significant for multiple hospital admissions for intractable headache, nausea, vomiting, vertigo, weakness, and previous diagnosis of IIH. He first sought medical care for an episode of syncope in ___ in ___. Due to additional symptoms of severe headache, vertigo, papilledema (per patient), and blurry vision he underwent extensive work up and was ultimately diagnosed with IIH based on an elevated LP opening pressure. He also received multiple nerve blocks for refractory headache. He also reports he spent a month at ___ in ___ for similar symptoms. In ___ when the patient was living in ___ he returned to the ED and was hospitalized again for a month for similar symptoms. He moved to ___ in ___. He is a poor historian and the details of these hospitalizations are not clear, however the patient says that he has had 40 LP's throughout the last ___ years and does not follow-up outpatient due to his frustration with \"neurologists not understanding my condition\". His first presentation to ___ was on ___ due to 2 weeks of headache, neausea,vomiting, diarrhea, vertigo, subjective sensory abnormalities, and give way weakness. His LP was significant for an opening pressure of 27. After 25 cc CSF removal his symptoms improved. CT/CTV was negative and he was discharged on 250 BID acetazolamide but did not follow-up with Dr. ___ due to insurance issues. His next presentation to the ___ ED was on ___ with similar symptoms with an opening pressure of 30. 20 cc CSF was removed and he was discharged on 500mg BID acetalzolamide. However, he did not improve. He was supposed to follow up with a new PCP today but returned to the ED last night (___) due to a worsening headache, nausea, vomiting, diarrhea, and numbness in his legs bilaterally up to his knees. On presentation to the ED he presented with bioccipital headache radiating to the front that he described as a ___. In addition he endorsed photophobia, nausea and vomiting, diplopia in left eye, vertigo, pulsatile tinnitus, and diffuse back pain (___). Of note, the patient also states that he has had multiple episodes of syncope that were preceded by headache and vertigo over the last ___ years preceded by tunnel vision and dizziness/vertigo. His last episode was in ___. He is not sure if he hit his head during these episodes. one of them were witnessed by a family member and he does not think they noticed any shaking. In addition, he sustained a leg fracture from a MVA in ___ before his current symptoms started. The patient has never been followed by a PCP or neurologist although he is very well versed in medical jargon and IIH and does a lot of research online. He is very anxious concerning all of his symptoms and frustrated with a lack of a clear explanation/diagnosis. Past Medical History: IIH (diagnosed in ___ Appendectomy and colectomy in ___ (unverified) Social History: ___ Family History: No neurologic issues. Physical Exam: Physical Exam: Vitals: T: 98.1 P: 84 R: 18 BP: 133/88 SaO2: 98% RA General: Awake, emotionally labile HEENT: NC/AT, no scleral icterus noted, MMM, no lesions noted in oropharynx Pulmonary: Normal work of breathing Cardiac: RRR, warm, well-perfused Abdomen: soft, non-distended Extremities: No ___ edema. Skin: no rashes or lesions noted. Neurological Exam -Mental status: Oriented to person, place,and time. However he is very inattentive and asks for questions and commands to be repeated multiple times. He could not recite days of the weeks backwards. He could register 3 words but only remembered ___ at 5 minutes from a multiple choice test. Repetition and naming to high and low frequency words intact, normal prosody and fluency. Could not follow 2 step commands. -CN: II visual fields full on right, constricted in all quadrants in left. Right eye ___ and left eye ___, optic discs sharp without papilledema, pupils equal round reactive to light IIII, IV, VI EOMi without nystagmus V decreased sensation to light touch and temperature throughout left side of face VII facial musculature intact without asymmetry VIII decreased hearing to finger rub in left ear of conductive etiology via ___ test, no vibration in midline, does not split IX, X Palate elevates symmetrically XI ___ strength SCN and trapezius bilaterally XII tongue protrudes midline with full strength and movement -Motor normal tone and bulk, no drift Give way weakness bilaterally, particularly in the lower extremities. Patient has jerky movements with giving effort, and with encouragement can give full strength. -DTRs: Bi Tri ___ Pat Ach L 1 1 1 0 0 R 1 1 1 0 0 Plantar response was flexor bilaterally. -Sensory Vibration 10 seconds knees bilaterally, 0 below bilaterally. Proprioception decreased left toe, full in left ankle, normal in right toe and ankle. Light touch 30% left dorsal and ventral aspects of foot,60% anterior shin, and 80% above knee. Temperature 0 up until knee, 60% anterior thigh No extinction on double simultaneous stimulation -Coordination Dysmetria and slowed finger tapping on left hand -Gait able to stand with help but feels unsteady due to vertigo and immediately sits down. On repeat still feels vertigo and nauseous. Will take 3 very tentative steps and then will sit back down due to vertigo. Despite encouragement he does not hold on to examiner and immediately returns to bed after the exam. Pertinent Results: ___ 05:35AM BLOOD Glucose-85 UreaN-13 Creat-1.1 Na-139 K-4.1 Cl-108 HCO3-19* AnGap-12 ___ 09:40AM BLOOD ALT-18 AST-31 AlkPhos-58 TotBili-0.4 ___ 05:25AM BLOOD Calcium-9.3 Phos-4.2 Mg-2.1 ___ 05:25AM BLOOD VitB12-226* Folate-6 ___ 05:25AM BLOOD %HbA1c-5.5 eAG-111 ___ 05:25AM BLOOD TSH-1.5 ___ 05:25AM BLOOD 25VitD-16* ___ 05:52AM BLOOD ___ pO2-51* pCO2-46* pH-7.26* calTCO2-22 Base XS--6 Comment-GREEN TOP ___ 05:00PM CEREBROSPINAL FLUID (CSF) TNC-3 RBC-182* Polys-8 ___ ___ 05:00PM CEREBROSPINAL FLUID (CSF) TNC-206* ___ Polys-42 Bands-1 ___ Monos-8 Eos-1 Basos-2 ___ 05:00PM CEREBROSPINAL FLUID (CSF) TotProt-30 Glucose-62 Brief Hospital Course: This is a ___ year old man with a significant history of multiple hospital admissions and ED visits for refractory headache, nausea, vomiting, subjective weakness, and patchy vibratory and sensory loss in the lower extremities. He also has a previous history of diagnosed IIH given several past LP's with opening pressures between 25 and 30. His current presentation is consistent with his past admissions, and LP and MRI W/WO contrast done on this admission were both normal. His exam continues to have functional components, such as he had difficultly moving his legs when tested individually but can move to stand. In addition, his exam changes throughout the day and compared to previous hospital admissions. He does not have papilledema, making a functional disorder the most likely cause of his presentation, however he will follow-up outpatient with neurology at neuro-ophthomology at ___ and will continue the acetazolamide 500mg BID. In addition, on this admission the patient was found to have a mild macrocytic anemia with low B12 and vitamin D, which could explain some of the sensory losses the patient desribes in his lower extremities. He was started on supplementation and will be continued on these outpatient. The patient will be discharged with follow-up appointments scheduled with his PCP, ___, and neuro-ophthomology (all at ___. We explained the importance of outpatient follow-up to the patient and he agreed. He was discharged with outpatient ___ and Rx for rolling walker. Medications on Admission: The Preadmission Medication list is accurate and complete. 1. AcetaZOLamide 250 mg PO Q12H Idiopathic Intracranial Hypertension Discharge Medications: 1. Vitamin D ___ UNIT PO DAILY RX *ergocalciferol (vitamin D2) 2,000 unit 1 tablet(s) by mouth daily Disp #*30 Tablet Refills:*2 2. AcetaZOLamide 500 mg PO Q12H Idiopathic Intracranial Hypertension ___ tech Rolling walker Diagnosis: functional gait disorder Prognosis: good Duration: 13 months 4.Outpatient Physical Therapy Gait training for functional gait disorder Discharge Disposition: Home Discharge Diagnosis: Headache Functional Disorder Discharge Condition: Mental Status: Clear and coherent. Level of Consciousness: Alert and interactive. Activity Status: Ambulatory - requires assistance or aid (walker or cane). Discharge Instructions:\n",
            "Generated Summary: A patient presents with a history of multiple hospital admissions for intractable headache, nausea, vomiting, vertigo, weakness, and previous diagnosis of IIH based on elevated LP opening pressure.\n",
            "Reference Summary: You were evaluated for retractable headache, nausea, vertigo, vomiting, and previous diagnosis of Idiopathic Intracranial Hypertension. You spent 2 nights in the hospital and underwent blood tests, a lumbar puncture, and a brain MRI. The only abnormality found was a mild anemia with vitamin B12 and D deficiency. For this you were prescribed vitamin D and B12 shot supplements. Given your continued headaches and other symptoms we have arranged appointments for you to follow up at ___ with neurology, neuro-ophthomology, and your PCP to continue any work-up and care of your condition. Followup Instructions: ___\n",
            "\n",
            "Example 3:\n",
            "Input Text: Name: ___ Unit No: ___ Admission Date: ___ Discharge Date: ___ Date of Birth: ___ Sex: F Service: OBSTETRICS/GYNECOLOGY Allergies: Aspirin / Penicillins / seasonal allergies / ibuprofen Attending: ___. Chief Complaint: Pelvic pain and vaginal bleeding Major Surgical or Invasive Procedure: laproscopic trachelectomy, extensive lysis of adhesions, left saplingoophorectomy, right ovarian cystectomy, cystoscopy History of Present Illness: Ms. ___ is a ___ G3P3 with a h/o supracervical hysterectomy in ___ for fibroids and menorrhagia, who presented for surgical consultation for irregular bleeding and severe pelvic pain. She reported that the pain worsens every month almost as if she is having a period. She had failed Lupron therapy and her pelvic pain and intermittent bleeding persisted. Past Medical History: PMH: Anxiety/Depression, HTN, DM II, Asthma, Obesity PSH: Supracervical hysterectomy (fibroids), BTL, Cholecystectomy Back surgery x 3 (L5-S1), Carpal tunnel B/L, Left shoulder Social History: ___ Family History: No breast or gynecologic cancer No Colon CA mother and father with DM, HTN, CAD mother died age ___ renal disease father died age ___ heart failure Physical Exam: On day of discharge General: Well-appearing. NAD. AAOx3. Heart: RRR, no murmurs. Lungs: CTAB. Abdomen: minimally tender, Non distended, No masses, guarding or rebound, No hepatosplenomegally, No hernia. +bowel sounds Ext: No edema. Pertinent Results: ___ 06:15AM BLOOD WBC-7.8 RBC-3.88* Hgb-11.0* Hct-34.9* MCV-90 MCH-28.3 MCHC-31.4 RDW-14.2 Plt ___ ___ 06:15AM BLOOD Glucose-128* UreaN-4* Creat-0.7 Na-139 K-3.5 Cl-99 HCO3-32 AnGap-12 Brief Hospital Course: Ms. ___ was admitted to the gynecology service on ___ after undergoing laparoscopic trachelectomy, extensive lysis of adhesions, left salphingo-oophorectomy, right ovarian cystectomy, and cystoscopy for pelvic pain and vaginal bleeding status post supracervical hysterectomy. Please see the operative report for full details. We continued home meds with holding parameters and CPAP starting on post-op day 1. On post-op day 1, she reported right shoulder pain with movement, which has persisted. A consult from physical therapy tests negative for rotator cuff tear, recommends discharge home with ___. By post-operative day 3, she was tolerating a regular diet, voiding spontaneously, and pain was controlled with oral medications. Physical therapy consultation felt that patient was able climb stairs with supervision and rest breaks at each ___ steps. Thus they recommended discharge home with supervised activity and home ___. Thus, she was discharged home and referred to ___ for home ___. Medications on Admission: - clonidine 0.1 mg tablet 1 tablet(s) by mouth three times a day - diazepam 10 mg tablet 1 (One) tablet(s) by mouth twice daily - Flonase 50 mcg/actuation nasal spray,suspension 2 sprays each nostril once a day - albuterol ProAir HFA 90 mcg/actuation aerosol inhaler 2 puffs three times a day as needed for PRN - QVar 80 mcg/actuation Metered Aerosol oral inhaler 2 puffs twice a day - bupropion 75 mg tablet 2 Tablet(s) by mouth once a day - hydrochlorothiazide 12.5 mg tablet 1 Tablet(s) by mouth daily - gabapentin 600 mg tablet 1 Tablet(s) by mouth three times a day - sucralfate 100 mg/mL oral suspension 2 teaspoons by mouth 4 times daily - metformin 500 mg tablet 1 (One) Tablet(s) by mouth twice a day - omeprazole 20 mg capsule,delayed release 1 capsule,delayed ___ by mouth twice a day - oxybutynin chloride ER 15 mg tablet, extended release 24 hr 1 tablet(s) by mouth once a day ___ hr before breakfast - sertraline 100 mg tablet 2 tablet(s) by mouth at bedtime - imitrex - topiramate 50 mg tablet 1 tablet(s) by mouth twice daily Note decreased dose - cetirizine 10 mg tablet 1 Tablet(s) by mouth at bedtime - colace Discharge Medications: 1. Acetaminophen ___ mg PO Q6H:PRN Pain RX *acetaminophen 500 mg ___ tablet(s) by mouth every 6 hours Disp #*60 Tablet Refills:*2 2. Docusate Sodium 100 mg PO BID RX *docusate sodium 100 mg 1 capsule(s) by mouth twice per day Disp #*60 Capsule Refills:*2 3. HYDROmorphone (Dilaudid) ___ mg PO Q3H:PRN pain RX *hydromorphone 2 mg ___ tablet(s) by mouth every 3 hours Disp #*50 Tablet Refills:*0 4. Polyethylene Glycol 17 g PO DAILY RX *polyethylene glycol 3350 [Miralax] 17 gram/dose 17 gram by mouth daily Disp #*30 Packet Refills:*2 Discharge Disposition: Home With Service Facility: ___ Discharge Diagnosis: Bilateral simple ovarian and paraovarian cysts. pelvic pain and vaginal bleeding after supracervical hysterectomy now treated with laproscopic trachelectomy, extensive lysis of adhesions, left saplingoophorectomy, right ovarian cystectomy, cystoscopy Discharge Condition: Mental Status: Clear and coherent. Level of Consciousness: Alert and interactive. Activity Status: Ambulatory - requires assistance or aid (walker or cane). Discharge Instructions:\n",
            "Generated Summary: Key words: supracervical hysterectomy, pelvic pain, vaginal bleeding, surgery, emergency department.\n",
            "Reference Summary: General instructions: * Take your medications as prescribed. * Do not drive while taking narcotics. * Take a stool softener such as colace while taking narcotics to prevent constipation * Do not combine narcotic and sedative medications or alcohol * Do not take more than 4000mg acetaminophen (APAP) in 24 hrs * No strenuous activity until your post-op appointment * Nothing in the vagina (no tampons, no douching, no sex) for 6 weeks * Nothing in the vagina (no tampons, no douching, no sex) for 3 months * No heavy lifting of objects >10lbs for 6 weeks. * You may eat a regular diet Incision care: * You may shower and allow soapy water to run over incision; no scrubbing of incision. No bath tubs for 6 weeks. * If you have steri-strips, leave them on. They will fall off on their own or be removed during your followup visit. * If you have staples, they will be removed at your follow-up visit. Followup Instructions: ___\n",
            "\n",
            "Example 4:\n",
            "Input Text: Name: ___ Unit No: ___ Admission Date: ___ Discharge Date: ___ Date of Birth: ___ Sex: F Service: MEDICINE Allergies: Penicillins Attending: ___. Chief Complaint: Abdominal pain Major Surgical or Invasive Procedure: ERCP History of Present Illness: ___ woman with cholangiocarcinoma s/p cycle 2 of gemcitabine/cisplatin on ___, with h/o recurrent biliary obstruction s/p ERCP with stents and repeat ERCP and replaced stent ___, presents with abdominal pain. She is transferred from an OSH where she was noted to have decreased Hct to 23.9. She was given levaquin 500mg for ?UTI. . Of note, she was recently discharged on ___ for ___, at which time she was felt to be a poor candidate for ERCP. She received a course of cipro and flagyl at that time. . In the ED, initial VS 98.6 84 115/91 16 98% RA. She was given dilaudid for pain control. CT a/p was obtained, which showed overall worsening of disease related to known cholangioCA with new small Lmoderate R pleural effusions and moderate abd ascites. Increased IHBD and new focal probable bilomas in right hepatic lobe, status post biliary stenting. New/increased left portal venous thrombosis. New R inguinal met. She is admitted for pain control and eval for ? ERCP. On admission, VS 102/62 84 14 98%. . On the floor she says her abdominal pain is in the RUQ and has been worsening over the past week since discharge. It was a ___ before prsentation and is now a ___ after receiving multiple doses of dilaudid. She had vomiting last week, no current nausea. No bloody/black tarry stools, no diarrhea/constipation. She endorses subjective fevers at home. Poor PO intake. . On ROS also endorses dysuria. . Review of Systems: (+) Per HPI (-) Review of Systems: GEN: No fever, chills, night sweats, recent weight loss or gain. HEENT: No headache, sinus tenderness, rhinorrhea or congestion. CV: No chest pain or tightness, palpitations. PULM: No cough, shortness of breath, or wheezing. GI: No nausea, vomiting, diarrhea, constipation or abdominal pain. No recent change in bowel habits, no hematochezia or melena. GUI: No dysuria or change in bladder habits. MSK: No arthritis, arthralgias, or myalgias. DERM: No rashes or skin breakdown. NEURO: No numbness/tingling in extremities. PSYCH: No feelings of depression or anxiety. All other review of systems negative. Past Medical History: Past Oncologic History: -Initially diagnosed with cholecystitis and underwent cholecystectomy at ___ ___. -MRCP ___ for persistent RUQ pain showed a mass at surgical clips with intrahepatic biliary ductal dilatation. -ERCP ___ - ___ hospitalized for jaundice due to malignant biliary obstruction, ___ 1334 u/mL. -___ attempted resection, tumor unresectable with mass at confluence of right and left biliary ducts and peritoneal mets, path cholangiocarcinoma. -___ internal-external biliary drain placed. OTHER PMHx: 1. Hypertension. 2. Hypercholesterolemia. 3. Status post cholecystectomy on ___ at ___ ___. Social History: ___ Family History: Her sister was diagnosed with tobacco-associated lung cancer at ___ years. Her mother had a history of breast cancer in her ___ and is now deceased.Her father died of complication of asthma in his ___. Her children have no health concerns. Physical Exam: On admission: VS: 98.7 112/70 90 20 95%RA GEN: AOx3, NAD HEENT: PERRLA. MM dry. no LAD. no JVD. neck supple. No cervical, supraclavicular, or axillary LAD Cards: RR S1/S2 normal. no murmurs/gallops/rubs. Pulm: No dullness to percussion, CTAB no crackles or wheezes Abd: hypoactive BS, exquisite TTP in RUQ, no rebound/guarding Extremities: wwp, no edema. DPs, PTs 2+. On ___: VS: 96.2, 112/80, 84, 16, 97RA; 4800/900 GEN: sleeping but able to be aroused, following commands intermittently HEENT: PERRL. dry MM. no LAD. no JVD. neck supple. No cervical, supraclavicular, or axillary LAD Cards: RRR. no murmurs/gallops/rubs. Pulm: No dullness to percussion, CTAB no crackles or wheezes Abd: firm, +BS, TTP diffusely, worse at RUQ, distended, +ascites Extremities: wwp, 2+ edema. DPs, PTs 2+. Pertinent Results: On admission: ___ 10:40PM BLOOD WBC-7.0 RBC-2.49* Hgb-8.3* Hct-24.9* MCV-100* MCH-33.2* MCHC-33.2 RDW-20.6* Plt ___ ___ 10:40PM BLOOD Neuts-68.0 ___ Monos-3.9 Eos-0.8 Baso-0.4 ___ 10:40PM BLOOD ___ PTT-25.5 ___ ___ 10:40PM BLOOD UreaN-12 Creat-0.9 ___ 11:15AM BLOOD Glucose-89 UreaN-11 Creat-0.9 Na-130* K-4.5 Cl-100 HCO3-22 AnGap-13 ___ 10:40PM BLOOD ALT-48* AST-169* AlkPhos-973* TotBili-3.8* ___ 10:40PM BLOOD Lipase-358* ___ 11:15AM BLOOD Albumin-2.1* Calcium-9.3 Phos-2.6* Mg-1.5* ___ 06:11AM BLOOD Triglyc-86 ___ 10:45PM BLOOD Glucose-102 Lactate-1.6 Na-136 K-3.6 Cl-100 calHCO3-24 ___ 10:49AM URINE Color-Yellow Appear-Clear Sp ___ ___ 10:49AM URINE Blood-NEG Nitrite-NEG Protein-30 Glucose-NEG Ketone-NEG Bilirub-SM Urobiln-NEG pH-6.0 Leuks-NEG ___ 10:49AM URINE RBC-5* WBC-8* Bacteri-FEW Yeast-NONE Epi-1 TransE-1 On discharge: ___ 07:15AM BLOOD WBC-13.7* RBC-2.45* Hgb-8.1* Hct-25.6* MCV-104* MCH-32.9* MCHC-31.5 RDW-19.2* Plt ___ ___ 05:17AM BLOOD ___ PTT-38.2* ___ ___ 07:15AM BLOOD Glucose-181* UreaN-42* Creat-1.5* Na-138 K-4.0 Cl-107 HCO3-23 AnGap-12 Micro: URINE CULTURE (Final ___: NO GROWTH. Blood Culture, Routine (Final ___: HAEMOPHILUS PARAINFLUENZAE. Aerobic Bottle Gram Stain (Final ___: GRAM NEGATIVE ROD(S). Reported to and read back by ___ @ 8:55AM ___. Blood Culture, Routine (Final ___: ENTEROCOCCUS FAECIUM. FINAL SENSITIVITIES. Daptomycin Sensitivity testing performed by Etest. Daptomycin = SENSITIVE ( 2MCG/ML ). HIGH LEVEL GENTAMICIN SCREEN: Susceptible to 500 mcg/ml of gentamicin. Screen predicts possible synergy with selected penicillins or vancomycin. Consult ID for details. HIGH LEVEL STREPTOMYCIN SCREEN: Susceptible to 1000mcg/ml of streptomycin. Screen predicts possible synergy with selected penicillins or vancomycin. Consult ID for details.. SENSITIVITIES: MIC expressed in MCG/ML _________________________________________________________ ENTEROCOCCUS FAECIUM | AMPICILLIN------------ =>32 R DAPTOMYCIN------------ S LINEZOLID------------- 1 S PENICILLIN G---------- =>64 R VANCOMYCIN------------ =>32 R Aerobic Bottle Gram Stain (Final ___: Reported to and read back by ___ @ 0519 ON ___ - ___. GRAM POSITIVE COCCI. IN PAIRS AND CHAINS. Anaerobic Bottle Gram Stain (Final ___: GRAM POSITIVE COCCI. IN PAIRS AND CHAINS. ___ 7:15 am BLOOD CULTURE Source: Line-PICC. **FINAL REPORT ___ Blood Culture, Routine (Final ___: ENTEROCOCCUS FAECIUM. IDENTIFICATION AND SENSITIVITIES PERFORMED ON CULTURE # ___-___ ___. Aerobic Bottle Gram Stain (Final ___: GRAM POSITIVE COCCI. IN PAIRS AND CHAINS. Anaerobic Bottle Gram Stain (Final ___: GRAM POSITIVE COCCI. IN PAIRS AND CHAINS. CT Abdomen/Pelvis ___: FINDINGS: CT ABDOMEN: There has been interval development of new small left and moderate right pleural effusions measuring ___ Hounsfield units. Compressive atelectasis is present. A few subcentimeter perivascular lung nodules are seen in the right middle lobe and left lower lobe, for example series 2, image 3, where the largest nodule measures 6 mm. These appear new or increased in size as compared to ___. The heart is normal in size. Trace coronary arterial calcification is seen along the right coronary artery. There is no pericardial effusion. Compared to ___, there is increased extent of severe intrahepatic biliary dilatation, with new dilated peripheral ducts or small bilomas the right hepatic lobe. Left and right hepatic ductal stents are redemonstrated. A CBD stent extends to the ampulla. An ill-defined hypoattenuating mass is redemonstrated in the region of biliary confluence, which does not demonstrate definite delayed enhancement on 10 minute delayed images. The gallbladder is surgically absent. The spleen, pancreas, and adrenal glands appear within normal limits. Proximal pancreatic duct is mildly prominent, unchanged. Bilateral kidneys enhance symmetrically without hydronephrosis or hydroureter. The stomach is fluid filled. Small and large bowel loops are normal in caliber. There is no bowel wall thickening. There is no mesenteric or retroperitoneal lymphadenopathy. The left portal vein is thrombosed, with thrombus extending into segmental left portal system (2, 21), increased in extent since last exam. The right and main portal veins appear patent. Hepatic veins are patent. Great vessels are otherwise patent. A moderate-sized ascites is new. Again seen is a 4.6 x 3.2 cm anterior abdominal subcutaneous fluid-filled lesion, compatible with known extraperitoneal metastasis. More inferolaterally, a second soft tissue density centered in the anterior abdominal musculature adjacent to multiple clips is ill-defined and difficult to measure but similar as compared to ___, compatible with a second metastasis. These are overall stable as compared to prior study. Within the right inguinal region is a new 2.3 x 1.3 cm enhancing soft tissue deposit, concerning for new site of metastasis. A 2.6 x 2.3 x 2.4 cm centrally hypodense left inguinal lesion with peripheral enhancement is concerning for additional site of metastasis. CT PELVIS: The ascitic fluid extends to the pelvis. The bladder is collapsed. The uterus is small, but has multiple 1-2 cm intramural and subserosal enhancing masses, most likely representing fibroids. No pelvic side wall lymphadenopathy. BONE WINDOW: No focal concerning lesion. IMPRESSION: Overall worsening metastatic cholangiocarcinoma. 1. New small left and moderate right pleural effusions. New moderate abdominal ascites. 2. Increased number and size of multiple pulmonary nodules involving the right middle lobe and left lower lobe, largest 6 mm, concerning for metastatic involvement. 3. Stable ill-defined hypoattenuating lesion at the biliary confluence. 4. Status post left and right hepatic duct and common duct stenting, with interval increased degree of intrahepatic biliary dilatation as well as new loculated hypodensities in the peripheral right hepatic lobe, suggestive of biloma formation. No drainable collection. 5. Metastatic deposits involving anterior abdominal wall and bilateral inguinal regions. 6. Uterine fibroids. 7. Progressive left portal vein thrombosis extending into segmental left portal system. Portable CXR ___: The right PICC line tip is at the level of low SVC. Cardiomediastinal silhouette is stable. There is new right lower lobe opacity that might represent developing infection. There is also new faint opacity in the right upper lung, that might represent infectious focus as well and should be closely followed. Biliary stents are projecting over the right upper quadrant. Bilateral pleural effusion is better appreciated on the CT abdomen. ECG ___: Sinus rhythm. ST-T wave changes most consistent with underlying left ventricular hypertrophy, although ischemia or infarction cannot be excluded. Compared to the previous tracing of ___ there is no significant change. ECG ___: Sinus rhythm. Consider left ventricular hypertrophy, although is non-diagnostic. Modest low amplitude inferolateral T wave changes are non-specific. Since the previous tracing of ___ the rate is slower and T wave changes appear decreased. MRI L-Spine ___: FINDINGS: Intrahepatic biliary ductal dilatation is partially visualized, with susceptibility artifact from biliary stent. These are better evaluated on the recent CT abdomen and pelvis. Ascites is also again demonstrated. Alignment is anatomic. There are no focal suspicious osseous lesions to suggest osseous metastases. Moderate disc desiccation is seen in the lower thoracic and upper lumbar spine. The conus medullaris terminates at the level of the L1-L2 intervertebral disc with normal contour and signal. Mild facet degeneration is noted at L4-5, L5-S1, and L3-L4 without significant spinal canal or foraminal narrowing. There is no evidence of nerve root impingement. IMPRESSION: 1. No evidence of spinal metastases or nerve root impingement. Subtle metastases may not be seen without contrast. 2. Exstensive intrahepatic biliary ductal dilatation and ascites partially visualized. ERCP ___: IMPRESSION: Unsuccessful attempt to reach the ampulla for ERCP. Please refer to the endoscopist's note in OMR for further details of the procedure, during which malignant-appearing stricture in the duodenum prevented passage of the duodenoscope. ERCP ___: FINDINGS: Scout images demonstrate surgical clips in the right upper quadrant and two metal and one plastic biliary stents. The common bile duct was cannulated and opacified with contrast. The plastic biliary stent was removed. A stricture is noted at the distal right hepatic duct just proximal to superior end of the biliary stent. The stricture in the right hepatic duct was dilated and a metal stent was placed across the stricture. Contrast injected into the left hepatic duct showed minimal opacification of the left biliary system. In addition, a duodenal metal stent was also placed. For further details, please refer to the full ERCP report in the ___ medical record. CT abdomen/pelvis ___: CT OF THE ABDOMEN: Moderate bilateral effusions, greater on the right than left, have increased somewhat. Associated parenchymal densities are most likely associated with atelectasis. These are similar to the recent prior exam. Coronary artery calcifications are widespread. A new metallic stent through the second portion of the duodenum has been placed since the prior examination. Two metallic stents remain in situ within the biliary ducts. Enteric contrast passes across the stent without evidence for extravasation of contrast or free air to indicate perforation. In the anterior right lobe, there are multiple air-fluid levels, the largest loculation probably measuring about 21 mm in diameter. These appear in continuity with the biliary ductal system and could be seen as increasing bilomas. Pneumobilia is more widespread and probably associated with stents as an anticipated appearance. The pancreatic duct is mildly dilated as before. The liver is otherwise not well delineated but ill-defined soft tissue in the hepatic hilum reflects a known Klatskin tumor. Biliary dilatation is mild-to-moderate but similar to somewhat decreased since the prior examination. There is widespread peritoneal carcinomatosis, including areas of thickened small bowel, although without obstruction. A segment of the proximal transverse colon, though not obstructed, is again narrowed and in keeping with malignant involvement along its surface. A subcutaneous nodule along the upper anterior subcutaneous tissues to the right of midline is similar in size. Similarly, a metastatic nodule in the left inguinal canal is unchanged. Extensive peritoneal nodularity in the pelvis nodularity is similar. A moderate to large quantity of ascites is present has considerably increased. BONE WINDOWS: There are no suspicious lytic or blastic lesions. IMPRESSION: 1. Status post interval placement of duodenal stent which appears patent, without evidence for bowel perforation. 2. Increasing multilocular fluid collections in the periphery of the right lobe, in continuity with the biliary ducts including air-fluid levels, somewhat increased. Clinical correlation is recommended. 3. Similar to somewhat decreased intrahepatic biliary ductal dilatation associated with obstruction by a Klatskin tumor in the liver hilum; the tumor is not well delineated on this examination. 4. Similar appearance of widespread peritoneal carcinomatosis, without evidence for bowel obstruction, the only change being a new moderate-to large quantity of ascites. 5. Known portal thrombus not assessed. Abdominal US ___: FINDINGS: Limited ultrasound of the abdominal quadrants was performed. Ascites is noted throughout the abdomen. The patient was initially transferred to the department for an ultrasound-guided paracentesis. However, during the initial pre-procedure scanning, the patient was extremely disoriented and expressed a desire not to continue with the examination. Further imaging of the abdomen was unable to be performed. At this point, the patient was transported back to her inpatient floor. IMPRESSION: Limited ultrasound demonstrating abdominal ascites. The requested paracentesis was unable to be performed due to the patient's condition at this time. CT Head w/o contrast ___: IMPRESSION: No acute intracranial abnormality or significant change from prior. CT abdomen/pelvis ___: CT ABDOMEN WITHOUT IV CONTRAST: Moderate simple fluid-attenuation bilateral effusions with associated compressive atelectasis are similar to prior. Ill-defined nodular parenchymal densities are also similar to prior but poorly evaluated in the setting of effusions. Coronary artery calcifications are present. Evaluation of the abdominal organs is limited on noncontrast enhanced CT. Two metallic stents within the right and left hepatic ducts are similar in position. The metallic stent extending through the second portion of the duodenum is also similar to prior. The gallbladder is surgically absent. In the anterior right lobe of the liver, small air-fluid levels are again noted which have diminished in size compared to the prior study. These appear to be in continuity with the biliary system and could represent bilomas. The largest pocket measures approximately 2.7 x 2.7 cm compared to 3.0 x 2.5 cm previously. No new collection is identified on this limited non-contrast-enhanced CT. Ill-defined soft tissue density in the hepatic hilum is similar to prior, compatible with a Klatskin tumor. There is intrahepatic biliary ductal dilatation as before. There is large amount of ascites, which has increased compared to the prior study. In addition, there is anasarca. Known peritoneal implants are not well evaluated on the current exam. There is residual contrast material within the large bowel. The previously noted collapsed segment of hepatic flexure/proximal transverse colon abutting the duodenum is less well evaluated on the current CT. Soft tissue density in the upper abdominal wall to the right of the midline measures approximately 4.6 x2.7 cm compared to 4.8 x 3.0 cm and is concerning for metastasis. The small bowel is not well evaluated due to the large volume of ascites and lack of oral contrast. The kidneys are symmetric in size without evidence of stones or hydronephrosis. BONE WINDOWS: No suspicious lytic or sclerotic osseous lesion is identified. IMPRESSION: 1. Resolving post-ERCP pneumobilia with persistent low-attenuation in the anterior right hepatic lobe with an air-fluid level similar to prior, which could represent a biloma or abscess. No new collection. 2. Little overall change in known metastatic cholangiocarcinoma and associated large ascites, intrahepatic biliary dilation and peritoneal carcinomatosis. 3. Unchanged moderate bilateral pleural effusions. 4. Known left portal vein thrombosis is not well evaluated on the current study. Brief Hospital Course: ___ woman with cholangiocarcinoma s/p cycle 2 of gemcitabine/cisplatin on ___, with h/o recurrent biliary obstruction s/p ERCP with stents and repeat ERCP and replaced stent ___, who presented with acute on chronic abdominal pain. . # Bacteremia: Initially pt was placed on IV cipro/flagyl following ERCP on ___. On ___, lab reported that blood culture from ___ was growing GNRs. Pt was switched to IV cefepime. ___ guided paracentesis of ascitic fluid was attempted for diagnostic and therapeutic purposes when bacteremia was discovered. However, pt had altered mental status and was too agitated to complete the procedure. She was treated empirically for SBP/bacteremia with cefepime and IV albumin. Family meeting was held to discuss pt's poor prognosis. Family decided to make her DNI/DNR. On morning of ___, pt's blood pressure fell to systolic ___. She was not responsive to IV fluids. Family was contacted. She passed before their arrival. Blood cultures ultimately grew haemophilus parainfluenzae and later enterococcus faecium sensitive to daptomyclin/linezolid and resistant to ampicillin/penicillin/vancomycin. . #. Abdominal pain: Pt initially presented with acute on chronic abdominal pain, largely in the RUQ. She also had elevated bilirubin, peaking at 6. CT abdomen on admission showed progression of her metastatic cholangiocarcinoma with pleural effusions, abdominal ascites, increasing pulmonary nodules, intrahepatic biliary dilatation and loculated hypodensities in liver, and metastatic deposits involving abdominal wall and bilateral inguinal regions. She was taken to ERCP on ___. She was found to have a duodenal stricture that could not be intervened upon. Her plavix was held in preparation for a repeat ERCP on ___. A stent was placed in the right hepatic duct and also in the duodenum. Bilirubin and LFTs began to downtrend following the procedure. She was placed on IV cipro/flagyl (see above). She could not tolerate po due to pain and was placed on TPN with IV fluids prn. For her abdominal pain, she was placed on a number of narcotic regimens. Palliative care was consulted for symptom control. She was initially placed on a dilaudid pca with fentanyl patch but this was complicated by increasing somnolence and confusion. She was started on ritalin to decrease somnolence. Mental status worsened and she became increasingly agitated and having hallucinations. Ritalin was stopped and she was transitioned to oxycontin and oxycodone. After her ERCP, abdomen was thought to be more tense and pt was with increasing pain. Surgery was consulted for possible perforation. However, repeat CT abdomen showed no perforation. . # Altered mental status: Pt had worsening mental status throughout hospital course. Initially with the uptitration of pain medications she became increasingly somnolent and confused. Later, she became agitated, having hallucinations, refusing certain therapies, and not sleeping. There was no improvement with zyprexa or seroquel. The acute change in MS was likely due to bacteremia. CT head was performed that showed no acute intracranial process. She was started on lactulose given possibility of hepatic encephalopathy. . # Acute renal failure: On ___, Cr began to rise. Cr had been normal 0.8-1.0 throughout most of admission, then began to increase, peaking at 1.5, despite IV hydration. Hepatorenal syndrome was suspected given her bacteremia ___ to possible SBP. She was given IV albumin without improvement. . # Back pain: On admission pt complained of back pain and leg weakness. On exam, she had diminished rectal tone. MRI of L-spine was obtained for concern of cord compression but this was negative for spinal metastases or nerve root impingement. . # Anemia: Hct ranged from mid to high ___ throughout admission. She received a total of 2 units PRBCs throughout admission. . # Cholangiocarcinoma: CT abdomen on admission showed progression of her metastatic cholangiocarcinoma with pleural effusions, abdominal ascites, increasing pulmonary nodules, intrahepatic biliary dilatation and loculated hypodensities in liver, and metastatic deposits involving abdominal wall and bilateral inguinal regions. She was s/p cycle 2 of gemcitabine/cisplatin in ___. Palliative care was involved in symptom control, primarily pain control. Family meeting was held with the pt's primary oncologist. It was communicated to the family that pt's prognosis was poor and that it was likely that she would not regain her health enough to be able to tolerate another cycle of chemotherapy. Family stated their wishes that they wanted to keep the pt full code and wanted her to be able to receive further chemotherapy. Later, when pt became bacteremic with altered mental status, family changed code status to DNI/DNR. . # CAD: Pt was s/p MI in ___. Medical records from ___ ___ were obtained which reported that pt had BMS stent placed in ___. Plavix was held briefly for ERCP and restarted after the procedure. Medications on Admission: 1. amlodipine 10 mg daily 2. clopidogrel 75 mg daily 3. docusate sodium 100 mg BID 4. metoprolol tartrate 50 mg BID 5. oxycontin 20 mg Tablet Q8 hours 6. oxycodone 5 mg Q4 PRN 7. Miralax 17 gram Powder 8. senna 8.6 mg 9. acetaminophen 500 mg 10. trazodone 50 mg 11. ZOFRAN ODT 8 mg Discharge Medications: EXPIRED Discharge Disposition: Expired Discharge Diagnosis: EXPIRED Discharge Condition: EXPIRED Discharge Instructions:\n",
            "Generated Summary: Key words: ERCP, cholangiocarcinoma, abdominal pain.\n",
            "Reference Summary: EXPIRED Followup Instructions: ___\n",
            "\n",
            "Example 5:\n",
            "Input Text: Name: ___ Unit No: ___ Admission Date: ___ Discharge Date: ___ Date of Birth: ___ Sex: F Service: ORTHOPAEDICS Allergies: Patient recorded as having No Known Allergies to Drugs Attending: ___. Chief Complaint: back pain Major Surgical or Invasive Procedure: None History of Present Illness: Ms. ___ is a ___ year-old female with BPD and chronic LBP who is transferred from ___ for management of worsening back pain and spine consultation for disc herniation. She has a long history of LBP secondary to a fall several years ago and her pain has been worsening for four weeks, with new lateral left thigh and leg numbness. She has also had two falls over the last few weeks in which she tripped over her left foot; no head trauma or LOC. She has been taking percocets and took ~30 tablets over the past three days. ROS is neg for bowel/bladder incontinence. She presented to ___ on ___ for evaluation of worsening pain and VS were 98.8 121/86 96%ra. She had an MRI which showed L4-5 disc extrusion and L5-S1 spinal nerve root compression and ?lumbar osteo, and she was given morphine 4mg iv x 2, dilaudid, ativan, and vancomycin per transfer documentation; doses are unknown for most of these medications. There was also mention of \"pain medication drug overdose\" in her transfer notes but this appears to be related to her history of multiple percocets; no objective data from her course at ___ support this diagnosis, e.g. stable VS, no naloxone given. In the ED, vital signs were initially: 98.8 94 121/86 12 96%. She was given dilaudid 1 mg iv x 1 for pain. Ortho spine was consulted and reccomended checking ESR/CRP to rule out osteo based on her MRI read; her films were reviewed. She was then admitted for pain management. REVIEW OF SYSTEMS: No fevers, chills, weight loss, diaphoresis, headache, visual changes, sore throat, chest pain, shortness of breath, nausea, vomiting, abdominal pain, constipation, diarrhea, melena, pruritis, easy bruising, dysuria, skin changes, pruritis. Past Medical History: Bipolar disorder Chronic anxiety S/p L3-L4 fusion and discectomy, ___ and ___ Social History: ___ Family History: No hx of CAD or cancer Physical Exam: VS: 98.4 99 143/87 87 99% RA GEN:The patient is in no distress and appears comfortable SKIN:No rashes or skin changes noted HEENT:No JVD, neck supple, No lymphadenopathy in cervical, posterior, or supraclavicular chains noted. CHEST:Lungs are clear without wheeze, rales, or rhonchi. CARDIAC: Regular rhythm; no murmurs, rubs, or gallops. ABDOMEN: No apparent scars. Non-distended, and soft without tenderness. Good rectal tone. EXTREMITIES:no peripheral edema, warm without cyanosis NEUROLOGIC: Alert and appropriate. CN II-XII grossly intact. BUE ___, and RLE ___ both proximally and distally; LLE ___ strength. No pronator drift. Reflexes were symmetric. Downward going toes Pertinent Results: ___ 11:55PM GLUCOSE-70 UREA N-15 CREAT-0.7 SODIUM-144 POTASSIUM-3.9 CHLORIDE-109* TOTAL CO2-25 ANION GAP-14 ___ 11:55PM estGFR-Using this ___ 11:55PM ALT(SGPT)-21 AST(SGOT)-19 LD(LDH)-232 ALK PHOS-105 TOT BILI-0.3 Brief Hospital Course: Ms. ___ is a ___ year-old female with BPD and chronic LBP who is transferred from ___ for management of worsening back pain and spine consultation for disc herniation. . # Lumbar disc herniation/lower back pain: Has large disc hernation at L4-5 and and neural foramina narrowing L5-S1. Worsening LBP likely secondary to progression of lumbar disease though no prior films for which to compare current film. Question osteo but does not clinically appear infected and no evidence of abscess on MRI. No evidence of spinal cord compression. - pain management with NSAIDS, po morphine/dilaudid - check LFTs given high percocet use and can start APAP pending results - lidocaine patch to lumbar spine - ___ consult - ortho spine saw patient in ED and will touch base with team in a.m., appreciate reccs - cont gabapentin - cont Cyclobenzaprine - continue fentanyl patch once dose clarified . # BPD: Not currently taking medications for this per her report, though this is likely the indication for her lamictal. No SIs. - continue lamotrigine once dose clarified . # Anxiety: - continue celexa, clonazepam Medications on Admission: Celexa 20 mg po qhs clonazepam 1 mg po qhs clonazepam 0.5 mg po daily Celebrex ___ mg po bid Gabapentin 400 MG PO qid oxycodone ___ tabs po q4-6h prn pain Fentanyl 100 mcg/hr patch q72h Flexeril 10 mg po tid Prevacid - dose unknown Lamictal - dose unknown Discharge Medications: 1. Citalopram 20 mg Tablet Sig: One (1) Tablet PO HS (at bedtime). 2. Clonazepam 0.5 mg Tablet Sig: 0.5 Tablet PO DAILY (Daily). 3. Clonazepam 1 mg Tablet Sig: One (1) Tablet PO QHS (once a day (at bedtime)). 4. Cyclobenzaprine 10 mg Tablet Sig: One (1) Tablet PO TID (3 times a day) as needed for BACK SPASM. 5. Fentanyl 100 mcg/hr Patch 72 hr Sig: One (1) Transdermal Q72H (every 72 hours). 6. Pantoprazole 40 mg Tablet, Delayed Release (E.C.) Sig: One (1) Tablet, Delayed Release (E.C.) PO Q24H (every 24 hours). 7. Gabapentin 400 mg Capsule Sig: One (1) Capsule PO QID (4 times a day). 8. Oxycodone 20 mg Tablet Sustained Release 12 hr Sig: One (1) Tablet Sustained Release 12 hr PO Q12H (every 12 hours): 1 tablet twice a day for 7 day and 1 tablet once a day for 7 days. Disp:*21 Tablet Sustained Release 12 hr(s)* Refills:*0* 9. Oxycodone-Acetaminophen ___ mg Tablet Sig: ___ Tablets PO every ___ hours as needed for pain. Disp:*120 Tablet(s)* Refills:*0* Discharge Disposition: Home With Service Facility: ___ ___ Diagnosis: Lumbar canal stenosis Discharge Condition: stable, ambulating Discharge Instructions:\n",
            "Generated Summary: The patient has BPD and chronic LBP and has been taking percocets and taken 30 tablets over the past few weeks, with no head trauma or LOC.\n",
            "Reference Summary: You have undergone the following operation: Anterior and posterior lumbar fusion with posterior decompression. Immediately after the operation: -Activity: You should not lift anything greater than 10 lbs for 2 weeks. You will be more comfortable if you do not sit or stand more than ~45 minutes without getting up and walking around. -Rehabilitation/ Physical Therapy: o2-3 times a day you should go for a walk for ___ minutes as part of your recovery. You can walk as much as you can tolerate. oLimit any kind of lifting. -Diet: Eat a normal healthy diet. You may have some constipation after surgery. You have been given medication to help with this issue. -Brace: You may have been given a brace. This brace is to be worn when you are walking. You may take it off when sitting in a chair or while lying in bed. -Wound Care: Remove the dressing in 2 days. If the incision is draining cover it with a new sterile dressing. If it is dry then you can leave the incision open to the air. Once the incision is completely dry (usually ___ days after the operation) you may take a shower. Do not soak the incision in a bath or pool. If the incision starts draining at anytime after surgery, do not get the incision wet. Cover it with a sterile dressing. Call the office. -You should resume taking your normal home medications. -You have also been given Additional Medications to control your pain. Please allow 72 hours for refill of narcotic prescriptions, so please plan ahead. You can either have them mailed to your home or pick them up at the clinic located on ___. We are not allowed to call in or fax narcotic prescriptions (oxycontin, oxycodone, percocet) to your pharmacy. In addition, we are only allowed to write for pain medications for 90 days from the date of surgery. -Follow up: oPlease Call the office and make an appointment for 2 weeks after the day of your operation if this has not been done already. oAt the 2-week visit we will check your incision, take baseline X-rays and answer any questions. We may at that time start physical therapy. oWe will then see you at 6 weeks from the day of the operation and at that time release you to full activity. Please call the office if you have a fever>101.5 degrees Fahrenheit and/or drainage from your wound. Physical Therapy: Ambulation with assistance with the goal to make her independent ambulator. Treatments Frequency: Physical therapy ___ times a week. Followup Instructions: ___\n"
          ]
        }
      ]
    },
    {
      "cell_type": "markdown",
      "metadata": {
        "id": "S-0RrhQ0DVS1"
      },
      "source": [
        "##Training"
      ]
    },
    {
      "cell_type": "code",
      "execution_count": null,
      "metadata": {
        "id": "9mIALS80NBpR"
      },
      "outputs": [],
      "source": [
        "from transformers import AutoTokenizer\n",
        "\n",
        "def tokenize_function(examples):\n",
        "    inputs = examples[\"input\"]\n",
        "    targets = examples[\"output\"]\n",
        "    model_inputs = tokenizer(inputs, max_length=512, truncation=True, padding=\"max_length\")\n",
        "\n",
        "    # Tokenize targets with the same parameters\n",
        "    with tokenizer.as_target_tokenizer():\n",
        "        labels = tokenizer(targets, max_length=512, truncation=True, padding=\"max_length\")\n",
        "\n",
        "    model_inputs[\"labels\"] = labels[\"input_ids\"]\n",
        "    return model_inputs"
      ]
    },
    {
      "cell_type": "code",
      "execution_count": null,
      "metadata": {
        "colab": {
          "base_uri": "https://localhost:8080/",
          "height": 136,
          "referenced_widgets": [
            "5547686dcbdd4539a675db592498253e",
            "ec9e629510e9471ca99810fb26925522",
            "a201790147e2468fa5c1fb21b62fad8e",
            "406bab2949e749e087f76cdaea4007b3",
            "13b42f0eac2140129e65fa8eabe90d62",
            "81b22709671548ba90704a88a11d0ede",
            "699e23b5e2f44c3da7860ef9cb06bf82",
            "cc53720a4a2f4ed5b6846488d9b4a60a",
            "9cadb1568c834b15b17bc84710f78b0d",
            "55b393e366fd450a919998e0cfaaed00",
            "1cff34b48ae146beab87de1d9a82186c",
            "1b2bf454cf6c4a8591f7ede52a4bbd21",
            "869323b0e0714b44baef01801fbe050f",
            "308615f424824c21bc917e87d5f8aa0d",
            "fe9b527e4e214e49a7f2d552925e354f",
            "9278e69e95c743a892040b0a777841d0",
            "a027561caec4444aafca601f2b3396c7",
            "cda3683adf334058ba92c59f3151b890",
            "900678c768734163b38019f4a0ef62ac",
            "1886773f353444109fea31bb17985eda",
            "70ac3e51adcb4ec18a72bfb8dec2ca5d",
            "bede601fc37c4aa0b8f0c2631bb0f0af"
          ]
        },
        "id": "DrYv2KcyQZvF",
        "outputId": "a2ced162-a710-4a4b-b864-ab1a945ebe71"
      },
      "outputs": [
        {
          "output_type": "display_data",
          "data": {
            "text/plain": [
              "Map:   0%|          | 0/7940 [00:00<?, ? examples/s]"
            ],
            "application/vnd.jupyter.widget-view+json": {
              "version_major": 2,
              "version_minor": 0,
              "model_id": "5547686dcbdd4539a675db592498253e"
            }
          },
          "metadata": {}
        },
        {
          "output_type": "stream",
          "name": "stderr",
          "text": [
            "/usr/local/lib/python3.10/dist-packages/transformers/tokenization_utils_base.py:4016: UserWarning: `as_target_tokenizer` is deprecated and will be removed in v5 of Transformers. You can tokenize your labels by using the argument `text_target` of the regular `__call__` method (either in the same call as your input texts if you use the same keyword arguments, or in a separate call.\n",
            "  warnings.warn(\n"
          ]
        },
        {
          "output_type": "display_data",
          "data": {
            "text/plain": [
              "Map:   0%|          | 0/992 [00:00<?, ? examples/s]"
            ],
            "application/vnd.jupyter.widget-view+json": {
              "version_major": 2,
              "version_minor": 0,
              "model_id": "1b2bf454cf6c4a8591f7ede52a4bbd21"
            }
          },
          "metadata": {}
        }
      ],
      "source": [
        "tokenized_train_dataset = train.map(tokenize_function, batched = True)\n",
        "tokenized_valid_dataset = valid.map(tokenize_function, batched = True)\n",
        "\n",
        "tokenized_train_dataset = tokenized_train_dataset.remove_columns(['input', 'output'])\n",
        "tokenized_valid_dataset = tokenized_valid_dataset.remove_columns(['input', 'output'])\n",
        "\n",
        "tokenized_train_dataset.set_format(type=\"torch\", columns=[\"input_ids\", \"attention_mask\", \"labels\"])\n",
        "tokenized_valid_dataset.set_format(type=\"torch\", columns=[\"input_ids\", \"attention_mask\", \"labels\"])"
      ]
    },
    {
      "cell_type": "code",
      "execution_count": null,
      "metadata": {
        "colab": {
          "base_uri": "https://localhost:8080/"
        },
        "id": "N_m8nQ8P8s8A",
        "outputId": "27171a52-f36e-4b9a-8ff4-527f362510ae"
      },
      "outputs": [
        {
          "output_type": "execute_result",
          "data": {
            "text/plain": [
              "7940"
            ]
          },
          "metadata": {},
          "execution_count": 20
        }
      ],
      "source": [
        "len(tokenized_train_dataset['attention_mask'])"
      ]
    },
    {
      "cell_type": "code",
      "execution_count": null,
      "metadata": {
        "id": "z7V6pDU8SqsO"
      },
      "outputs": [],
      "source": [
        "from peft import prepare_model_for_kbit_training, LoraConfig, get_peft_model\n",
        "from transformers import AutoTokenizer, AutoModelForCausalLM, BitsAndBytesConfig, DataCollatorForSeq2Seq, Trainer, TrainingArguments\n",
        "# Load base model for causal LM and apply quantization config\n",
        "device = \"cuda:0\" if torch.cuda.is_available() else \"cpu\"\n",
        "#device = \"cpu\"\n",
        "BATCH_SIZE = 5\n",
        "EPOCH = 2\n",
        "\n",
        "# Configure LoraConfig for model training\n",
        "peft_config = LoraConfig(\n",
        "    r=8,\n",
        "    lora_alpha=16,\n",
        "    target_modules=[\n",
        "        \"q_proj\",\n",
        "        \"k_proj\",\n",
        "        \"v_proj\",\n",
        "        \"o_proj\",\n",
        "        \"gate_proj\",\n",
        "        \"up_proj\",\n",
        "        \"down_proj\",\n",
        "        \"lm_head\",\n",
        "    ],\n",
        "    bias=\"none\",\n",
        "    lora_dropout=0.05,\n",
        "    task_type=\"CAUSAL_LM\",\n",
        ")\n",
        "\n",
        "model.gradient_checkpointing_enable()\n",
        "model = prepare_model_for_kbit_training(model)\n",
        "model = get_peft_model(model, peft_config)\n",
        "\n",
        "# Define data collator\n",
        "collate_fn = DataCollatorForSeq2Seq(tokenizer, return_tensors=\"pt\", padding=True, model = model)\n",
        "\n",
        "STEPS_PER_EPOCH = len(tokenized_train_dataset) // BATCH_SIZE"
      ]
    },
    {
      "cell_type": "code",
      "execution_count": null,
      "metadata": {
        "id": "BM5UJAE9EBaP"
      },
      "outputs": [],
      "source": [
        "from transformers import Trainer, TrainingArguments\n",
        "\n",
        "# Training Arguments\n",
        "training_args = TrainingArguments(\n",
        "    output_dir=\"./results\",\n",
        "    per_device_train_batch_size=1,  # Set batch size to 1\n",
        "    per_device_eval_batch_size=1,  # Set batch size to 1\n",
        "    gradient_accumulation_steps=16,  # Simulate a larger batch size\n",
        "    eval_accumulation_steps=2,\n",
        "    do_train=True,\n",
        "    do_eval=True,\n",
        "    logging_steps=500,\n",
        "    save_steps=500,\n",
        "    eval_steps=500,\n",
        "    num_train_epochs=2,\n",
        "    eval_strategy=\"steps\",\n",
        "    save_total_limit=3,\n",
        "    fp16=True,  # Use mixed precision training\n",
        ")\n",
        "\n",
        "# Trainer\n",
        "trainer = Trainer(\n",
        "    model=model,\n",
        "    args=training_args,\n",
        "    train_dataset=tokenized_train_dataset,\n",
        "    eval_dataset=tokenized_valid_dataset,\n",
        "    tokenizer=tokenizer,\n",
        "    data_collator=collate_fn,\n",
        ")"
      ]
    },
    {
      "cell_type": "code",
      "execution_count": null,
      "metadata": {
        "colab": {
          "base_uri": "https://localhost:8080/",
          "height": 266
        },
        "id": "_uR_rQ7hMI8n",
        "outputId": "7ab02f95-744b-4db9-a9c2-33aeba7ffbd7"
      },
      "outputs": [
        {
          "output_type": "stream",
          "name": "stderr",
          "text": [
            "/usr/local/lib/python3.10/dist-packages/transformers/data/data_collator.py:656: UserWarning: Creating a tensor from a list of numpy.ndarrays is extremely slow. Please consider converting the list to a single numpy.ndarray with numpy.array() before converting to a tensor. (Triggered internally at ../torch/csrc/utils/tensor_new.cpp:274.)\n",
            "  batch[\"labels\"] = torch.tensor(batch[\"labels\"], dtype=torch.int64)\n"
          ]
        },
        {
          "output_type": "display_data",
          "data": {
            "text/plain": [
              "<IPython.core.display.HTML object>"
            ],
            "text/html": [
              "\n",
              "    <div>\n",
              "      \n",
              "      <progress value='992' max='992' style='width:300px; height:20px; vertical-align: middle;'></progress>\n",
              "      [992/992 1:18:54, Epoch 1/2]\n",
              "    </div>\n",
              "    <table border=\"1\" class=\"dataframe\">\n",
              "  <thead>\n",
              " <tr style=\"text-align: left;\">\n",
              "      <th>Step</th>\n",
              "      <th>Training Loss</th>\n",
              "      <th>Validation Loss</th>\n",
              "    </tr>\n",
              "  </thead>\n",
              "  <tbody>\n",
              "    <tr>\n",
              "      <td>500</td>\n",
              "      <td>8.643500</td>\n",
              "      <td>7.577553</td>\n",
              "    </tr>\n",
              "  </tbody>\n",
              "</table><p>"
            ]
          },
          "metadata": {}
        },
        {
          "output_type": "stream",
          "name": "stderr",
          "text": [
            "/usr/local/lib/python3.10/dist-packages/peft/utils/save_and_load.py:202: UserWarning: Setting `save_embedding_layers` to `True` as embedding layers found in `target_modules`.\n",
            "  warnings.warn(\"Setting `save_embedding_layers` to `True` as embedding layers found in `target_modules`.\")\n",
            "/usr/local/lib/python3.10/dist-packages/peft/utils/save_and_load.py:202: UserWarning: Setting `save_embedding_layers` to `True` as embedding layers found in `target_modules`.\n",
            "  warnings.warn(\"Setting `save_embedding_layers` to `True` as embedding layers found in `target_modules`.\")\n"
          ]
        },
        {
          "output_type": "execute_result",
          "data": {
            "text/plain": [
              "TrainOutput(global_step=992, training_loss=8.24517551545174, metrics={'train_runtime': 4740.4376, 'train_samples_per_second': 3.35, 'train_steps_per_second': 0.209, 'total_flos': 2.3083712350519296e+16, 'train_loss': 8.24517551545174, 'epoch': 1.998992443324937})"
            ]
          },
          "metadata": {},
          "execution_count": 23
        }
      ],
      "source": [
        "trainer.train()"
      ]
    },
    {
      "cell_type": "code",
      "source": [
        "# Evaluate the model\n",
        "eval_results = trainer.evaluate()\n",
        "print(f\"Evaluation Results: {eval_results}\")"
      ],
      "metadata": {
        "colab": {
          "base_uri": "https://localhost:8080/",
          "height": 54
        },
        "id": "yyqTz9WeYyFE",
        "outputId": "a7e9d6d6-69bb-486b-8bb4-62efb312938c"
      },
      "execution_count": null,
      "outputs": [
        {
          "output_type": "display_data",
          "data": {
            "text/plain": [
              "<IPython.core.display.HTML object>"
            ],
            "text/html": [
              "\n",
              "    <div>\n",
              "      \n",
              "      <progress value='992' max='992' style='width:300px; height:20px; vertical-align: middle;'></progress>\n",
              "      [992/992 01:27]\n",
              "    </div>\n",
              "    "
            ]
          },
          "metadata": {}
        },
        {
          "output_type": "stream",
          "name": "stdout",
          "text": [
            "Evaluation Results: {'eval_loss': 7.461764335632324, 'eval_runtime': 87.9298, 'eval_samples_per_second': 11.282, 'eval_steps_per_second': 11.282, 'epoch': 1.998992443324937}\n"
          ]
        }
      ]
    },
    {
      "cell_type": "code",
      "source": [
        "import os\n",
        "\n",
        "# Specify the directory where the model should be saved\n",
        "model_dir = \"./results\"\n",
        "\n",
        "# List the contents of the directory\n",
        "if os.path.exists(model_dir):\n",
        "    print(\"Model directory contents:\", os.listdir(model_dir))\n",
        "else:\n",
        "    print(\"Model directory does not exist.\")"
      ],
      "metadata": {
        "id": "buL89cj7ZH1W",
        "colab": {
          "base_uri": "https://localhost:8080/"
        },
        "outputId": "ea80e7e5-8b28-4755-a469-24dcbf1a5f79"
      },
      "execution_count": null,
      "outputs": [
        {
          "output_type": "stream",
          "name": "stdout",
          "text": [
            "Model directory contents: ['checkpoint-992', 'runs', 'checkpoint-500']\n"
          ]
        }
      ]
    },
    {
      "cell_type": "code",
      "source": [
        "test[0][\"input\"]"
      ],
      "metadata": {
        "colab": {
          "base_uri": "https://localhost:8080/",
          "height": 105
        },
        "id": "lxq9wvZ6qIaw",
        "outputId": "a8f7ae81-1a53-4f4b-98c1-ff927f368783"
      },
      "execution_count": null,
      "outputs": [
        {
          "output_type": "execute_result",
          "data": {
            "text/plain": [
              "'Name: ___ Unit No: ___ Admission Date: ___ Discharge Date: ___ Date of Birth: ___ Sex: F Service: MEDICINE Allergies: No Known Allergies / Adverse Drug Reactions Attending: ___. Chief Complaint: Abdominal Pain Major Surgical or Invasive Procedure: ___ ERCP History of Present Illness: This patient is a ___ year old female who complains of RUQ abdominal pain. ___ hx HTN, hypothyroidism, recent ___ placement presenting with 3 days of RUQ pain. Pain is worse with eating, radiates to back. Massage helps. Reports constant ___ pain and she feels \"gassy.\" Reports history of intermittent RUQ pain for years. Previously diagnosed with cholelithiasis. Last BM was this AM. Denies hx abdominal surgeries. Seen with ipad ___ interpreter ___ ___. Denies fevers, chills, cp, sob, nausea, vomiting, diarrhea, melena, BRBPR. Past Medical History: PAST MEDICAL HISTORY: -gallstones -hypothyroidism -peripheral vascular disease PAST SURGICAL HISTORY: -cardiac stents Social History: ___ Family History: Family History: Son has CAD requiring PCI last year. Physical Exam: PHYSICAL EXAM ON ADMISSION: Gen: [x] NAD, [] AAOx3 CV: [x] RRR, [] murmur Resp: [x] breaths unlabored, [] CTAB, [] wheezing, [] rales Abdomen: [x] soft, [] distended, [] tender, [] rebound/guarding Wound: [] incisions clean, dry, intact Ext: [x] warm, [] tender, [] edema Pertinent Results: LIVER OR GALLBLADDER US (SINGLE ORGAN) Study Date of ___ 1. Gallbladder sludge without evidence of gallbladder-wall thickening or edema. 2. Lobular echogenic lesion in the left hepatic lobe adjacent to a dilated intrahepatic bile duct measuring up to 1.9 cm, may represent biliary sludge or a focal lesion. MRI is recommended for further evaluation. CT ABD & PELVIS WITH CONTRAST Study Date of ___ 1. The gallbladder is distended, containing small calculi and sludge in the region of the neck with minimal pericholecystic fluid. Although the adjacent hepatic parenchyma is mild hyperemic, there is no soft tissue stranding sys surrounding the gallbladder. The ultrasound performed a day prior demonstrated no evidence of acute cholecystitis and constellation of these findings may therefore represent gallbladder wall edema secondary to a hepatic pathology rather than cholecystitis. There is associated cystic duct wall enhancement. 2. The liver has a lobulated contour and there is atrophy of the left lobe. There are multiple dilated left intrahepatic bile ducts that converge towards the hilum. Hyperdense filling defects within the dilated left intrahepatic bile ducts represent intraductal calculi. The left branch of the portal vein is diminutive. These findings likely reflect presence of an underlying stricture as no obstructing mass noted. Chronic left hepatic duct stricture causing upstream intrahepatic bile duct dilation, stasis, intraductal calculus formation and resultant atrophy of the left hepatic lobe noted. MRI of the liver with contrast is recommended to look for cholangitis and any visible underlying cause for left-sided intrahepatic bile duct dilation. 3. There is mild perinephric stranding on both sides with wedge-shaped hypodensities in the superior pole of both kidneys and in the lower pole of the left kidney respectively raising concern for mild pyelonephritis. Correlation with urinalysis is recommended to look for infection. MRCP (MR ABD ___ Study Date of ___ 1. Mild distention of the gallbladder. Mild gallbladder wall thickening. Layering sludge and stones in the gallbladder lumen. No pericholecystic fluid or reactive enhancement of the surrounding hepatic parenchyma to suggest acute cholecystitis. 2. Chronic atrophy of the left lobe of the ___ around dilated ducts which contain multiple stones. The ductal dilatation is related to a high-grade stricture, approximately 1.6 cm above the confluence of for the right and left hepatic duct. No obvious masslike enhancement is noted at the level of the stricture. This does not exclude a malignant etiology for this stricture. The intraductal stones are likely secondary to stasis. 3. In addition to the ductal changes described in the left lobe of the liver, there is surrounding patchy parenchymal enhancement suggestive of cholangitis. Similar changes are noted in the posterior right liver lobe, without associated ductal dilatation, again likely reflecting cholangiopathy. Furthermore, there is abnormal enhancement of the CBD and cystic duct wall, reflective of extrahepatic cholangitis. No filling defects within the CBD. 4. Two small incidental cystic lesions in the body of the pancreas, measuring up to 5 mm in diameter. There is no evidence of main duct involvement. Brief Hospital Course: Ms. ___ is a ___ year-old woman with HTN, CAD s/p DESx1 to pLAD ___, h/o cholelithiasis who presented with abdominal pain, was found to have cholangitis and underwent ERCP with ___ placement. TRANSITIONAL ISSUES =================== [ ] Should continue on Cefpodoxime for 3 more days (through ___. [ ] Needs short-term cards f/u to establish timeframe when safe to hold DAPT and coordinate care. [ ] Needs ERCP f/u for removal of ___ when able to hold DAPT to perform sphincterotomy. [ ] Needs surgical f/u in clinic when able to consider holding DAPT to discuss cholecystectomy. [ ] Losartan-HCTZ held due to normotension, can be restarted if BPs are elevated. ACTIVE ISSUES ============= # Cholangitis Presented with abdominal pain, initially w/ concern for cholecystitis. However RUQUS, CT, MRI w/o e/o cholecystitis, but did show biliary tract dilatation. Underwent ERCP and ___ placement. Treated with IV antibiotics, narrowed to cefpodoxime to finish ___fter ___ placement. Advanced to regular diet, which she tolerated well. ERCP brushings returned with benign cells. CHRONIC ISSUES ============== # CAD s/p recent pLAD ___ Last admission, with ___ placed ___, therefore on obligatory DAPT with ASA and Plavix. Needs to coordinate with cardiology to determine timing when she can safely hold Plavix for 5 days in order to undergo ___ retrieval and possible sphincterotomy. Emailed primary cardiologist and interventionalist. # HTN Continued amlodipine, held home Losartan-HCTZ. # Hypothyroid Continued levothyroxine # Incidental CT scan findings Two small incidental cystic lesions in the body of the pancreas, measuring up to 5 mm in diameter, likely side branch IPMNs without main duct dilation. For management of pancreatic cyst(s) up to 5 mm in patients ___ years of age or older, no follow-up is required. # Code Status: Full, confirmed # Emergency Contact: Daughter-in-Law/Son ___ on ___: The Preadmission Medication list may be inaccurate and requires further investigation. 1. losartan-hydrochlorothiazide 100-25 mg oral DAILY 2. Aspirin 81 mg PO DAILY 3. Atorvastatin 80 mg PO QPM 4. Clopidogrel 75 mg PO DAILY to prevent ___ thrombosis 5. Levothyroxine Sodium 75 mcg PO DAILY 6. amLODIPine 2.5 mg PO DAILY 7. Nitroglycerin SL 0.4 mg SL Q5MIN:PRN CP Discharge Medications: 1. Acetaminophen 1000 mg PO Q8H:PRN Pain - Mild/Fever 2. Cefpodoxime Proxetil 400 mg PO/NG Q12H Duration: 3 Days RX *cefpodoxime 200 mg 2 tablet(s) by mouth every twelve (12) hours Disp #*5 Tablet Refills:*0 3. OxyCODONE (Immediate Release) 2.5 mg PO Q8H:PRN Pain - Moderate RX *oxycodone 5 mg 0.5 (One half) tablet(s) by mouth every eight (8) hours Disp #*8 Tablet Refills:*0 4. amLODIPine 2.5 mg PO DAILY 5. Aspirin 81 mg PO DAILY 6. Atorvastatin 80 mg PO QPM 7. Clopidogrel 75 mg PO DAILY to prevent ___ thrombosis 8. Levothyroxine Sodium 75 mcg PO DAILY 9. Nitroglycerin SL 0.4 mg SL Q5MIN:PRN CP 10. HELD- losartan-hydrochlorothiazide 100-25 mg oral DAILY This medication was held. Do not restart losartan-hydrochlorothiazide until you see your primary care doctor and they tell you to do so Discharge Disposition: Home With Service Facility: ___ Discharge Diagnosis: Cholangitis Discharge Condition: Mental Status: Clear and coherent. Level of Consciousness: Alert and interactive. Activity Status: Ambulatory - Independent. Discharge Instructions:'"
            ],
            "application/vnd.google.colaboratory.intrinsic+json": {
              "type": "string"
            }
          },
          "metadata": {},
          "execution_count": 26
        }
      ]
    },
    {
      "cell_type": "code",
      "source": [
        "test_input = test[0][\"input\"]\n",
        "inputs = tokenizer(test_input, return_tensors='pt', truncation=True, padding='longest').to(device)\n",
        "summary_ids = model.generate(inputs['input_ids'], max_length=200, num_beams=4, length_penalty=2.0, early_stopping=True)\n",
        "generated_summary = tokenizer.decode(summary_ids[0], skip_special_tokens=True)\n",
        "print(f\"Generated Summary: {generated_summary}\")"
      ],
      "metadata": {
        "colab": {
          "base_uri": "https://localhost:8080/"
        },
        "id": "0ezMONMJWYCc",
        "outputId": "a5838e95-4c8c-481b-e5d2-558b5dc59cb9"
      },
      "execution_count": null,
      "outputs": [
        {
          "output_type": "stream",
          "name": "stdout",
          "text": [
            "Generated Summary: The patient is a year old female who complains of RUQ abdominal pain for years.\n"
          ]
        }
      ]
    },
    {
      "cell_type": "code",
      "source": [
        "test[0][\"output\"]"
      ],
      "metadata": {
        "colab": {
          "base_uri": "https://localhost:8080/",
          "height": 105
        },
        "id": "xScwwiuqj3nh",
        "outputId": "c19dc449-b32e-48c2-897f-4df55d786f81"
      },
      "execution_count": null,
      "outputs": [
        {
          "output_type": "execute_result",
          "data": {
            "text/plain": [
              "'Dear Ms. ___, You were admitted to ___ with abdominal pain and found to have a narrowing in your bile duct that drains from the gallbladder. You underwent a procedure to have a ___ placed in the duct and allow the bile to flow and samples were taken. General Surgery: Please call your doctor or nurse practitioner or return to the Emergency Department for any of the following: *You experience new chest pain, pressure, squeezing or tightness. *New or worsening cough, shortness of breath, or wheeze. *If you are vomiting and cannot keep down fluids or your medications. *You are getting dehydrated due to continued vomiting, diarrhea, or other reasons. Signs of dehydration include dry mouth, rapid heartbeat, or feeling dizzy or faint when standing. *You see blood or dark/black material when you vomit or have a bowel movement. *You experience burning when you urinate, have blood in your urine, or experience a discharge. *Your pain in not improving within ___ hours or is not gone within 24 hours. Call or return immediately if your pain is getting worse or changes location or moving to your chest or back. *You have shaking chills, or fever greater than 101.5 degrees Fahrenheit or 38 degrees Celsius. *Any change in your symptoms, or any new symptoms that concern you. Please resume all regular home medications, unless specifically advised not to take a particular medication. Also, please take any new medications as prescribed. Please get plenty of rest, continue to ambulate several times per day, and drink adequate amounts of fluids. Avoid lifting weights greater than ___ lbs until you follow-up with your surgeon. Avoid driving or operating heavy machinery while taking pain medications. Incision Care: *Please call your doctor or nurse practitioner if you have increased pain, swelling, redness, or drainage from the incision site. *Avoid swimming and baths until your follow-up appointment. *You may shower, and wash surgical incisions with a mild soap and warm water. Gently pat the area dry. *If you have staples, they will be removed at your follow-up appointment. *If you have steri-strips, they will fall off on their own. Please remove any remaining strips ___ days after surgery. Followup Instructions: ___'"
            ],
            "application/vnd.google.colaboratory.intrinsic+json": {
              "type": "string"
            }
          },
          "metadata": {},
          "execution_count": 31
        }
      ]
    },
    {
      "cell_type": "code",
      "source": [],
      "metadata": {
        "id": "Pj00z_JQmEJe"
      },
      "execution_count": null,
      "outputs": []
    }
  ],
  "metadata": {
    "accelerator": "GPU",
    "colab": {
      "gpuType": "L4",
      "machine_shape": "hm",
      "provenance": []
    },
    "kernelspec": {
      "display_name": "Python 3",
      "name": "python3"
    },
    "language_info": {
      "name": "python"
    },
    "widgets": {
      "application/vnd.jupyter.widget-state+json": {
        "5547686dcbdd4539a675db592498253e": {
          "model_module": "@jupyter-widgets/controls",
          "model_name": "HBoxModel",
          "model_module_version": "1.5.0",
          "state": {
            "_dom_classes": [],
            "_model_module": "@jupyter-widgets/controls",
            "_model_module_version": "1.5.0",
            "_model_name": "HBoxModel",
            "_view_count": null,
            "_view_module": "@jupyter-widgets/controls",
            "_view_module_version": "1.5.0",
            "_view_name": "HBoxView",
            "box_style": "",
            "children": [
              "IPY_MODEL_ec9e629510e9471ca99810fb26925522",
              "IPY_MODEL_a201790147e2468fa5c1fb21b62fad8e",
              "IPY_MODEL_406bab2949e749e087f76cdaea4007b3"
            ],
            "layout": "IPY_MODEL_13b42f0eac2140129e65fa8eabe90d62"
          }
        },
        "ec9e629510e9471ca99810fb26925522": {
          "model_module": "@jupyter-widgets/controls",
          "model_name": "HTMLModel",
          "model_module_version": "1.5.0",
          "state": {
            "_dom_classes": [],
            "_model_module": "@jupyter-widgets/controls",
            "_model_module_version": "1.5.0",
            "_model_name": "HTMLModel",
            "_view_count": null,
            "_view_module": "@jupyter-widgets/controls",
            "_view_module_version": "1.5.0",
            "_view_name": "HTMLView",
            "description": "",
            "description_tooltip": null,
            "layout": "IPY_MODEL_81b22709671548ba90704a88a11d0ede",
            "placeholder": "​",
            "style": "IPY_MODEL_699e23b5e2f44c3da7860ef9cb06bf82",
            "value": "Map: 100%"
          }
        },
        "a201790147e2468fa5c1fb21b62fad8e": {
          "model_module": "@jupyter-widgets/controls",
          "model_name": "FloatProgressModel",
          "model_module_version": "1.5.0",
          "state": {
            "_dom_classes": [],
            "_model_module": "@jupyter-widgets/controls",
            "_model_module_version": "1.5.0",
            "_model_name": "FloatProgressModel",
            "_view_count": null,
            "_view_module": "@jupyter-widgets/controls",
            "_view_module_version": "1.5.0",
            "_view_name": "ProgressView",
            "bar_style": "success",
            "description": "",
            "description_tooltip": null,
            "layout": "IPY_MODEL_cc53720a4a2f4ed5b6846488d9b4a60a",
            "max": 7940,
            "min": 0,
            "orientation": "horizontal",
            "style": "IPY_MODEL_9cadb1568c834b15b17bc84710f78b0d",
            "value": 7940
          }
        },
        "406bab2949e749e087f76cdaea4007b3": {
          "model_module": "@jupyter-widgets/controls",
          "model_name": "HTMLModel",
          "model_module_version": "1.5.0",
          "state": {
            "_dom_classes": [],
            "_model_module": "@jupyter-widgets/controls",
            "_model_module_version": "1.5.0",
            "_model_name": "HTMLModel",
            "_view_count": null,
            "_view_module": "@jupyter-widgets/controls",
            "_view_module_version": "1.5.0",
            "_view_name": "HTMLView",
            "description": "",
            "description_tooltip": null,
            "layout": "IPY_MODEL_55b393e366fd450a919998e0cfaaed00",
            "placeholder": "​",
            "style": "IPY_MODEL_1cff34b48ae146beab87de1d9a82186c",
            "value": " 7940/7940 [01:23&lt;00:00, 94.44 examples/s]"
          }
        },
        "13b42f0eac2140129e65fa8eabe90d62": {
          "model_module": "@jupyter-widgets/base",
          "model_name": "LayoutModel",
          "model_module_version": "1.2.0",
          "state": {
            "_model_module": "@jupyter-widgets/base",
            "_model_module_version": "1.2.0",
            "_model_name": "LayoutModel",
            "_view_count": null,
            "_view_module": "@jupyter-widgets/base",
            "_view_module_version": "1.2.0",
            "_view_name": "LayoutView",
            "align_content": null,
            "align_items": null,
            "align_self": null,
            "border": null,
            "bottom": null,
            "display": null,
            "flex": null,
            "flex_flow": null,
            "grid_area": null,
            "grid_auto_columns": null,
            "grid_auto_flow": null,
            "grid_auto_rows": null,
            "grid_column": null,
            "grid_gap": null,
            "grid_row": null,
            "grid_template_areas": null,
            "grid_template_columns": null,
            "grid_template_rows": null,
            "height": null,
            "justify_content": null,
            "justify_items": null,
            "left": null,
            "margin": null,
            "max_height": null,
            "max_width": null,
            "min_height": null,
            "min_width": null,
            "object_fit": null,
            "object_position": null,
            "order": null,
            "overflow": null,
            "overflow_x": null,
            "overflow_y": null,
            "padding": null,
            "right": null,
            "top": null,
            "visibility": null,
            "width": null
          }
        },
        "81b22709671548ba90704a88a11d0ede": {
          "model_module": "@jupyter-widgets/base",
          "model_name": "LayoutModel",
          "model_module_version": "1.2.0",
          "state": {
            "_model_module": "@jupyter-widgets/base",
            "_model_module_version": "1.2.0",
            "_model_name": "LayoutModel",
            "_view_count": null,
            "_view_module": "@jupyter-widgets/base",
            "_view_module_version": "1.2.0",
            "_view_name": "LayoutView",
            "align_content": null,
            "align_items": null,
            "align_self": null,
            "border": null,
            "bottom": null,
            "display": null,
            "flex": null,
            "flex_flow": null,
            "grid_area": null,
            "grid_auto_columns": null,
            "grid_auto_flow": null,
            "grid_auto_rows": null,
            "grid_column": null,
            "grid_gap": null,
            "grid_row": null,
            "grid_template_areas": null,
            "grid_template_columns": null,
            "grid_template_rows": null,
            "height": null,
            "justify_content": null,
            "justify_items": null,
            "left": null,
            "margin": null,
            "max_height": null,
            "max_width": null,
            "min_height": null,
            "min_width": null,
            "object_fit": null,
            "object_position": null,
            "order": null,
            "overflow": null,
            "overflow_x": null,
            "overflow_y": null,
            "padding": null,
            "right": null,
            "top": null,
            "visibility": null,
            "width": null
          }
        },
        "699e23b5e2f44c3da7860ef9cb06bf82": {
          "model_module": "@jupyter-widgets/controls",
          "model_name": "DescriptionStyleModel",
          "model_module_version": "1.5.0",
          "state": {
            "_model_module": "@jupyter-widgets/controls",
            "_model_module_version": "1.5.0",
            "_model_name": "DescriptionStyleModel",
            "_view_count": null,
            "_view_module": "@jupyter-widgets/base",
            "_view_module_version": "1.2.0",
            "_view_name": "StyleView",
            "description_width": ""
          }
        },
        "cc53720a4a2f4ed5b6846488d9b4a60a": {
          "model_module": "@jupyter-widgets/base",
          "model_name": "LayoutModel",
          "model_module_version": "1.2.0",
          "state": {
            "_model_module": "@jupyter-widgets/base",
            "_model_module_version": "1.2.0",
            "_model_name": "LayoutModel",
            "_view_count": null,
            "_view_module": "@jupyter-widgets/base",
            "_view_module_version": "1.2.0",
            "_view_name": "LayoutView",
            "align_content": null,
            "align_items": null,
            "align_self": null,
            "border": null,
            "bottom": null,
            "display": null,
            "flex": null,
            "flex_flow": null,
            "grid_area": null,
            "grid_auto_columns": null,
            "grid_auto_flow": null,
            "grid_auto_rows": null,
            "grid_column": null,
            "grid_gap": null,
            "grid_row": null,
            "grid_template_areas": null,
            "grid_template_columns": null,
            "grid_template_rows": null,
            "height": null,
            "justify_content": null,
            "justify_items": null,
            "left": null,
            "margin": null,
            "max_height": null,
            "max_width": null,
            "min_height": null,
            "min_width": null,
            "object_fit": null,
            "object_position": null,
            "order": null,
            "overflow": null,
            "overflow_x": null,
            "overflow_y": null,
            "padding": null,
            "right": null,
            "top": null,
            "visibility": null,
            "width": null
          }
        },
        "9cadb1568c834b15b17bc84710f78b0d": {
          "model_module": "@jupyter-widgets/controls",
          "model_name": "ProgressStyleModel",
          "model_module_version": "1.5.0",
          "state": {
            "_model_module": "@jupyter-widgets/controls",
            "_model_module_version": "1.5.0",
            "_model_name": "ProgressStyleModel",
            "_view_count": null,
            "_view_module": "@jupyter-widgets/base",
            "_view_module_version": "1.2.0",
            "_view_name": "StyleView",
            "bar_color": null,
            "description_width": ""
          }
        },
        "55b393e366fd450a919998e0cfaaed00": {
          "model_module": "@jupyter-widgets/base",
          "model_name": "LayoutModel",
          "model_module_version": "1.2.0",
          "state": {
            "_model_module": "@jupyter-widgets/base",
            "_model_module_version": "1.2.0",
            "_model_name": "LayoutModel",
            "_view_count": null,
            "_view_module": "@jupyter-widgets/base",
            "_view_module_version": "1.2.0",
            "_view_name": "LayoutView",
            "align_content": null,
            "align_items": null,
            "align_self": null,
            "border": null,
            "bottom": null,
            "display": null,
            "flex": null,
            "flex_flow": null,
            "grid_area": null,
            "grid_auto_columns": null,
            "grid_auto_flow": null,
            "grid_auto_rows": null,
            "grid_column": null,
            "grid_gap": null,
            "grid_row": null,
            "grid_template_areas": null,
            "grid_template_columns": null,
            "grid_template_rows": null,
            "height": null,
            "justify_content": null,
            "justify_items": null,
            "left": null,
            "margin": null,
            "max_height": null,
            "max_width": null,
            "min_height": null,
            "min_width": null,
            "object_fit": null,
            "object_position": null,
            "order": null,
            "overflow": null,
            "overflow_x": null,
            "overflow_y": null,
            "padding": null,
            "right": null,
            "top": null,
            "visibility": null,
            "width": null
          }
        },
        "1cff34b48ae146beab87de1d9a82186c": {
          "model_module": "@jupyter-widgets/controls",
          "model_name": "DescriptionStyleModel",
          "model_module_version": "1.5.0",
          "state": {
            "_model_module": "@jupyter-widgets/controls",
            "_model_module_version": "1.5.0",
            "_model_name": "DescriptionStyleModel",
            "_view_count": null,
            "_view_module": "@jupyter-widgets/base",
            "_view_module_version": "1.2.0",
            "_view_name": "StyleView",
            "description_width": ""
          }
        },
        "1b2bf454cf6c4a8591f7ede52a4bbd21": {
          "model_module": "@jupyter-widgets/controls",
          "model_name": "HBoxModel",
          "model_module_version": "1.5.0",
          "state": {
            "_dom_classes": [],
            "_model_module": "@jupyter-widgets/controls",
            "_model_module_version": "1.5.0",
            "_model_name": "HBoxModel",
            "_view_count": null,
            "_view_module": "@jupyter-widgets/controls",
            "_view_module_version": "1.5.0",
            "_view_name": "HBoxView",
            "box_style": "",
            "children": [
              "IPY_MODEL_869323b0e0714b44baef01801fbe050f",
              "IPY_MODEL_308615f424824c21bc917e87d5f8aa0d",
              "IPY_MODEL_fe9b527e4e214e49a7f2d552925e354f"
            ],
            "layout": "IPY_MODEL_9278e69e95c743a892040b0a777841d0"
          }
        },
        "869323b0e0714b44baef01801fbe050f": {
          "model_module": "@jupyter-widgets/controls",
          "model_name": "HTMLModel",
          "model_module_version": "1.5.0",
          "state": {
            "_dom_classes": [],
            "_model_module": "@jupyter-widgets/controls",
            "_model_module_version": "1.5.0",
            "_model_name": "HTMLModel",
            "_view_count": null,
            "_view_module": "@jupyter-widgets/controls",
            "_view_module_version": "1.5.0",
            "_view_name": "HTMLView",
            "description": "",
            "description_tooltip": null,
            "layout": "IPY_MODEL_a027561caec4444aafca601f2b3396c7",
            "placeholder": "​",
            "style": "IPY_MODEL_cda3683adf334058ba92c59f3151b890",
            "value": "Map: 100%"
          }
        },
        "308615f424824c21bc917e87d5f8aa0d": {
          "model_module": "@jupyter-widgets/controls",
          "model_name": "FloatProgressModel",
          "model_module_version": "1.5.0",
          "state": {
            "_dom_classes": [],
            "_model_module": "@jupyter-widgets/controls",
            "_model_module_version": "1.5.0",
            "_model_name": "FloatProgressModel",
            "_view_count": null,
            "_view_module": "@jupyter-widgets/controls",
            "_view_module_version": "1.5.0",
            "_view_name": "ProgressView",
            "bar_style": "success",
            "description": "",
            "description_tooltip": null,
            "layout": "IPY_MODEL_900678c768734163b38019f4a0ef62ac",
            "max": 992,
            "min": 0,
            "orientation": "horizontal",
            "style": "IPY_MODEL_1886773f353444109fea31bb17985eda",
            "value": 992
          }
        },
        "fe9b527e4e214e49a7f2d552925e354f": {
          "model_module": "@jupyter-widgets/controls",
          "model_name": "HTMLModel",
          "model_module_version": "1.5.0",
          "state": {
            "_dom_classes": [],
            "_model_module": "@jupyter-widgets/controls",
            "_model_module_version": "1.5.0",
            "_model_name": "HTMLModel",
            "_view_count": null,
            "_view_module": "@jupyter-widgets/controls",
            "_view_module_version": "1.5.0",
            "_view_name": "HTMLView",
            "description": "",
            "description_tooltip": null,
            "layout": "IPY_MODEL_70ac3e51adcb4ec18a72bfb8dec2ca5d",
            "placeholder": "​",
            "style": "IPY_MODEL_bede601fc37c4aa0b8f0c2631bb0f0af",
            "value": " 992/992 [00:10&lt;00:00, 99.09 examples/s]"
          }
        },
        "9278e69e95c743a892040b0a777841d0": {
          "model_module": "@jupyter-widgets/base",
          "model_name": "LayoutModel",
          "model_module_version": "1.2.0",
          "state": {
            "_model_module": "@jupyter-widgets/base",
            "_model_module_version": "1.2.0",
            "_model_name": "LayoutModel",
            "_view_count": null,
            "_view_module": "@jupyter-widgets/base",
            "_view_module_version": "1.2.0",
            "_view_name": "LayoutView",
            "align_content": null,
            "align_items": null,
            "align_self": null,
            "border": null,
            "bottom": null,
            "display": null,
            "flex": null,
            "flex_flow": null,
            "grid_area": null,
            "grid_auto_columns": null,
            "grid_auto_flow": null,
            "grid_auto_rows": null,
            "grid_column": null,
            "grid_gap": null,
            "grid_row": null,
            "grid_template_areas": null,
            "grid_template_columns": null,
            "grid_template_rows": null,
            "height": null,
            "justify_content": null,
            "justify_items": null,
            "left": null,
            "margin": null,
            "max_height": null,
            "max_width": null,
            "min_height": null,
            "min_width": null,
            "object_fit": null,
            "object_position": null,
            "order": null,
            "overflow": null,
            "overflow_x": null,
            "overflow_y": null,
            "padding": null,
            "right": null,
            "top": null,
            "visibility": null,
            "width": null
          }
        },
        "a027561caec4444aafca601f2b3396c7": {
          "model_module": "@jupyter-widgets/base",
          "model_name": "LayoutModel",
          "model_module_version": "1.2.0",
          "state": {
            "_model_module": "@jupyter-widgets/base",
            "_model_module_version": "1.2.0",
            "_model_name": "LayoutModel",
            "_view_count": null,
            "_view_module": "@jupyter-widgets/base",
            "_view_module_version": "1.2.0",
            "_view_name": "LayoutView",
            "align_content": null,
            "align_items": null,
            "align_self": null,
            "border": null,
            "bottom": null,
            "display": null,
            "flex": null,
            "flex_flow": null,
            "grid_area": null,
            "grid_auto_columns": null,
            "grid_auto_flow": null,
            "grid_auto_rows": null,
            "grid_column": null,
            "grid_gap": null,
            "grid_row": null,
            "grid_template_areas": null,
            "grid_template_columns": null,
            "grid_template_rows": null,
            "height": null,
            "justify_content": null,
            "justify_items": null,
            "left": null,
            "margin": null,
            "max_height": null,
            "max_width": null,
            "min_height": null,
            "min_width": null,
            "object_fit": null,
            "object_position": null,
            "order": null,
            "overflow": null,
            "overflow_x": null,
            "overflow_y": null,
            "padding": null,
            "right": null,
            "top": null,
            "visibility": null,
            "width": null
          }
        },
        "cda3683adf334058ba92c59f3151b890": {
          "model_module": "@jupyter-widgets/controls",
          "model_name": "DescriptionStyleModel",
          "model_module_version": "1.5.0",
          "state": {
            "_model_module": "@jupyter-widgets/controls",
            "_model_module_version": "1.5.0",
            "_model_name": "DescriptionStyleModel",
            "_view_count": null,
            "_view_module": "@jupyter-widgets/base",
            "_view_module_version": "1.2.0",
            "_view_name": "StyleView",
            "description_width": ""
          }
        },
        "900678c768734163b38019f4a0ef62ac": {
          "model_module": "@jupyter-widgets/base",
          "model_name": "LayoutModel",
          "model_module_version": "1.2.0",
          "state": {
            "_model_module": "@jupyter-widgets/base",
            "_model_module_version": "1.2.0",
            "_model_name": "LayoutModel",
            "_view_count": null,
            "_view_module": "@jupyter-widgets/base",
            "_view_module_version": "1.2.0",
            "_view_name": "LayoutView",
            "align_content": null,
            "align_items": null,
            "align_self": null,
            "border": null,
            "bottom": null,
            "display": null,
            "flex": null,
            "flex_flow": null,
            "grid_area": null,
            "grid_auto_columns": null,
            "grid_auto_flow": null,
            "grid_auto_rows": null,
            "grid_column": null,
            "grid_gap": null,
            "grid_row": null,
            "grid_template_areas": null,
            "grid_template_columns": null,
            "grid_template_rows": null,
            "height": null,
            "justify_content": null,
            "justify_items": null,
            "left": null,
            "margin": null,
            "max_height": null,
            "max_width": null,
            "min_height": null,
            "min_width": null,
            "object_fit": null,
            "object_position": null,
            "order": null,
            "overflow": null,
            "overflow_x": null,
            "overflow_y": null,
            "padding": null,
            "right": null,
            "top": null,
            "visibility": null,
            "width": null
          }
        },
        "1886773f353444109fea31bb17985eda": {
          "model_module": "@jupyter-widgets/controls",
          "model_name": "ProgressStyleModel",
          "model_module_version": "1.5.0",
          "state": {
            "_model_module": "@jupyter-widgets/controls",
            "_model_module_version": "1.5.0",
            "_model_name": "ProgressStyleModel",
            "_view_count": null,
            "_view_module": "@jupyter-widgets/base",
            "_view_module_version": "1.2.0",
            "_view_name": "StyleView",
            "bar_color": null,
            "description_width": ""
          }
        },
        "70ac3e51adcb4ec18a72bfb8dec2ca5d": {
          "model_module": "@jupyter-widgets/base",
          "model_name": "LayoutModel",
          "model_module_version": "1.2.0",
          "state": {
            "_model_module": "@jupyter-widgets/base",
            "_model_module_version": "1.2.0",
            "_model_name": "LayoutModel",
            "_view_count": null,
            "_view_module": "@jupyter-widgets/base",
            "_view_module_version": "1.2.0",
            "_view_name": "LayoutView",
            "align_content": null,
            "align_items": null,
            "align_self": null,
            "border": null,
            "bottom": null,
            "display": null,
            "flex": null,
            "flex_flow": null,
            "grid_area": null,
            "grid_auto_columns": null,
            "grid_auto_flow": null,
            "grid_auto_rows": null,
            "grid_column": null,
            "grid_gap": null,
            "grid_row": null,
            "grid_template_areas": null,
            "grid_template_columns": null,
            "grid_template_rows": null,
            "height": null,
            "justify_content": null,
            "justify_items": null,
            "left": null,
            "margin": null,
            "max_height": null,
            "max_width": null,
            "min_height": null,
            "min_width": null,
            "object_fit": null,
            "object_position": null,
            "order": null,
            "overflow": null,
            "overflow_x": null,
            "overflow_y": null,
            "padding": null,
            "right": null,
            "top": null,
            "visibility": null,
            "width": null
          }
        },
        "bede601fc37c4aa0b8f0c2631bb0f0af": {
          "model_module": "@jupyter-widgets/controls",
          "model_name": "DescriptionStyleModel",
          "model_module_version": "1.5.0",
          "state": {
            "_model_module": "@jupyter-widgets/controls",
            "_model_module_version": "1.5.0",
            "_model_name": "DescriptionStyleModel",
            "_view_count": null,
            "_view_module": "@jupyter-widgets/base",
            "_view_module_version": "1.2.0",
            "_view_name": "StyleView",
            "description_width": ""
          }
        },
        "1ace6c081bca41038b4860c57077b751": {
          "model_module": "@jupyter-widgets/controls",
          "model_name": "HBoxModel",
          "model_module_version": "1.5.0",
          "state": {
            "_dom_classes": [],
            "_model_module": "@jupyter-widgets/controls",
            "_model_module_version": "1.5.0",
            "_model_name": "HBoxModel",
            "_view_count": null,
            "_view_module": "@jupyter-widgets/controls",
            "_view_module_version": "1.5.0",
            "_view_name": "HBoxView",
            "box_style": "",
            "children": [
              "IPY_MODEL_9703af95c15741c89c26f22f8f5e9c7d",
              "IPY_MODEL_9e6e6ce35bc345e49e5b61f2da8341f7",
              "IPY_MODEL_a3baaa8c856e4c78b3781fa236600227"
            ],
            "layout": "IPY_MODEL_eef763a4c3974875810f44f1d81b362f"
          }
        },
        "9703af95c15741c89c26f22f8f5e9c7d": {
          "model_module": "@jupyter-widgets/controls",
          "model_name": "HTMLModel",
          "model_module_version": "1.5.0",
          "state": {
            "_dom_classes": [],
            "_model_module": "@jupyter-widgets/controls",
            "_model_module_version": "1.5.0",
            "_model_name": "HTMLModel",
            "_view_count": null,
            "_view_module": "@jupyter-widgets/controls",
            "_view_module_version": "1.5.0",
            "_view_name": "HTMLView",
            "description": "",
            "description_tooltip": null,
            "layout": "IPY_MODEL_9492e8e31578456ba3aeede37a51b0d3",
            "placeholder": "​",
            "style": "IPY_MODEL_36424b2248dc4f2f96b20889ac419f57",
            "value": "tokenizer_config.json: 100%"
          }
        },
        "9e6e6ce35bc345e49e5b61f2da8341f7": {
          "model_module": "@jupyter-widgets/controls",
          "model_name": "FloatProgressModel",
          "model_module_version": "1.5.0",
          "state": {
            "_dom_classes": [],
            "_model_module": "@jupyter-widgets/controls",
            "_model_module_version": "1.5.0",
            "_model_name": "FloatProgressModel",
            "_view_count": null,
            "_view_module": "@jupyter-widgets/controls",
            "_view_module_version": "1.5.0",
            "_view_name": "ProgressView",
            "bar_style": "success",
            "description": "",
            "description_tooltip": null,
            "layout": "IPY_MODEL_23cbb838b0e24073869ee51a86d87fcc",
            "max": 87,
            "min": 0,
            "orientation": "horizontal",
            "style": "IPY_MODEL_0418f5be7c3f47a4a399744ac5aba5bc",
            "value": 87
          }
        },
        "a3baaa8c856e4c78b3781fa236600227": {
          "model_module": "@jupyter-widgets/controls",
          "model_name": "HTMLModel",
          "model_module_version": "1.5.0",
          "state": {
            "_dom_classes": [],
            "_model_module": "@jupyter-widgets/controls",
            "_model_module_version": "1.5.0",
            "_model_name": "HTMLModel",
            "_view_count": null,
            "_view_module": "@jupyter-widgets/controls",
            "_view_module_version": "1.5.0",
            "_view_name": "HTMLView",
            "description": "",
            "description_tooltip": null,
            "layout": "IPY_MODEL_6efddd3131f34e85828641edd9b96fbb",
            "placeholder": "​",
            "style": "IPY_MODEL_daa29c12615c44c3be3fd9ec2d4e8e48",
            "value": " 87.0/87.0 [00:00&lt;00:00, 6.83kB/s]"
          }
        },
        "eef763a4c3974875810f44f1d81b362f": {
          "model_module": "@jupyter-widgets/base",
          "model_name": "LayoutModel",
          "model_module_version": "1.2.0",
          "state": {
            "_model_module": "@jupyter-widgets/base",
            "_model_module_version": "1.2.0",
            "_model_name": "LayoutModel",
            "_view_count": null,
            "_view_module": "@jupyter-widgets/base",
            "_view_module_version": "1.2.0",
            "_view_name": "LayoutView",
            "align_content": null,
            "align_items": null,
            "align_self": null,
            "border": null,
            "bottom": null,
            "display": null,
            "flex": null,
            "flex_flow": null,
            "grid_area": null,
            "grid_auto_columns": null,
            "grid_auto_flow": null,
            "grid_auto_rows": null,
            "grid_column": null,
            "grid_gap": null,
            "grid_row": null,
            "grid_template_areas": null,
            "grid_template_columns": null,
            "grid_template_rows": null,
            "height": null,
            "justify_content": null,
            "justify_items": null,
            "left": null,
            "margin": null,
            "max_height": null,
            "max_width": null,
            "min_height": null,
            "min_width": null,
            "object_fit": null,
            "object_position": null,
            "order": null,
            "overflow": null,
            "overflow_x": null,
            "overflow_y": null,
            "padding": null,
            "right": null,
            "top": null,
            "visibility": null,
            "width": null
          }
        },
        "9492e8e31578456ba3aeede37a51b0d3": {
          "model_module": "@jupyter-widgets/base",
          "model_name": "LayoutModel",
          "model_module_version": "1.2.0",
          "state": {
            "_model_module": "@jupyter-widgets/base",
            "_model_module_version": "1.2.0",
            "_model_name": "LayoutModel",
            "_view_count": null,
            "_view_module": "@jupyter-widgets/base",
            "_view_module_version": "1.2.0",
            "_view_name": "LayoutView",
            "align_content": null,
            "align_items": null,
            "align_self": null,
            "border": null,
            "bottom": null,
            "display": null,
            "flex": null,
            "flex_flow": null,
            "grid_area": null,
            "grid_auto_columns": null,
            "grid_auto_flow": null,
            "grid_auto_rows": null,
            "grid_column": null,
            "grid_gap": null,
            "grid_row": null,
            "grid_template_areas": null,
            "grid_template_columns": null,
            "grid_template_rows": null,
            "height": null,
            "justify_content": null,
            "justify_items": null,
            "left": null,
            "margin": null,
            "max_height": null,
            "max_width": null,
            "min_height": null,
            "min_width": null,
            "object_fit": null,
            "object_position": null,
            "order": null,
            "overflow": null,
            "overflow_x": null,
            "overflow_y": null,
            "padding": null,
            "right": null,
            "top": null,
            "visibility": null,
            "width": null
          }
        },
        "36424b2248dc4f2f96b20889ac419f57": {
          "model_module": "@jupyter-widgets/controls",
          "model_name": "DescriptionStyleModel",
          "model_module_version": "1.5.0",
          "state": {
            "_model_module": "@jupyter-widgets/controls",
            "_model_module_version": "1.5.0",
            "_model_name": "DescriptionStyleModel",
            "_view_count": null,
            "_view_module": "@jupyter-widgets/base",
            "_view_module_version": "1.2.0",
            "_view_name": "StyleView",
            "description_width": ""
          }
        },
        "23cbb838b0e24073869ee51a86d87fcc": {
          "model_module": "@jupyter-widgets/base",
          "model_name": "LayoutModel",
          "model_module_version": "1.2.0",
          "state": {
            "_model_module": "@jupyter-widgets/base",
            "_model_module_version": "1.2.0",
            "_model_name": "LayoutModel",
            "_view_count": null,
            "_view_module": "@jupyter-widgets/base",
            "_view_module_version": "1.2.0",
            "_view_name": "LayoutView",
            "align_content": null,
            "align_items": null,
            "align_self": null,
            "border": null,
            "bottom": null,
            "display": null,
            "flex": null,
            "flex_flow": null,
            "grid_area": null,
            "grid_auto_columns": null,
            "grid_auto_flow": null,
            "grid_auto_rows": null,
            "grid_column": null,
            "grid_gap": null,
            "grid_row": null,
            "grid_template_areas": null,
            "grid_template_columns": null,
            "grid_template_rows": null,
            "height": null,
            "justify_content": null,
            "justify_items": null,
            "left": null,
            "margin": null,
            "max_height": null,
            "max_width": null,
            "min_height": null,
            "min_width": null,
            "object_fit": null,
            "object_position": null,
            "order": null,
            "overflow": null,
            "overflow_x": null,
            "overflow_y": null,
            "padding": null,
            "right": null,
            "top": null,
            "visibility": null,
            "width": null
          }
        },
        "0418f5be7c3f47a4a399744ac5aba5bc": {
          "model_module": "@jupyter-widgets/controls",
          "model_name": "ProgressStyleModel",
          "model_module_version": "1.5.0",
          "state": {
            "_model_module": "@jupyter-widgets/controls",
            "_model_module_version": "1.5.0",
            "_model_name": "ProgressStyleModel",
            "_view_count": null,
            "_view_module": "@jupyter-widgets/base",
            "_view_module_version": "1.2.0",
            "_view_name": "StyleView",
            "bar_color": null,
            "description_width": ""
          }
        },
        "6efddd3131f34e85828641edd9b96fbb": {
          "model_module": "@jupyter-widgets/base",
          "model_name": "LayoutModel",
          "model_module_version": "1.2.0",
          "state": {
            "_model_module": "@jupyter-widgets/base",
            "_model_module_version": "1.2.0",
            "_model_name": "LayoutModel",
            "_view_count": null,
            "_view_module": "@jupyter-widgets/base",
            "_view_module_version": "1.2.0",
            "_view_name": "LayoutView",
            "align_content": null,
            "align_items": null,
            "align_self": null,
            "border": null,
            "bottom": null,
            "display": null,
            "flex": null,
            "flex_flow": null,
            "grid_area": null,
            "grid_auto_columns": null,
            "grid_auto_flow": null,
            "grid_auto_rows": null,
            "grid_column": null,
            "grid_gap": null,
            "grid_row": null,
            "grid_template_areas": null,
            "grid_template_columns": null,
            "grid_template_rows": null,
            "height": null,
            "justify_content": null,
            "justify_items": null,
            "left": null,
            "margin": null,
            "max_height": null,
            "max_width": null,
            "min_height": null,
            "min_width": null,
            "object_fit": null,
            "object_position": null,
            "order": null,
            "overflow": null,
            "overflow_x": null,
            "overflow_y": null,
            "padding": null,
            "right": null,
            "top": null,
            "visibility": null,
            "width": null
          }
        },
        "daa29c12615c44c3be3fd9ec2d4e8e48": {
          "model_module": "@jupyter-widgets/controls",
          "model_name": "DescriptionStyleModel",
          "model_module_version": "1.5.0",
          "state": {
            "_model_module": "@jupyter-widgets/controls",
            "_model_module_version": "1.5.0",
            "_model_name": "DescriptionStyleModel",
            "_view_count": null,
            "_view_module": "@jupyter-widgets/base",
            "_view_module_version": "1.2.0",
            "_view_name": "StyleView",
            "description_width": ""
          }
        },
        "5c0ff56ef3554e7ebc596eb928a54b28": {
          "model_module": "@jupyter-widgets/controls",
          "model_name": "HBoxModel",
          "model_module_version": "1.5.0",
          "state": {
            "_dom_classes": [],
            "_model_module": "@jupyter-widgets/controls",
            "_model_module_version": "1.5.0",
            "_model_name": "HBoxModel",
            "_view_count": null,
            "_view_module": "@jupyter-widgets/controls",
            "_view_module_version": "1.5.0",
            "_view_name": "HBoxView",
            "box_style": "",
            "children": [
              "IPY_MODEL_21e7c66e401e4e559bd868e30bb568a1",
              "IPY_MODEL_34453b7eb7fe483dbe7b148637c9f500",
              "IPY_MODEL_10e056b7eed9485dbe7c77214c73db6e"
            ],
            "layout": "IPY_MODEL_80ee455b4cd14fff94979179fcf8719f"
          }
        },
        "21e7c66e401e4e559bd868e30bb568a1": {
          "model_module": "@jupyter-widgets/controls",
          "model_name": "HTMLModel",
          "model_module_version": "1.5.0",
          "state": {
            "_dom_classes": [],
            "_model_module": "@jupyter-widgets/controls",
            "_model_module_version": "1.5.0",
            "_model_name": "HTMLModel",
            "_view_count": null,
            "_view_module": "@jupyter-widgets/controls",
            "_view_module_version": "1.5.0",
            "_view_name": "HTMLView",
            "description": "",
            "description_tooltip": null,
            "layout": "IPY_MODEL_11b416e534c843a1b18fc75c7fb2ba1a",
            "placeholder": "​",
            "style": "IPY_MODEL_fb249c7d9bbb41aca25af29af72c9d5a",
            "value": "spiece.model: 100%"
          }
        },
        "34453b7eb7fe483dbe7b148637c9f500": {
          "model_module": "@jupyter-widgets/controls",
          "model_name": "FloatProgressModel",
          "model_module_version": "1.5.0",
          "state": {
            "_dom_classes": [],
            "_model_module": "@jupyter-widgets/controls",
            "_model_module_version": "1.5.0",
            "_model_name": "FloatProgressModel",
            "_view_count": null,
            "_view_module": "@jupyter-widgets/controls",
            "_view_module_version": "1.5.0",
            "_view_name": "ProgressView",
            "bar_style": "success",
            "description": "",
            "description_tooltip": null,
            "layout": "IPY_MODEL_114c83c1581f46ca9923390950838fd5",
            "max": 1912529,
            "min": 0,
            "orientation": "horizontal",
            "style": "IPY_MODEL_6de972479b2849f2bd581181eeab70a4",
            "value": 1912529
          }
        },
        "10e056b7eed9485dbe7c77214c73db6e": {
          "model_module": "@jupyter-widgets/controls",
          "model_name": "HTMLModel",
          "model_module_version": "1.5.0",
          "state": {
            "_dom_classes": [],
            "_model_module": "@jupyter-widgets/controls",
            "_model_module_version": "1.5.0",
            "_model_name": "HTMLModel",
            "_view_count": null,
            "_view_module": "@jupyter-widgets/controls",
            "_view_module_version": "1.5.0",
            "_view_name": "HTMLView",
            "description": "",
            "description_tooltip": null,
            "layout": "IPY_MODEL_5628e3cf8aa54cab9e5f3cd1e246035f",
            "placeholder": "​",
            "style": "IPY_MODEL_ae7c3ab9b10349a98e310b0666d76b4d",
            "value": " 1.91M/1.91M [00:00&lt;00:00, 8.45MB/s]"
          }
        },
        "80ee455b4cd14fff94979179fcf8719f": {
          "model_module": "@jupyter-widgets/base",
          "model_name": "LayoutModel",
          "model_module_version": "1.2.0",
          "state": {
            "_model_module": "@jupyter-widgets/base",
            "_model_module_version": "1.2.0",
            "_model_name": "LayoutModel",
            "_view_count": null,
            "_view_module": "@jupyter-widgets/base",
            "_view_module_version": "1.2.0",
            "_view_name": "LayoutView",
            "align_content": null,
            "align_items": null,
            "align_self": null,
            "border": null,
            "bottom": null,
            "display": null,
            "flex": null,
            "flex_flow": null,
            "grid_area": null,
            "grid_auto_columns": null,
            "grid_auto_flow": null,
            "grid_auto_rows": null,
            "grid_column": null,
            "grid_gap": null,
            "grid_row": null,
            "grid_template_areas": null,
            "grid_template_columns": null,
            "grid_template_rows": null,
            "height": null,
            "justify_content": null,
            "justify_items": null,
            "left": null,
            "margin": null,
            "max_height": null,
            "max_width": null,
            "min_height": null,
            "min_width": null,
            "object_fit": null,
            "object_position": null,
            "order": null,
            "overflow": null,
            "overflow_x": null,
            "overflow_y": null,
            "padding": null,
            "right": null,
            "top": null,
            "visibility": null,
            "width": null
          }
        },
        "11b416e534c843a1b18fc75c7fb2ba1a": {
          "model_module": "@jupyter-widgets/base",
          "model_name": "LayoutModel",
          "model_module_version": "1.2.0",
          "state": {
            "_model_module": "@jupyter-widgets/base",
            "_model_module_version": "1.2.0",
            "_model_name": "LayoutModel",
            "_view_count": null,
            "_view_module": "@jupyter-widgets/base",
            "_view_module_version": "1.2.0",
            "_view_name": "LayoutView",
            "align_content": null,
            "align_items": null,
            "align_self": null,
            "border": null,
            "bottom": null,
            "display": null,
            "flex": null,
            "flex_flow": null,
            "grid_area": null,
            "grid_auto_columns": null,
            "grid_auto_flow": null,
            "grid_auto_rows": null,
            "grid_column": null,
            "grid_gap": null,
            "grid_row": null,
            "grid_template_areas": null,
            "grid_template_columns": null,
            "grid_template_rows": null,
            "height": null,
            "justify_content": null,
            "justify_items": null,
            "left": null,
            "margin": null,
            "max_height": null,
            "max_width": null,
            "min_height": null,
            "min_width": null,
            "object_fit": null,
            "object_position": null,
            "order": null,
            "overflow": null,
            "overflow_x": null,
            "overflow_y": null,
            "padding": null,
            "right": null,
            "top": null,
            "visibility": null,
            "width": null
          }
        },
        "fb249c7d9bbb41aca25af29af72c9d5a": {
          "model_module": "@jupyter-widgets/controls",
          "model_name": "DescriptionStyleModel",
          "model_module_version": "1.5.0",
          "state": {
            "_model_module": "@jupyter-widgets/controls",
            "_model_module_version": "1.5.0",
            "_model_name": "DescriptionStyleModel",
            "_view_count": null,
            "_view_module": "@jupyter-widgets/base",
            "_view_module_version": "1.2.0",
            "_view_name": "StyleView",
            "description_width": ""
          }
        },
        "114c83c1581f46ca9923390950838fd5": {
          "model_module": "@jupyter-widgets/base",
          "model_name": "LayoutModel",
          "model_module_version": "1.2.0",
          "state": {
            "_model_module": "@jupyter-widgets/base",
            "_model_module_version": "1.2.0",
            "_model_name": "LayoutModel",
            "_view_count": null,
            "_view_module": "@jupyter-widgets/base",
            "_view_module_version": "1.2.0",
            "_view_name": "LayoutView",
            "align_content": null,
            "align_items": null,
            "align_self": null,
            "border": null,
            "bottom": null,
            "display": null,
            "flex": null,
            "flex_flow": null,
            "grid_area": null,
            "grid_auto_columns": null,
            "grid_auto_flow": null,
            "grid_auto_rows": null,
            "grid_column": null,
            "grid_gap": null,
            "grid_row": null,
            "grid_template_areas": null,
            "grid_template_columns": null,
            "grid_template_rows": null,
            "height": null,
            "justify_content": null,
            "justify_items": null,
            "left": null,
            "margin": null,
            "max_height": null,
            "max_width": null,
            "min_height": null,
            "min_width": null,
            "object_fit": null,
            "object_position": null,
            "order": null,
            "overflow": null,
            "overflow_x": null,
            "overflow_y": null,
            "padding": null,
            "right": null,
            "top": null,
            "visibility": null,
            "width": null
          }
        },
        "6de972479b2849f2bd581181eeab70a4": {
          "model_module": "@jupyter-widgets/controls",
          "model_name": "ProgressStyleModel",
          "model_module_version": "1.5.0",
          "state": {
            "_model_module": "@jupyter-widgets/controls",
            "_model_module_version": "1.5.0",
            "_model_name": "ProgressStyleModel",
            "_view_count": null,
            "_view_module": "@jupyter-widgets/base",
            "_view_module_version": "1.2.0",
            "_view_name": "StyleView",
            "bar_color": null,
            "description_width": ""
          }
        },
        "5628e3cf8aa54cab9e5f3cd1e246035f": {
          "model_module": "@jupyter-widgets/base",
          "model_name": "LayoutModel",
          "model_module_version": "1.2.0",
          "state": {
            "_model_module": "@jupyter-widgets/base",
            "_model_module_version": "1.2.0",
            "_model_name": "LayoutModel",
            "_view_count": null,
            "_view_module": "@jupyter-widgets/base",
            "_view_module_version": "1.2.0",
            "_view_name": "LayoutView",
            "align_content": null,
            "align_items": null,
            "align_self": null,
            "border": null,
            "bottom": null,
            "display": null,
            "flex": null,
            "flex_flow": null,
            "grid_area": null,
            "grid_auto_columns": null,
            "grid_auto_flow": null,
            "grid_auto_rows": null,
            "grid_column": null,
            "grid_gap": null,
            "grid_row": null,
            "grid_template_areas": null,
            "grid_template_columns": null,
            "grid_template_rows": null,
            "height": null,
            "justify_content": null,
            "justify_items": null,
            "left": null,
            "margin": null,
            "max_height": null,
            "max_width": null,
            "min_height": null,
            "min_width": null,
            "object_fit": null,
            "object_position": null,
            "order": null,
            "overflow": null,
            "overflow_x": null,
            "overflow_y": null,
            "padding": null,
            "right": null,
            "top": null,
            "visibility": null,
            "width": null
          }
        },
        "ae7c3ab9b10349a98e310b0666d76b4d": {
          "model_module": "@jupyter-widgets/controls",
          "model_name": "DescriptionStyleModel",
          "model_module_version": "1.5.0",
          "state": {
            "_model_module": "@jupyter-widgets/controls",
            "_model_module_version": "1.5.0",
            "_model_name": "DescriptionStyleModel",
            "_view_count": null,
            "_view_module": "@jupyter-widgets/base",
            "_view_module_version": "1.2.0",
            "_view_name": "StyleView",
            "description_width": ""
          }
        },
        "f81f2ac4f2364a73a111133f8408a576": {
          "model_module": "@jupyter-widgets/controls",
          "model_name": "HBoxModel",
          "model_module_version": "1.5.0",
          "state": {
            "_dom_classes": [],
            "_model_module": "@jupyter-widgets/controls",
            "_model_module_version": "1.5.0",
            "_model_name": "HBoxModel",
            "_view_count": null,
            "_view_module": "@jupyter-widgets/controls",
            "_view_module_version": "1.5.0",
            "_view_name": "HBoxView",
            "box_style": "",
            "children": [
              "IPY_MODEL_8d764d965c314f1fa8a879618cc454d2",
              "IPY_MODEL_d077982a3900429b9922a10690d317a3",
              "IPY_MODEL_12890dd97d24491e9bd1603bed7bfe7f"
            ],
            "layout": "IPY_MODEL_29867754d3b74bb68a3a3a9008782934"
          }
        },
        "8d764d965c314f1fa8a879618cc454d2": {
          "model_module": "@jupyter-widgets/controls",
          "model_name": "HTMLModel",
          "model_module_version": "1.5.0",
          "state": {
            "_dom_classes": [],
            "_model_module": "@jupyter-widgets/controls",
            "_model_module_version": "1.5.0",
            "_model_name": "HTMLModel",
            "_view_count": null,
            "_view_module": "@jupyter-widgets/controls",
            "_view_module_version": "1.5.0",
            "_view_name": "HTMLView",
            "description": "",
            "description_tooltip": null,
            "layout": "IPY_MODEL_ec6acb8c322348feb0ffbb8c8417a75f",
            "placeholder": "​",
            "style": "IPY_MODEL_3fb6a1d02d3a42d5b8e2b05392d38de7",
            "value": "special_tokens_map.json: 100%"
          }
        },
        "d077982a3900429b9922a10690d317a3": {
          "model_module": "@jupyter-widgets/controls",
          "model_name": "FloatProgressModel",
          "model_module_version": "1.5.0",
          "state": {
            "_dom_classes": [],
            "_model_module": "@jupyter-widgets/controls",
            "_model_module_version": "1.5.0",
            "_model_name": "FloatProgressModel",
            "_view_count": null,
            "_view_module": "@jupyter-widgets/controls",
            "_view_module_version": "1.5.0",
            "_view_name": "ProgressView",
            "bar_style": "success",
            "description": "",
            "description_tooltip": null,
            "layout": "IPY_MODEL_52b0a52b018c4c92b90a27601637ee5a",
            "max": 65,
            "min": 0,
            "orientation": "horizontal",
            "style": "IPY_MODEL_21cb8bb2869d4228ac3958a0f8003bda",
            "value": 65
          }
        },
        "12890dd97d24491e9bd1603bed7bfe7f": {
          "model_module": "@jupyter-widgets/controls",
          "model_name": "HTMLModel",
          "model_module_version": "1.5.0",
          "state": {
            "_dom_classes": [],
            "_model_module": "@jupyter-widgets/controls",
            "_model_module_version": "1.5.0",
            "_model_name": "HTMLModel",
            "_view_count": null,
            "_view_module": "@jupyter-widgets/controls",
            "_view_module_version": "1.5.0",
            "_view_name": "HTMLView",
            "description": "",
            "description_tooltip": null,
            "layout": "IPY_MODEL_500b44532d0d47dd9b8cfcda46f576cc",
            "placeholder": "​",
            "style": "IPY_MODEL_de8b0ed9b7b8457cb5e3c68351f3feee",
            "value": " 65.0/65.0 [00:00&lt;00:00, 5.55kB/s]"
          }
        },
        "29867754d3b74bb68a3a3a9008782934": {
          "model_module": "@jupyter-widgets/base",
          "model_name": "LayoutModel",
          "model_module_version": "1.2.0",
          "state": {
            "_model_module": "@jupyter-widgets/base",
            "_model_module_version": "1.2.0",
            "_model_name": "LayoutModel",
            "_view_count": null,
            "_view_module": "@jupyter-widgets/base",
            "_view_module_version": "1.2.0",
            "_view_name": "LayoutView",
            "align_content": null,
            "align_items": null,
            "align_self": null,
            "border": null,
            "bottom": null,
            "display": null,
            "flex": null,
            "flex_flow": null,
            "grid_area": null,
            "grid_auto_columns": null,
            "grid_auto_flow": null,
            "grid_auto_rows": null,
            "grid_column": null,
            "grid_gap": null,
            "grid_row": null,
            "grid_template_areas": null,
            "grid_template_columns": null,
            "grid_template_rows": null,
            "height": null,
            "justify_content": null,
            "justify_items": null,
            "left": null,
            "margin": null,
            "max_height": null,
            "max_width": null,
            "min_height": null,
            "min_width": null,
            "object_fit": null,
            "object_position": null,
            "order": null,
            "overflow": null,
            "overflow_x": null,
            "overflow_y": null,
            "padding": null,
            "right": null,
            "top": null,
            "visibility": null,
            "width": null
          }
        },
        "ec6acb8c322348feb0ffbb8c8417a75f": {
          "model_module": "@jupyter-widgets/base",
          "model_name": "LayoutModel",
          "model_module_version": "1.2.0",
          "state": {
            "_model_module": "@jupyter-widgets/base",
            "_model_module_version": "1.2.0",
            "_model_name": "LayoutModel",
            "_view_count": null,
            "_view_module": "@jupyter-widgets/base",
            "_view_module_version": "1.2.0",
            "_view_name": "LayoutView",
            "align_content": null,
            "align_items": null,
            "align_self": null,
            "border": null,
            "bottom": null,
            "display": null,
            "flex": null,
            "flex_flow": null,
            "grid_area": null,
            "grid_auto_columns": null,
            "grid_auto_flow": null,
            "grid_auto_rows": null,
            "grid_column": null,
            "grid_gap": null,
            "grid_row": null,
            "grid_template_areas": null,
            "grid_template_columns": null,
            "grid_template_rows": null,
            "height": null,
            "justify_content": null,
            "justify_items": null,
            "left": null,
            "margin": null,
            "max_height": null,
            "max_width": null,
            "min_height": null,
            "min_width": null,
            "object_fit": null,
            "object_position": null,
            "order": null,
            "overflow": null,
            "overflow_x": null,
            "overflow_y": null,
            "padding": null,
            "right": null,
            "top": null,
            "visibility": null,
            "width": null
          }
        },
        "3fb6a1d02d3a42d5b8e2b05392d38de7": {
          "model_module": "@jupyter-widgets/controls",
          "model_name": "DescriptionStyleModel",
          "model_module_version": "1.5.0",
          "state": {
            "_model_module": "@jupyter-widgets/controls",
            "_model_module_version": "1.5.0",
            "_model_name": "DescriptionStyleModel",
            "_view_count": null,
            "_view_module": "@jupyter-widgets/base",
            "_view_module_version": "1.2.0",
            "_view_name": "StyleView",
            "description_width": ""
          }
        },
        "52b0a52b018c4c92b90a27601637ee5a": {
          "model_module": "@jupyter-widgets/base",
          "model_name": "LayoutModel",
          "model_module_version": "1.2.0",
          "state": {
            "_model_module": "@jupyter-widgets/base",
            "_model_module_version": "1.2.0",
            "_model_name": "LayoutModel",
            "_view_count": null,
            "_view_module": "@jupyter-widgets/base",
            "_view_module_version": "1.2.0",
            "_view_name": "LayoutView",
            "align_content": null,
            "align_items": null,
            "align_self": null,
            "border": null,
            "bottom": null,
            "display": null,
            "flex": null,
            "flex_flow": null,
            "grid_area": null,
            "grid_auto_columns": null,
            "grid_auto_flow": null,
            "grid_auto_rows": null,
            "grid_column": null,
            "grid_gap": null,
            "grid_row": null,
            "grid_template_areas": null,
            "grid_template_columns": null,
            "grid_template_rows": null,
            "height": null,
            "justify_content": null,
            "justify_items": null,
            "left": null,
            "margin": null,
            "max_height": null,
            "max_width": null,
            "min_height": null,
            "min_width": null,
            "object_fit": null,
            "object_position": null,
            "order": null,
            "overflow": null,
            "overflow_x": null,
            "overflow_y": null,
            "padding": null,
            "right": null,
            "top": null,
            "visibility": null,
            "width": null
          }
        },
        "21cb8bb2869d4228ac3958a0f8003bda": {
          "model_module": "@jupyter-widgets/controls",
          "model_name": "ProgressStyleModel",
          "model_module_version": "1.5.0",
          "state": {
            "_model_module": "@jupyter-widgets/controls",
            "_model_module_version": "1.5.0",
            "_model_name": "ProgressStyleModel",
            "_view_count": null,
            "_view_module": "@jupyter-widgets/base",
            "_view_module_version": "1.2.0",
            "_view_name": "StyleView",
            "bar_color": null,
            "description_width": ""
          }
        },
        "500b44532d0d47dd9b8cfcda46f576cc": {
          "model_module": "@jupyter-widgets/base",
          "model_name": "LayoutModel",
          "model_module_version": "1.2.0",
          "state": {
            "_model_module": "@jupyter-widgets/base",
            "_model_module_version": "1.2.0",
            "_model_name": "LayoutModel",
            "_view_count": null,
            "_view_module": "@jupyter-widgets/base",
            "_view_module_version": "1.2.0",
            "_view_name": "LayoutView",
            "align_content": null,
            "align_items": null,
            "align_self": null,
            "border": null,
            "bottom": null,
            "display": null,
            "flex": null,
            "flex_flow": null,
            "grid_area": null,
            "grid_auto_columns": null,
            "grid_auto_flow": null,
            "grid_auto_rows": null,
            "grid_column": null,
            "grid_gap": null,
            "grid_row": null,
            "grid_template_areas": null,
            "grid_template_columns": null,
            "grid_template_rows": null,
            "height": null,
            "justify_content": null,
            "justify_items": null,
            "left": null,
            "margin": null,
            "max_height": null,
            "max_width": null,
            "min_height": null,
            "min_width": null,
            "object_fit": null,
            "object_position": null,
            "order": null,
            "overflow": null,
            "overflow_x": null,
            "overflow_y": null,
            "padding": null,
            "right": null,
            "top": null,
            "visibility": null,
            "width": null
          }
        },
        "de8b0ed9b7b8457cb5e3c68351f3feee": {
          "model_module": "@jupyter-widgets/controls",
          "model_name": "DescriptionStyleModel",
          "model_module_version": "1.5.0",
          "state": {
            "_model_module": "@jupyter-widgets/controls",
            "_model_module_version": "1.5.0",
            "_model_name": "DescriptionStyleModel",
            "_view_count": null,
            "_view_module": "@jupyter-widgets/base",
            "_view_module_version": "1.2.0",
            "_view_name": "StyleView",
            "description_width": ""
          }
        },
        "83ae392b1afe4e089f3cee557bc86a67": {
          "model_module": "@jupyter-widgets/controls",
          "model_name": "HBoxModel",
          "model_module_version": "1.5.0",
          "state": {
            "_dom_classes": [],
            "_model_module": "@jupyter-widgets/controls",
            "_model_module_version": "1.5.0",
            "_model_name": "HBoxModel",
            "_view_count": null,
            "_view_module": "@jupyter-widgets/controls",
            "_view_module_version": "1.5.0",
            "_view_name": "HBoxView",
            "box_style": "",
            "children": [
              "IPY_MODEL_43b8fe900a7846f2bce54575babb517b",
              "IPY_MODEL_1d900447fed74a82a8f9d23a474d4d60",
              "IPY_MODEL_e8d3c74c9b3b48ec874f2ff99ced9717"
            ],
            "layout": "IPY_MODEL_7e652a742ec64817ad1ab36805f3f14d"
          }
        },
        "43b8fe900a7846f2bce54575babb517b": {
          "model_module": "@jupyter-widgets/controls",
          "model_name": "HTMLModel",
          "model_module_version": "1.5.0",
          "state": {
            "_dom_classes": [],
            "_model_module": "@jupyter-widgets/controls",
            "_model_module_version": "1.5.0",
            "_model_name": "HTMLModel",
            "_view_count": null,
            "_view_module": "@jupyter-widgets/controls",
            "_view_module_version": "1.5.0",
            "_view_name": "HTMLView",
            "description": "",
            "description_tooltip": null,
            "layout": "IPY_MODEL_0a38fe24aa5d469b87dab37763f1453e",
            "placeholder": "​",
            "style": "IPY_MODEL_38e8db495ac54c69a194e679ee602bf7",
            "value": "tokenizer.json: 100%"
          }
        },
        "1d900447fed74a82a8f9d23a474d4d60": {
          "model_module": "@jupyter-widgets/controls",
          "model_name": "FloatProgressModel",
          "model_module_version": "1.5.0",
          "state": {
            "_dom_classes": [],
            "_model_module": "@jupyter-widgets/controls",
            "_model_module_version": "1.5.0",
            "_model_name": "FloatProgressModel",
            "_view_count": null,
            "_view_module": "@jupyter-widgets/controls",
            "_view_module_version": "1.5.0",
            "_view_name": "ProgressView",
            "bar_style": "success",
            "description": "",
            "description_tooltip": null,
            "layout": "IPY_MODEL_15b323c2d9d24225bf0cb8a89218c44b",
            "max": 3520083,
            "min": 0,
            "orientation": "horizontal",
            "style": "IPY_MODEL_83384454052b467ebf55ae9603b36958",
            "value": 3520083
          }
        },
        "e8d3c74c9b3b48ec874f2ff99ced9717": {
          "model_module": "@jupyter-widgets/controls",
          "model_name": "HTMLModel",
          "model_module_version": "1.5.0",
          "state": {
            "_dom_classes": [],
            "_model_module": "@jupyter-widgets/controls",
            "_model_module_version": "1.5.0",
            "_model_name": "HTMLModel",
            "_view_count": null,
            "_view_module": "@jupyter-widgets/controls",
            "_view_module_version": "1.5.0",
            "_view_name": "HTMLView",
            "description": "",
            "description_tooltip": null,
            "layout": "IPY_MODEL_bfdd504b6d054b41a58130a59d773388",
            "placeholder": "​",
            "style": "IPY_MODEL_7befac7a911a474096161082295e2f58",
            "value": " 3.52M/3.52M [00:01&lt;00:00, 3.19MB/s]"
          }
        },
        "7e652a742ec64817ad1ab36805f3f14d": {
          "model_module": "@jupyter-widgets/base",
          "model_name": "LayoutModel",
          "model_module_version": "1.2.0",
          "state": {
            "_model_module": "@jupyter-widgets/base",
            "_model_module_version": "1.2.0",
            "_model_name": "LayoutModel",
            "_view_count": null,
            "_view_module": "@jupyter-widgets/base",
            "_view_module_version": "1.2.0",
            "_view_name": "LayoutView",
            "align_content": null,
            "align_items": null,
            "align_self": null,
            "border": null,
            "bottom": null,
            "display": null,
            "flex": null,
            "flex_flow": null,
            "grid_area": null,
            "grid_auto_columns": null,
            "grid_auto_flow": null,
            "grid_auto_rows": null,
            "grid_column": null,
            "grid_gap": null,
            "grid_row": null,
            "grid_template_areas": null,
            "grid_template_columns": null,
            "grid_template_rows": null,
            "height": null,
            "justify_content": null,
            "justify_items": null,
            "left": null,
            "margin": null,
            "max_height": null,
            "max_width": null,
            "min_height": null,
            "min_width": null,
            "object_fit": null,
            "object_position": null,
            "order": null,
            "overflow": null,
            "overflow_x": null,
            "overflow_y": null,
            "padding": null,
            "right": null,
            "top": null,
            "visibility": null,
            "width": null
          }
        },
        "0a38fe24aa5d469b87dab37763f1453e": {
          "model_module": "@jupyter-widgets/base",
          "model_name": "LayoutModel",
          "model_module_version": "1.2.0",
          "state": {
            "_model_module": "@jupyter-widgets/base",
            "_model_module_version": "1.2.0",
            "_model_name": "LayoutModel",
            "_view_count": null,
            "_view_module": "@jupyter-widgets/base",
            "_view_module_version": "1.2.0",
            "_view_name": "LayoutView",
            "align_content": null,
            "align_items": null,
            "align_self": null,
            "border": null,
            "bottom": null,
            "display": null,
            "flex": null,
            "flex_flow": null,
            "grid_area": null,
            "grid_auto_columns": null,
            "grid_auto_flow": null,
            "grid_auto_rows": null,
            "grid_column": null,
            "grid_gap": null,
            "grid_row": null,
            "grid_template_areas": null,
            "grid_template_columns": null,
            "grid_template_rows": null,
            "height": null,
            "justify_content": null,
            "justify_items": null,
            "left": null,
            "margin": null,
            "max_height": null,
            "max_width": null,
            "min_height": null,
            "min_width": null,
            "object_fit": null,
            "object_position": null,
            "order": null,
            "overflow": null,
            "overflow_x": null,
            "overflow_y": null,
            "padding": null,
            "right": null,
            "top": null,
            "visibility": null,
            "width": null
          }
        },
        "38e8db495ac54c69a194e679ee602bf7": {
          "model_module": "@jupyter-widgets/controls",
          "model_name": "DescriptionStyleModel",
          "model_module_version": "1.5.0",
          "state": {
            "_model_module": "@jupyter-widgets/controls",
            "_model_module_version": "1.5.0",
            "_model_name": "DescriptionStyleModel",
            "_view_count": null,
            "_view_module": "@jupyter-widgets/base",
            "_view_module_version": "1.2.0",
            "_view_name": "StyleView",
            "description_width": ""
          }
        },
        "15b323c2d9d24225bf0cb8a89218c44b": {
          "model_module": "@jupyter-widgets/base",
          "model_name": "LayoutModel",
          "model_module_version": "1.2.0",
          "state": {
            "_model_module": "@jupyter-widgets/base",
            "_model_module_version": "1.2.0",
            "_model_name": "LayoutModel",
            "_view_count": null,
            "_view_module": "@jupyter-widgets/base",
            "_view_module_version": "1.2.0",
            "_view_name": "LayoutView",
            "align_content": null,
            "align_items": null,
            "align_self": null,
            "border": null,
            "bottom": null,
            "display": null,
            "flex": null,
            "flex_flow": null,
            "grid_area": null,
            "grid_auto_columns": null,
            "grid_auto_flow": null,
            "grid_auto_rows": null,
            "grid_column": null,
            "grid_gap": null,
            "grid_row": null,
            "grid_template_areas": null,
            "grid_template_columns": null,
            "grid_template_rows": null,
            "height": null,
            "justify_content": null,
            "justify_items": null,
            "left": null,
            "margin": null,
            "max_height": null,
            "max_width": null,
            "min_height": null,
            "min_width": null,
            "object_fit": null,
            "object_position": null,
            "order": null,
            "overflow": null,
            "overflow_x": null,
            "overflow_y": null,
            "padding": null,
            "right": null,
            "top": null,
            "visibility": null,
            "width": null
          }
        },
        "83384454052b467ebf55ae9603b36958": {
          "model_module": "@jupyter-widgets/controls",
          "model_name": "ProgressStyleModel",
          "model_module_version": "1.5.0",
          "state": {
            "_model_module": "@jupyter-widgets/controls",
            "_model_module_version": "1.5.0",
            "_model_name": "ProgressStyleModel",
            "_view_count": null,
            "_view_module": "@jupyter-widgets/base",
            "_view_module_version": "1.2.0",
            "_view_name": "StyleView",
            "bar_color": null,
            "description_width": ""
          }
        },
        "bfdd504b6d054b41a58130a59d773388": {
          "model_module": "@jupyter-widgets/base",
          "model_name": "LayoutModel",
          "model_module_version": "1.2.0",
          "state": {
            "_model_module": "@jupyter-widgets/base",
            "_model_module_version": "1.2.0",
            "_model_name": "LayoutModel",
            "_view_count": null,
            "_view_module": "@jupyter-widgets/base",
            "_view_module_version": "1.2.0",
            "_view_name": "LayoutView",
            "align_content": null,
            "align_items": null,
            "align_self": null,
            "border": null,
            "bottom": null,
            "display": null,
            "flex": null,
            "flex_flow": null,
            "grid_area": null,
            "grid_auto_columns": null,
            "grid_auto_flow": null,
            "grid_auto_rows": null,
            "grid_column": null,
            "grid_gap": null,
            "grid_row": null,
            "grid_template_areas": null,
            "grid_template_columns": null,
            "grid_template_rows": null,
            "height": null,
            "justify_content": null,
            "justify_items": null,
            "left": null,
            "margin": null,
            "max_height": null,
            "max_width": null,
            "min_height": null,
            "min_width": null,
            "object_fit": null,
            "object_position": null,
            "order": null,
            "overflow": null,
            "overflow_x": null,
            "overflow_y": null,
            "padding": null,
            "right": null,
            "top": null,
            "visibility": null,
            "width": null
          }
        },
        "7befac7a911a474096161082295e2f58": {
          "model_module": "@jupyter-widgets/controls",
          "model_name": "DescriptionStyleModel",
          "model_module_version": "1.5.0",
          "state": {
            "_model_module": "@jupyter-widgets/controls",
            "_model_module_version": "1.5.0",
            "_model_name": "DescriptionStyleModel",
            "_view_count": null,
            "_view_module": "@jupyter-widgets/base",
            "_view_module_version": "1.2.0",
            "_view_name": "StyleView",
            "description_width": ""
          }
        },
        "7e1d4a654d9a43b3ab13781d65bf117b": {
          "model_module": "@jupyter-widgets/controls",
          "model_name": "HBoxModel",
          "model_module_version": "1.5.0",
          "state": {
            "_dom_classes": [],
            "_model_module": "@jupyter-widgets/controls",
            "_model_module_version": "1.5.0",
            "_model_name": "HBoxModel",
            "_view_count": null,
            "_view_module": "@jupyter-widgets/controls",
            "_view_module_version": "1.5.0",
            "_view_name": "HBoxView",
            "box_style": "",
            "children": [
              "IPY_MODEL_008040b4ee614af383d20db8fa8ce14d",
              "IPY_MODEL_83a181bfad984fc78fbc63b392e22488",
              "IPY_MODEL_f0f62833bded4ee9815a5502cb9bc7df"
            ],
            "layout": "IPY_MODEL_c14123f43a384e2ca6a1347919510086"
          }
        },
        "008040b4ee614af383d20db8fa8ce14d": {
          "model_module": "@jupyter-widgets/controls",
          "model_name": "HTMLModel",
          "model_module_version": "1.5.0",
          "state": {
            "_dom_classes": [],
            "_model_module": "@jupyter-widgets/controls",
            "_model_module_version": "1.5.0",
            "_model_name": "HTMLModel",
            "_view_count": null,
            "_view_module": "@jupyter-widgets/controls",
            "_view_module_version": "1.5.0",
            "_view_name": "HTMLView",
            "description": "",
            "description_tooltip": null,
            "layout": "IPY_MODEL_06e3d38b4dd84f10be6039382102f31b",
            "placeholder": "​",
            "style": "IPY_MODEL_ea5a9877b8094c688ac69028effabe44",
            "value": "config.json: 100%"
          }
        },
        "83a181bfad984fc78fbc63b392e22488": {
          "model_module": "@jupyter-widgets/controls",
          "model_name": "FloatProgressModel",
          "model_module_version": "1.5.0",
          "state": {
            "_dom_classes": [],
            "_model_module": "@jupyter-widgets/controls",
            "_model_module_version": "1.5.0",
            "_model_name": "FloatProgressModel",
            "_view_count": null,
            "_view_module": "@jupyter-widgets/controls",
            "_view_module_version": "1.5.0",
            "_view_name": "ProgressView",
            "bar_style": "success",
            "description": "",
            "description_tooltip": null,
            "layout": "IPY_MODEL_d9ca5c256278429b835b75f8a75a430d",
            "max": 1392,
            "min": 0,
            "orientation": "horizontal",
            "style": "IPY_MODEL_a22ec51d44ce4af69743d5673a46af10",
            "value": 1392
          }
        },
        "f0f62833bded4ee9815a5502cb9bc7df": {
          "model_module": "@jupyter-widgets/controls",
          "model_name": "HTMLModel",
          "model_module_version": "1.5.0",
          "state": {
            "_dom_classes": [],
            "_model_module": "@jupyter-widgets/controls",
            "_model_module_version": "1.5.0",
            "_model_name": "HTMLModel",
            "_view_count": null,
            "_view_module": "@jupyter-widgets/controls",
            "_view_module_version": "1.5.0",
            "_view_name": "HTMLView",
            "description": "",
            "description_tooltip": null,
            "layout": "IPY_MODEL_1ae3e5186a0e4da38cc126b48d370c8e",
            "placeholder": "​",
            "style": "IPY_MODEL_d019a666f85541a5b8a8091d3580ab39",
            "value": " 1.39k/1.39k [00:00&lt;00:00, 121kB/s]"
          }
        },
        "c14123f43a384e2ca6a1347919510086": {
          "model_module": "@jupyter-widgets/base",
          "model_name": "LayoutModel",
          "model_module_version": "1.2.0",
          "state": {
            "_model_module": "@jupyter-widgets/base",
            "_model_module_version": "1.2.0",
            "_model_name": "LayoutModel",
            "_view_count": null,
            "_view_module": "@jupyter-widgets/base",
            "_view_module_version": "1.2.0",
            "_view_name": "LayoutView",
            "align_content": null,
            "align_items": null,
            "align_self": null,
            "border": null,
            "bottom": null,
            "display": null,
            "flex": null,
            "flex_flow": null,
            "grid_area": null,
            "grid_auto_columns": null,
            "grid_auto_flow": null,
            "grid_auto_rows": null,
            "grid_column": null,
            "grid_gap": null,
            "grid_row": null,
            "grid_template_areas": null,
            "grid_template_columns": null,
            "grid_template_rows": null,
            "height": null,
            "justify_content": null,
            "justify_items": null,
            "left": null,
            "margin": null,
            "max_height": null,
            "max_width": null,
            "min_height": null,
            "min_width": null,
            "object_fit": null,
            "object_position": null,
            "order": null,
            "overflow": null,
            "overflow_x": null,
            "overflow_y": null,
            "padding": null,
            "right": null,
            "top": null,
            "visibility": null,
            "width": null
          }
        },
        "06e3d38b4dd84f10be6039382102f31b": {
          "model_module": "@jupyter-widgets/base",
          "model_name": "LayoutModel",
          "model_module_version": "1.2.0",
          "state": {
            "_model_module": "@jupyter-widgets/base",
            "_model_module_version": "1.2.0",
            "_model_name": "LayoutModel",
            "_view_count": null,
            "_view_module": "@jupyter-widgets/base",
            "_view_module_version": "1.2.0",
            "_view_name": "LayoutView",
            "align_content": null,
            "align_items": null,
            "align_self": null,
            "border": null,
            "bottom": null,
            "display": null,
            "flex": null,
            "flex_flow": null,
            "grid_area": null,
            "grid_auto_columns": null,
            "grid_auto_flow": null,
            "grid_auto_rows": null,
            "grid_column": null,
            "grid_gap": null,
            "grid_row": null,
            "grid_template_areas": null,
            "grid_template_columns": null,
            "grid_template_rows": null,
            "height": null,
            "justify_content": null,
            "justify_items": null,
            "left": null,
            "margin": null,
            "max_height": null,
            "max_width": null,
            "min_height": null,
            "min_width": null,
            "object_fit": null,
            "object_position": null,
            "order": null,
            "overflow": null,
            "overflow_x": null,
            "overflow_y": null,
            "padding": null,
            "right": null,
            "top": null,
            "visibility": null,
            "width": null
          }
        },
        "ea5a9877b8094c688ac69028effabe44": {
          "model_module": "@jupyter-widgets/controls",
          "model_name": "DescriptionStyleModel",
          "model_module_version": "1.5.0",
          "state": {
            "_model_module": "@jupyter-widgets/controls",
            "_model_module_version": "1.5.0",
            "_model_name": "DescriptionStyleModel",
            "_view_count": null,
            "_view_module": "@jupyter-widgets/base",
            "_view_module_version": "1.2.0",
            "_view_name": "StyleView",
            "description_width": ""
          }
        },
        "d9ca5c256278429b835b75f8a75a430d": {
          "model_module": "@jupyter-widgets/base",
          "model_name": "LayoutModel",
          "model_module_version": "1.2.0",
          "state": {
            "_model_module": "@jupyter-widgets/base",
            "_model_module_version": "1.2.0",
            "_model_name": "LayoutModel",
            "_view_count": null,
            "_view_module": "@jupyter-widgets/base",
            "_view_module_version": "1.2.0",
            "_view_name": "LayoutView",
            "align_content": null,
            "align_items": null,
            "align_self": null,
            "border": null,
            "bottom": null,
            "display": null,
            "flex": null,
            "flex_flow": null,
            "grid_area": null,
            "grid_auto_columns": null,
            "grid_auto_flow": null,
            "grid_auto_rows": null,
            "grid_column": null,
            "grid_gap": null,
            "grid_row": null,
            "grid_template_areas": null,
            "grid_template_columns": null,
            "grid_template_rows": null,
            "height": null,
            "justify_content": null,
            "justify_items": null,
            "left": null,
            "margin": null,
            "max_height": null,
            "max_width": null,
            "min_height": null,
            "min_width": null,
            "object_fit": null,
            "object_position": null,
            "order": null,
            "overflow": null,
            "overflow_x": null,
            "overflow_y": null,
            "padding": null,
            "right": null,
            "top": null,
            "visibility": null,
            "width": null
          }
        },
        "a22ec51d44ce4af69743d5673a46af10": {
          "model_module": "@jupyter-widgets/controls",
          "model_name": "ProgressStyleModel",
          "model_module_version": "1.5.0",
          "state": {
            "_model_module": "@jupyter-widgets/controls",
            "_model_module_version": "1.5.0",
            "_model_name": "ProgressStyleModel",
            "_view_count": null,
            "_view_module": "@jupyter-widgets/base",
            "_view_module_version": "1.2.0",
            "_view_name": "StyleView",
            "bar_color": null,
            "description_width": ""
          }
        },
        "1ae3e5186a0e4da38cc126b48d370c8e": {
          "model_module": "@jupyter-widgets/base",
          "model_name": "LayoutModel",
          "model_module_version": "1.2.0",
          "state": {
            "_model_module": "@jupyter-widgets/base",
            "_model_module_version": "1.2.0",
            "_model_name": "LayoutModel",
            "_view_count": null,
            "_view_module": "@jupyter-widgets/base",
            "_view_module_version": "1.2.0",
            "_view_name": "LayoutView",
            "align_content": null,
            "align_items": null,
            "align_self": null,
            "border": null,
            "bottom": null,
            "display": null,
            "flex": null,
            "flex_flow": null,
            "grid_area": null,
            "grid_auto_columns": null,
            "grid_auto_flow": null,
            "grid_auto_rows": null,
            "grid_column": null,
            "grid_gap": null,
            "grid_row": null,
            "grid_template_areas": null,
            "grid_template_columns": null,
            "grid_template_rows": null,
            "height": null,
            "justify_content": null,
            "justify_items": null,
            "left": null,
            "margin": null,
            "max_height": null,
            "max_width": null,
            "min_height": null,
            "min_width": null,
            "object_fit": null,
            "object_position": null,
            "order": null,
            "overflow": null,
            "overflow_x": null,
            "overflow_y": null,
            "padding": null,
            "right": null,
            "top": null,
            "visibility": null,
            "width": null
          }
        },
        "d019a666f85541a5b8a8091d3580ab39": {
          "model_module": "@jupyter-widgets/controls",
          "model_name": "DescriptionStyleModel",
          "model_module_version": "1.5.0",
          "state": {
            "_model_module": "@jupyter-widgets/controls",
            "_model_module_version": "1.5.0",
            "_model_name": "DescriptionStyleModel",
            "_view_count": null,
            "_view_module": "@jupyter-widgets/base",
            "_view_module_version": "1.2.0",
            "_view_name": "StyleView",
            "description_width": ""
          }
        },
        "7f1e1a8b9dc844f693abad07d842ba16": {
          "model_module": "@jupyter-widgets/controls",
          "model_name": "HBoxModel",
          "model_module_version": "1.5.0",
          "state": {
            "_dom_classes": [],
            "_model_module": "@jupyter-widgets/controls",
            "_model_module_version": "1.5.0",
            "_model_name": "HBoxModel",
            "_view_count": null,
            "_view_module": "@jupyter-widgets/controls",
            "_view_module_version": "1.5.0",
            "_view_name": "HBoxView",
            "box_style": "",
            "children": [
              "IPY_MODEL_2a23d6dcdbef46ef8f1e820598883efd",
              "IPY_MODEL_2bd4df978c8245c88d53cce9826e78db",
              "IPY_MODEL_89bf556123bf49e0bc5abb309bec550a"
            ],
            "layout": "IPY_MODEL_d707124f8e204da78391066744c2fc5d"
          }
        },
        "2a23d6dcdbef46ef8f1e820598883efd": {
          "model_module": "@jupyter-widgets/controls",
          "model_name": "HTMLModel",
          "model_module_version": "1.5.0",
          "state": {
            "_dom_classes": [],
            "_model_module": "@jupyter-widgets/controls",
            "_model_module_version": "1.5.0",
            "_model_name": "HTMLModel",
            "_view_count": null,
            "_view_module": "@jupyter-widgets/controls",
            "_view_module_version": "1.5.0",
            "_view_name": "HTMLView",
            "description": "",
            "description_tooltip": null,
            "layout": "IPY_MODEL_426985cd4c48411a8e2eda3e38a10f81",
            "placeholder": "​",
            "style": "IPY_MODEL_2cc3b36196ae4726a0d9d75f41209624",
            "value": "pytorch_model.bin: 100%"
          }
        },
        "2bd4df978c8245c88d53cce9826e78db": {
          "model_module": "@jupyter-widgets/controls",
          "model_name": "FloatProgressModel",
          "model_module_version": "1.5.0",
          "state": {
            "_dom_classes": [],
            "_model_module": "@jupyter-widgets/controls",
            "_model_module_version": "1.5.0",
            "_model_name": "FloatProgressModel",
            "_view_count": null,
            "_view_module": "@jupyter-widgets/controls",
            "_view_module_version": "1.5.0",
            "_view_name": "ProgressView",
            "bar_style": "success",
            "description": "",
            "description_tooltip": null,
            "layout": "IPY_MODEL_da1fc13257b94f1a89a795910ada8b0b",
            "max": 2275329241,
            "min": 0,
            "orientation": "horizontal",
            "style": "IPY_MODEL_b351dcf9581c42668d598ec25a28d82a",
            "value": 2275329241
          }
        },
        "89bf556123bf49e0bc5abb309bec550a": {
          "model_module": "@jupyter-widgets/controls",
          "model_name": "HTMLModel",
          "model_module_version": "1.5.0",
          "state": {
            "_dom_classes": [],
            "_model_module": "@jupyter-widgets/controls",
            "_model_module_version": "1.5.0",
            "_model_name": "HTMLModel",
            "_view_count": null,
            "_view_module": "@jupyter-widgets/controls",
            "_view_module_version": "1.5.0",
            "_view_name": "HTMLView",
            "description": "",
            "description_tooltip": null,
            "layout": "IPY_MODEL_1717251373ba4838bc6cb62977bb2d01",
            "placeholder": "​",
            "style": "IPY_MODEL_1bb8ec77602a49d097685d93ed8399e9",
            "value": " 2.28G/2.28G [00:08&lt;00:00, 305MB/s]"
          }
        },
        "d707124f8e204da78391066744c2fc5d": {
          "model_module": "@jupyter-widgets/base",
          "model_name": "LayoutModel",
          "model_module_version": "1.2.0",
          "state": {
            "_model_module": "@jupyter-widgets/base",
            "_model_module_version": "1.2.0",
            "_model_name": "LayoutModel",
            "_view_count": null,
            "_view_module": "@jupyter-widgets/base",
            "_view_module_version": "1.2.0",
            "_view_name": "LayoutView",
            "align_content": null,
            "align_items": null,
            "align_self": null,
            "border": null,
            "bottom": null,
            "display": null,
            "flex": null,
            "flex_flow": null,
            "grid_area": null,
            "grid_auto_columns": null,
            "grid_auto_flow": null,
            "grid_auto_rows": null,
            "grid_column": null,
            "grid_gap": null,
            "grid_row": null,
            "grid_template_areas": null,
            "grid_template_columns": null,
            "grid_template_rows": null,
            "height": null,
            "justify_content": null,
            "justify_items": null,
            "left": null,
            "margin": null,
            "max_height": null,
            "max_width": null,
            "min_height": null,
            "min_width": null,
            "object_fit": null,
            "object_position": null,
            "order": null,
            "overflow": null,
            "overflow_x": null,
            "overflow_y": null,
            "padding": null,
            "right": null,
            "top": null,
            "visibility": null,
            "width": null
          }
        },
        "426985cd4c48411a8e2eda3e38a10f81": {
          "model_module": "@jupyter-widgets/base",
          "model_name": "LayoutModel",
          "model_module_version": "1.2.0",
          "state": {
            "_model_module": "@jupyter-widgets/base",
            "_model_module_version": "1.2.0",
            "_model_name": "LayoutModel",
            "_view_count": null,
            "_view_module": "@jupyter-widgets/base",
            "_view_module_version": "1.2.0",
            "_view_name": "LayoutView",
            "align_content": null,
            "align_items": null,
            "align_self": null,
            "border": null,
            "bottom": null,
            "display": null,
            "flex": null,
            "flex_flow": null,
            "grid_area": null,
            "grid_auto_columns": null,
            "grid_auto_flow": null,
            "grid_auto_rows": null,
            "grid_column": null,
            "grid_gap": null,
            "grid_row": null,
            "grid_template_areas": null,
            "grid_template_columns": null,
            "grid_template_rows": null,
            "height": null,
            "justify_content": null,
            "justify_items": null,
            "left": null,
            "margin": null,
            "max_height": null,
            "max_width": null,
            "min_height": null,
            "min_width": null,
            "object_fit": null,
            "object_position": null,
            "order": null,
            "overflow": null,
            "overflow_x": null,
            "overflow_y": null,
            "padding": null,
            "right": null,
            "top": null,
            "visibility": null,
            "width": null
          }
        },
        "2cc3b36196ae4726a0d9d75f41209624": {
          "model_module": "@jupyter-widgets/controls",
          "model_name": "DescriptionStyleModel",
          "model_module_version": "1.5.0",
          "state": {
            "_model_module": "@jupyter-widgets/controls",
            "_model_module_version": "1.5.0",
            "_model_name": "DescriptionStyleModel",
            "_view_count": null,
            "_view_module": "@jupyter-widgets/base",
            "_view_module_version": "1.2.0",
            "_view_name": "StyleView",
            "description_width": ""
          }
        },
        "da1fc13257b94f1a89a795910ada8b0b": {
          "model_module": "@jupyter-widgets/base",
          "model_name": "LayoutModel",
          "model_module_version": "1.2.0",
          "state": {
            "_model_module": "@jupyter-widgets/base",
            "_model_module_version": "1.2.0",
            "_model_name": "LayoutModel",
            "_view_count": null,
            "_view_module": "@jupyter-widgets/base",
            "_view_module_version": "1.2.0",
            "_view_name": "LayoutView",
            "align_content": null,
            "align_items": null,
            "align_self": null,
            "border": null,
            "bottom": null,
            "display": null,
            "flex": null,
            "flex_flow": null,
            "grid_area": null,
            "grid_auto_columns": null,
            "grid_auto_flow": null,
            "grid_auto_rows": null,
            "grid_column": null,
            "grid_gap": null,
            "grid_row": null,
            "grid_template_areas": null,
            "grid_template_columns": null,
            "grid_template_rows": null,
            "height": null,
            "justify_content": null,
            "justify_items": null,
            "left": null,
            "margin": null,
            "max_height": null,
            "max_width": null,
            "min_height": null,
            "min_width": null,
            "object_fit": null,
            "object_position": null,
            "order": null,
            "overflow": null,
            "overflow_x": null,
            "overflow_y": null,
            "padding": null,
            "right": null,
            "top": null,
            "visibility": null,
            "width": null
          }
        },
        "b351dcf9581c42668d598ec25a28d82a": {
          "model_module": "@jupyter-widgets/controls",
          "model_name": "ProgressStyleModel",
          "model_module_version": "1.5.0",
          "state": {
            "_model_module": "@jupyter-widgets/controls",
            "_model_module_version": "1.5.0",
            "_model_name": "ProgressStyleModel",
            "_view_count": null,
            "_view_module": "@jupyter-widgets/base",
            "_view_module_version": "1.2.0",
            "_view_name": "StyleView",
            "bar_color": null,
            "description_width": ""
          }
        },
        "1717251373ba4838bc6cb62977bb2d01": {
          "model_module": "@jupyter-widgets/base",
          "model_name": "LayoutModel",
          "model_module_version": "1.2.0",
          "state": {
            "_model_module": "@jupyter-widgets/base",
            "_model_module_version": "1.2.0",
            "_model_name": "LayoutModel",
            "_view_count": null,
            "_view_module": "@jupyter-widgets/base",
            "_view_module_version": "1.2.0",
            "_view_name": "LayoutView",
            "align_content": null,
            "align_items": null,
            "align_self": null,
            "border": null,
            "bottom": null,
            "display": null,
            "flex": null,
            "flex_flow": null,
            "grid_area": null,
            "grid_auto_columns": null,
            "grid_auto_flow": null,
            "grid_auto_rows": null,
            "grid_column": null,
            "grid_gap": null,
            "grid_row": null,
            "grid_template_areas": null,
            "grid_template_columns": null,
            "grid_template_rows": null,
            "height": null,
            "justify_content": null,
            "justify_items": null,
            "left": null,
            "margin": null,
            "max_height": null,
            "max_width": null,
            "min_height": null,
            "min_width": null,
            "object_fit": null,
            "object_position": null,
            "order": null,
            "overflow": null,
            "overflow_x": null,
            "overflow_y": null,
            "padding": null,
            "right": null,
            "top": null,
            "visibility": null,
            "width": null
          }
        },
        "1bb8ec77602a49d097685d93ed8399e9": {
          "model_module": "@jupyter-widgets/controls",
          "model_name": "DescriptionStyleModel",
          "model_module_version": "1.5.0",
          "state": {
            "_model_module": "@jupyter-widgets/controls",
            "_model_module_version": "1.5.0",
            "_model_name": "DescriptionStyleModel",
            "_view_count": null,
            "_view_module": "@jupyter-widgets/base",
            "_view_module_version": "1.2.0",
            "_view_name": "StyleView",
            "description_width": ""
          }
        },
        "df7771aa1e0c4e1c91ba09b37904e8ce": {
          "model_module": "@jupyter-widgets/controls",
          "model_name": "HBoxModel",
          "model_module_version": "1.5.0",
          "state": {
            "_dom_classes": [],
            "_model_module": "@jupyter-widgets/controls",
            "_model_module_version": "1.5.0",
            "_model_name": "HBoxModel",
            "_view_count": null,
            "_view_module": "@jupyter-widgets/controls",
            "_view_module_version": "1.5.0",
            "_view_name": "HBoxView",
            "box_style": "",
            "children": [
              "IPY_MODEL_daa32459192545d897abfbadaf57f979",
              "IPY_MODEL_57f5a7709fd64126b0c28520c60b4cbd",
              "IPY_MODEL_4a092ef30d054b5887674a37d109199b"
            ],
            "layout": "IPY_MODEL_de182f3f0336418f8bfffefc34e085f7"
          }
        },
        "daa32459192545d897abfbadaf57f979": {
          "model_module": "@jupyter-widgets/controls",
          "model_name": "HTMLModel",
          "model_module_version": "1.5.0",
          "state": {
            "_dom_classes": [],
            "_model_module": "@jupyter-widgets/controls",
            "_model_module_version": "1.5.0",
            "_model_name": "HTMLModel",
            "_view_count": null,
            "_view_module": "@jupyter-widgets/controls",
            "_view_module_version": "1.5.0",
            "_view_name": "HTMLView",
            "description": "",
            "description_tooltip": null,
            "layout": "IPY_MODEL_3294cb5069b846fd85209c60e125356e",
            "placeholder": "​",
            "style": "IPY_MODEL_252fd9787c8346e8ac4fdff9ecf423f4",
            "value": "generation_config.json: 100%"
          }
        },
        "57f5a7709fd64126b0c28520c60b4cbd": {
          "model_module": "@jupyter-widgets/controls",
          "model_name": "FloatProgressModel",
          "model_module_version": "1.5.0",
          "state": {
            "_dom_classes": [],
            "_model_module": "@jupyter-widgets/controls",
            "_model_module_version": "1.5.0",
            "_model_name": "FloatProgressModel",
            "_view_count": null,
            "_view_module": "@jupyter-widgets/controls",
            "_view_module_version": "1.5.0",
            "_view_name": "ProgressView",
            "bar_style": "success",
            "description": "",
            "description_tooltip": null,
            "layout": "IPY_MODEL_84969687590345ca929d9bd1fdaeac22",
            "max": 259,
            "min": 0,
            "orientation": "horizontal",
            "style": "IPY_MODEL_e0fd0d712f524d819fafdeada334b1cd",
            "value": 259
          }
        },
        "4a092ef30d054b5887674a37d109199b": {
          "model_module": "@jupyter-widgets/controls",
          "model_name": "HTMLModel",
          "model_module_version": "1.5.0",
          "state": {
            "_dom_classes": [],
            "_model_module": "@jupyter-widgets/controls",
            "_model_module_version": "1.5.0",
            "_model_name": "HTMLModel",
            "_view_count": null,
            "_view_module": "@jupyter-widgets/controls",
            "_view_module_version": "1.5.0",
            "_view_name": "HTMLView",
            "description": "",
            "description_tooltip": null,
            "layout": "IPY_MODEL_1298458fa05f4d959b31b189a0c5f83c",
            "placeholder": "​",
            "style": "IPY_MODEL_0dd214123f64459dbdd2fd882b539a7a",
            "value": " 259/259 [00:00&lt;00:00, 23.3kB/s]"
          }
        },
        "de182f3f0336418f8bfffefc34e085f7": {
          "model_module": "@jupyter-widgets/base",
          "model_name": "LayoutModel",
          "model_module_version": "1.2.0",
          "state": {
            "_model_module": "@jupyter-widgets/base",
            "_model_module_version": "1.2.0",
            "_model_name": "LayoutModel",
            "_view_count": null,
            "_view_module": "@jupyter-widgets/base",
            "_view_module_version": "1.2.0",
            "_view_name": "LayoutView",
            "align_content": null,
            "align_items": null,
            "align_self": null,
            "border": null,
            "bottom": null,
            "display": null,
            "flex": null,
            "flex_flow": null,
            "grid_area": null,
            "grid_auto_columns": null,
            "grid_auto_flow": null,
            "grid_auto_rows": null,
            "grid_column": null,
            "grid_gap": null,
            "grid_row": null,
            "grid_template_areas": null,
            "grid_template_columns": null,
            "grid_template_rows": null,
            "height": null,
            "justify_content": null,
            "justify_items": null,
            "left": null,
            "margin": null,
            "max_height": null,
            "max_width": null,
            "min_height": null,
            "min_width": null,
            "object_fit": null,
            "object_position": null,
            "order": null,
            "overflow": null,
            "overflow_x": null,
            "overflow_y": null,
            "padding": null,
            "right": null,
            "top": null,
            "visibility": null,
            "width": null
          }
        },
        "3294cb5069b846fd85209c60e125356e": {
          "model_module": "@jupyter-widgets/base",
          "model_name": "LayoutModel",
          "model_module_version": "1.2.0",
          "state": {
            "_model_module": "@jupyter-widgets/base",
            "_model_module_version": "1.2.0",
            "_model_name": "LayoutModel",
            "_view_count": null,
            "_view_module": "@jupyter-widgets/base",
            "_view_module_version": "1.2.0",
            "_view_name": "LayoutView",
            "align_content": null,
            "align_items": null,
            "align_self": null,
            "border": null,
            "bottom": null,
            "display": null,
            "flex": null,
            "flex_flow": null,
            "grid_area": null,
            "grid_auto_columns": null,
            "grid_auto_flow": null,
            "grid_auto_rows": null,
            "grid_column": null,
            "grid_gap": null,
            "grid_row": null,
            "grid_template_areas": null,
            "grid_template_columns": null,
            "grid_template_rows": null,
            "height": null,
            "justify_content": null,
            "justify_items": null,
            "left": null,
            "margin": null,
            "max_height": null,
            "max_width": null,
            "min_height": null,
            "min_width": null,
            "object_fit": null,
            "object_position": null,
            "order": null,
            "overflow": null,
            "overflow_x": null,
            "overflow_y": null,
            "padding": null,
            "right": null,
            "top": null,
            "visibility": null,
            "width": null
          }
        },
        "252fd9787c8346e8ac4fdff9ecf423f4": {
          "model_module": "@jupyter-widgets/controls",
          "model_name": "DescriptionStyleModel",
          "model_module_version": "1.5.0",
          "state": {
            "_model_module": "@jupyter-widgets/controls",
            "_model_module_version": "1.5.0",
            "_model_name": "DescriptionStyleModel",
            "_view_count": null,
            "_view_module": "@jupyter-widgets/base",
            "_view_module_version": "1.2.0",
            "_view_name": "StyleView",
            "description_width": ""
          }
        },
        "84969687590345ca929d9bd1fdaeac22": {
          "model_module": "@jupyter-widgets/base",
          "model_name": "LayoutModel",
          "model_module_version": "1.2.0",
          "state": {
            "_model_module": "@jupyter-widgets/base",
            "_model_module_version": "1.2.0",
            "_model_name": "LayoutModel",
            "_view_count": null,
            "_view_module": "@jupyter-widgets/base",
            "_view_module_version": "1.2.0",
            "_view_name": "LayoutView",
            "align_content": null,
            "align_items": null,
            "align_self": null,
            "border": null,
            "bottom": null,
            "display": null,
            "flex": null,
            "flex_flow": null,
            "grid_area": null,
            "grid_auto_columns": null,
            "grid_auto_flow": null,
            "grid_auto_rows": null,
            "grid_column": null,
            "grid_gap": null,
            "grid_row": null,
            "grid_template_areas": null,
            "grid_template_columns": null,
            "grid_template_rows": null,
            "height": null,
            "justify_content": null,
            "justify_items": null,
            "left": null,
            "margin": null,
            "max_height": null,
            "max_width": null,
            "min_height": null,
            "min_width": null,
            "object_fit": null,
            "object_position": null,
            "order": null,
            "overflow": null,
            "overflow_x": null,
            "overflow_y": null,
            "padding": null,
            "right": null,
            "top": null,
            "visibility": null,
            "width": null
          }
        },
        "e0fd0d712f524d819fafdeada334b1cd": {
          "model_module": "@jupyter-widgets/controls",
          "model_name": "ProgressStyleModel",
          "model_module_version": "1.5.0",
          "state": {
            "_model_module": "@jupyter-widgets/controls",
            "_model_module_version": "1.5.0",
            "_model_name": "ProgressStyleModel",
            "_view_count": null,
            "_view_module": "@jupyter-widgets/base",
            "_view_module_version": "1.2.0",
            "_view_name": "StyleView",
            "bar_color": null,
            "description_width": ""
          }
        },
        "1298458fa05f4d959b31b189a0c5f83c": {
          "model_module": "@jupyter-widgets/base",
          "model_name": "LayoutModel",
          "model_module_version": "1.2.0",
          "state": {
            "_model_module": "@jupyter-widgets/base",
            "_model_module_version": "1.2.0",
            "_model_name": "LayoutModel",
            "_view_count": null,
            "_view_module": "@jupyter-widgets/base",
            "_view_module_version": "1.2.0",
            "_view_name": "LayoutView",
            "align_content": null,
            "align_items": null,
            "align_self": null,
            "border": null,
            "bottom": null,
            "display": null,
            "flex": null,
            "flex_flow": null,
            "grid_area": null,
            "grid_auto_columns": null,
            "grid_auto_flow": null,
            "grid_auto_rows": null,
            "grid_column": null,
            "grid_gap": null,
            "grid_row": null,
            "grid_template_areas": null,
            "grid_template_columns": null,
            "grid_template_rows": null,
            "height": null,
            "justify_content": null,
            "justify_items": null,
            "left": null,
            "margin": null,
            "max_height": null,
            "max_width": null,
            "min_height": null,
            "min_width": null,
            "object_fit": null,
            "object_position": null,
            "order": null,
            "overflow": null,
            "overflow_x": null,
            "overflow_y": null,
            "padding": null,
            "right": null,
            "top": null,
            "visibility": null,
            "width": null
          }
        },
        "0dd214123f64459dbdd2fd882b539a7a": {
          "model_module": "@jupyter-widgets/controls",
          "model_name": "DescriptionStyleModel",
          "model_module_version": "1.5.0",
          "state": {
            "_model_module": "@jupyter-widgets/controls",
            "_model_module_version": "1.5.0",
            "_model_name": "DescriptionStyleModel",
            "_view_count": null,
            "_view_module": "@jupyter-widgets/base",
            "_view_module_version": "1.2.0",
            "_view_name": "StyleView",
            "description_width": ""
          }
        },
        "80ac358cb1444731b6580271d1381ce7": {
          "model_module": "@jupyter-widgets/controls",
          "model_name": "HBoxModel",
          "model_module_version": "1.5.0",
          "state": {
            "_dom_classes": [],
            "_model_module": "@jupyter-widgets/controls",
            "_model_module_version": "1.5.0",
            "_model_name": "HBoxModel",
            "_view_count": null,
            "_view_module": "@jupyter-widgets/controls",
            "_view_module_version": "1.5.0",
            "_view_name": "HBoxView",
            "box_style": "",
            "children": [
              "IPY_MODEL_d321ec1719b14dbd8a3ab760108d9c8c",
              "IPY_MODEL_632466bab1194360b380ffe67c4938ae",
              "IPY_MODEL_301f72f361934e0387f52a6989c69c52"
            ],
            "layout": "IPY_MODEL_615d17a33c0e4ee7993d2e5555a33f14"
          }
        },
        "d321ec1719b14dbd8a3ab760108d9c8c": {
          "model_module": "@jupyter-widgets/controls",
          "model_name": "HTMLModel",
          "model_module_version": "1.5.0",
          "state": {
            "_dom_classes": [],
            "_model_module": "@jupyter-widgets/controls",
            "_model_module_version": "1.5.0",
            "_model_name": "HTMLModel",
            "_view_count": null,
            "_view_module": "@jupyter-widgets/controls",
            "_view_module_version": "1.5.0",
            "_view_name": "HTMLView",
            "description": "",
            "description_tooltip": null,
            "layout": "IPY_MODEL_1e99d2eca0cb4b77980529453500f74a",
            "placeholder": "​",
            "style": "IPY_MODEL_087bcffd003d4c4eb68f50a210ece8bf",
            "value": "Downloading builder script: 100%"
          }
        },
        "632466bab1194360b380ffe67c4938ae": {
          "model_module": "@jupyter-widgets/controls",
          "model_name": "FloatProgressModel",
          "model_module_version": "1.5.0",
          "state": {
            "_dom_classes": [],
            "_model_module": "@jupyter-widgets/controls",
            "_model_module_version": "1.5.0",
            "_model_name": "FloatProgressModel",
            "_view_count": null,
            "_view_module": "@jupyter-widgets/controls",
            "_view_module_version": "1.5.0",
            "_view_name": "ProgressView",
            "bar_style": "success",
            "description": "",
            "description_tooltip": null,
            "layout": "IPY_MODEL_b8f3c041c1f24cf386192d87ec3b9aed",
            "max": 6270,
            "min": 0,
            "orientation": "horizontal",
            "style": "IPY_MODEL_e6a1ffbc4aa647b5818950975ee1327b",
            "value": 6270
          }
        },
        "301f72f361934e0387f52a6989c69c52": {
          "model_module": "@jupyter-widgets/controls",
          "model_name": "HTMLModel",
          "model_module_version": "1.5.0",
          "state": {
            "_dom_classes": [],
            "_model_module": "@jupyter-widgets/controls",
            "_model_module_version": "1.5.0",
            "_model_name": "HTMLModel",
            "_view_count": null,
            "_view_module": "@jupyter-widgets/controls",
            "_view_module_version": "1.5.0",
            "_view_name": "HTMLView",
            "description": "",
            "description_tooltip": null,
            "layout": "IPY_MODEL_fade5a80b29144f5bce1471be3d853a2",
            "placeholder": "​",
            "style": "IPY_MODEL_768c264ea7f2415b8d6c204fcec0b717",
            "value": " 6.27k/6.27k [00:00&lt;00:00, 477kB/s]"
          }
        },
        "615d17a33c0e4ee7993d2e5555a33f14": {
          "model_module": "@jupyter-widgets/base",
          "model_name": "LayoutModel",
          "model_module_version": "1.2.0",
          "state": {
            "_model_module": "@jupyter-widgets/base",
            "_model_module_version": "1.2.0",
            "_model_name": "LayoutModel",
            "_view_count": null,
            "_view_module": "@jupyter-widgets/base",
            "_view_module_version": "1.2.0",
            "_view_name": "LayoutView",
            "align_content": null,
            "align_items": null,
            "align_self": null,
            "border": null,
            "bottom": null,
            "display": null,
            "flex": null,
            "flex_flow": null,
            "grid_area": null,
            "grid_auto_columns": null,
            "grid_auto_flow": null,
            "grid_auto_rows": null,
            "grid_column": null,
            "grid_gap": null,
            "grid_row": null,
            "grid_template_areas": null,
            "grid_template_columns": null,
            "grid_template_rows": null,
            "height": null,
            "justify_content": null,
            "justify_items": null,
            "left": null,
            "margin": null,
            "max_height": null,
            "max_width": null,
            "min_height": null,
            "min_width": null,
            "object_fit": null,
            "object_position": null,
            "order": null,
            "overflow": null,
            "overflow_x": null,
            "overflow_y": null,
            "padding": null,
            "right": null,
            "top": null,
            "visibility": null,
            "width": null
          }
        },
        "1e99d2eca0cb4b77980529453500f74a": {
          "model_module": "@jupyter-widgets/base",
          "model_name": "LayoutModel",
          "model_module_version": "1.2.0",
          "state": {
            "_model_module": "@jupyter-widgets/base",
            "_model_module_version": "1.2.0",
            "_model_name": "LayoutModel",
            "_view_count": null,
            "_view_module": "@jupyter-widgets/base",
            "_view_module_version": "1.2.0",
            "_view_name": "LayoutView",
            "align_content": null,
            "align_items": null,
            "align_self": null,
            "border": null,
            "bottom": null,
            "display": null,
            "flex": null,
            "flex_flow": null,
            "grid_area": null,
            "grid_auto_columns": null,
            "grid_auto_flow": null,
            "grid_auto_rows": null,
            "grid_column": null,
            "grid_gap": null,
            "grid_row": null,
            "grid_template_areas": null,
            "grid_template_columns": null,
            "grid_template_rows": null,
            "height": null,
            "justify_content": null,
            "justify_items": null,
            "left": null,
            "margin": null,
            "max_height": null,
            "max_width": null,
            "min_height": null,
            "min_width": null,
            "object_fit": null,
            "object_position": null,
            "order": null,
            "overflow": null,
            "overflow_x": null,
            "overflow_y": null,
            "padding": null,
            "right": null,
            "top": null,
            "visibility": null,
            "width": null
          }
        },
        "087bcffd003d4c4eb68f50a210ece8bf": {
          "model_module": "@jupyter-widgets/controls",
          "model_name": "DescriptionStyleModel",
          "model_module_version": "1.5.0",
          "state": {
            "_model_module": "@jupyter-widgets/controls",
            "_model_module_version": "1.5.0",
            "_model_name": "DescriptionStyleModel",
            "_view_count": null,
            "_view_module": "@jupyter-widgets/base",
            "_view_module_version": "1.2.0",
            "_view_name": "StyleView",
            "description_width": ""
          }
        },
        "b8f3c041c1f24cf386192d87ec3b9aed": {
          "model_module": "@jupyter-widgets/base",
          "model_name": "LayoutModel",
          "model_module_version": "1.2.0",
          "state": {
            "_model_module": "@jupyter-widgets/base",
            "_model_module_version": "1.2.0",
            "_model_name": "LayoutModel",
            "_view_count": null,
            "_view_module": "@jupyter-widgets/base",
            "_view_module_version": "1.2.0",
            "_view_name": "LayoutView",
            "align_content": null,
            "align_items": null,
            "align_self": null,
            "border": null,
            "bottom": null,
            "display": null,
            "flex": null,
            "flex_flow": null,
            "grid_area": null,
            "grid_auto_columns": null,
            "grid_auto_flow": null,
            "grid_auto_rows": null,
            "grid_column": null,
            "grid_gap": null,
            "grid_row": null,
            "grid_template_areas": null,
            "grid_template_columns": null,
            "grid_template_rows": null,
            "height": null,
            "justify_content": null,
            "justify_items": null,
            "left": null,
            "margin": null,
            "max_height": null,
            "max_width": null,
            "min_height": null,
            "min_width": null,
            "object_fit": null,
            "object_position": null,
            "order": null,
            "overflow": null,
            "overflow_x": null,
            "overflow_y": null,
            "padding": null,
            "right": null,
            "top": null,
            "visibility": null,
            "width": null
          }
        },
        "e6a1ffbc4aa647b5818950975ee1327b": {
          "model_module": "@jupyter-widgets/controls",
          "model_name": "ProgressStyleModel",
          "model_module_version": "1.5.0",
          "state": {
            "_model_module": "@jupyter-widgets/controls",
            "_model_module_version": "1.5.0",
            "_model_name": "ProgressStyleModel",
            "_view_count": null,
            "_view_module": "@jupyter-widgets/base",
            "_view_module_version": "1.2.0",
            "_view_name": "StyleView",
            "bar_color": null,
            "description_width": ""
          }
        },
        "fade5a80b29144f5bce1471be3d853a2": {
          "model_module": "@jupyter-widgets/base",
          "model_name": "LayoutModel",
          "model_module_version": "1.2.0",
          "state": {
            "_model_module": "@jupyter-widgets/base",
            "_model_module_version": "1.2.0",
            "_model_name": "LayoutModel",
            "_view_count": null,
            "_view_module": "@jupyter-widgets/base",
            "_view_module_version": "1.2.0",
            "_view_name": "LayoutView",
            "align_content": null,
            "align_items": null,
            "align_self": null,
            "border": null,
            "bottom": null,
            "display": null,
            "flex": null,
            "flex_flow": null,
            "grid_area": null,
            "grid_auto_columns": null,
            "grid_auto_flow": null,
            "grid_auto_rows": null,
            "grid_column": null,
            "grid_gap": null,
            "grid_row": null,
            "grid_template_areas": null,
            "grid_template_columns": null,
            "grid_template_rows": null,
            "height": null,
            "justify_content": null,
            "justify_items": null,
            "left": null,
            "margin": null,
            "max_height": null,
            "max_width": null,
            "min_height": null,
            "min_width": null,
            "object_fit": null,
            "object_position": null,
            "order": null,
            "overflow": null,
            "overflow_x": null,
            "overflow_y": null,
            "padding": null,
            "right": null,
            "top": null,
            "visibility": null,
            "width": null
          }
        },
        "768c264ea7f2415b8d6c204fcec0b717": {
          "model_module": "@jupyter-widgets/controls",
          "model_name": "DescriptionStyleModel",
          "model_module_version": "1.5.0",
          "state": {
            "_model_module": "@jupyter-widgets/controls",
            "_model_module_version": "1.5.0",
            "_model_name": "DescriptionStyleModel",
            "_view_count": null,
            "_view_module": "@jupyter-widgets/base",
            "_view_module_version": "1.2.0",
            "_view_name": "StyleView",
            "description_width": ""
          }
        }
      }
    }
  },
  "nbformat": 4,
  "nbformat_minor": 0
}